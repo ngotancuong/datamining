{
  "cells": [
    {
      "cell_type": "markdown",
      "metadata": {
        "id": "view-in-github",
        "colab_type": "text"
      },
      "source": [
        "<a href=\"https://colab.research.google.com/github/ngotancuong/datamining/blob/main/Lab_7a_Convolutional_Neural_Networks.ipynb\" target=\"_parent\"><img src=\"https://colab.research.google.com/assets/colab-badge.svg\" alt=\"Open In Colab\"/></a>"
      ]
    },
    {
      "cell_type": "markdown",
      "metadata": {
        "id": "KWKcmf8evatg"
      },
      "source": [
        "# Lab 7a: Convolutional neural nets\n",
        "In this lab we consider the [CIFAR dataset](https://www.openml.org/d/40926), but model it using convolutional neural networks instead of linear models.\n",
        "There is no separate tutorial, but you can find lots of examples in the lecture notebook on convolutional neural networks. If you are very confident, you can also try to solve these exercises using PyTorch instead of TensorFlow."
      ]
    },
    {
      "cell_type": "markdown",
      "metadata": {
        "id": "lDmq-B50vatm"
      },
      "source": [
        "Tip: You can run these exercises faster on a GPU (but they will also run fine on a CPU). If you do not have a GPU locally, you can upload this notebook to Google Colab. You can enable GPU support at “runtime” -> “change runtime type”."
      ]
    },
    {
      "cell_type": "code",
      "execution_count": null,
      "metadata": {
        "colab": {
          "base_uri": "https://localhost:8080/"
        },
        "id": "J6dS0Pcjvatp",
        "outputId": "5a068081-edfc-4c0e-98b8-06504df9d8c0"
      },
      "outputs": [
        {
          "output_type": "stream",
          "name": "stdout",
          "text": [
            "Collecting openml\n",
            "  Downloading openml-0.14.1.tar.gz (131 kB)\n",
            "\u001b[?25l     \u001b[90m━━━━━━━━━━━━━━━━━━━━━━━━━━━━━━━━━━━━━━━━\u001b[0m \u001b[32m0.0/131.3 kB\u001b[0m \u001b[31m?\u001b[0m eta \u001b[36m-:--:--\u001b[0m\r\u001b[2K     \u001b[91m━━━━━━━━━━━━━━━━━━━━━━━━━━━━━━━━━━━━\u001b[0m\u001b[90m╺\u001b[0m\u001b[90m━━\u001b[0m \u001b[32m122.9/131.3 kB\u001b[0m \u001b[31m3.7 MB/s\u001b[0m eta \u001b[36m0:00:01\u001b[0m\r\u001b[2K     \u001b[90m━━━━━━━━━━━━━━━━━━━━━━━━━━━━━━━━━━━━━━━\u001b[0m \u001b[32m131.3/131.3 kB\u001b[0m \u001b[31m3.2 MB/s\u001b[0m eta \u001b[36m0:00:00\u001b[0m\n",
            "\u001b[?25h  Preparing metadata (setup.py) ... \u001b[?25l\u001b[?25hdone\n",
            "Collecting liac-arff>=2.4.0 (from openml)\n",
            "  Downloading liac-arff-2.5.0.tar.gz (13 kB)\n",
            "  Preparing metadata (setup.py) ... \u001b[?25l\u001b[?25hdone\n",
            "Collecting xmltodict (from openml)\n",
            "  Downloading xmltodict-0.13.0-py2.py3-none-any.whl (10.0 kB)\n",
            "Requirement already satisfied: requests in /usr/local/lib/python3.10/dist-packages (from openml) (2.31.0)\n",
            "Requirement already satisfied: scikit-learn>=0.18 in /usr/local/lib/python3.10/dist-packages (from openml) (1.2.2)\n",
            "Requirement already satisfied: python-dateutil in /usr/local/lib/python3.10/dist-packages (from openml) (2.8.2)\n",
            "Requirement already satisfied: pandas>=1.0.0 in /usr/local/lib/python3.10/dist-packages (from openml) (1.5.3)\n",
            "Requirement already satisfied: scipy>=0.13.3 in /usr/local/lib/python3.10/dist-packages (from openml) (1.11.2)\n",
            "Requirement already satisfied: numpy>=1.6.2 in /usr/local/lib/python3.10/dist-packages (from openml) (1.23.5)\n",
            "Collecting minio (from openml)\n",
            "  Downloading minio-7.1.16-py3-none-any.whl (77 kB)\n",
            "\u001b[2K     \u001b[90m━━━━━━━━━━━━━━━━━━━━━━━━━━━━━━━━━━━━━━━━\u001b[0m \u001b[32m77.9/77.9 kB\u001b[0m \u001b[31m6.2 MB/s\u001b[0m eta \u001b[36m0:00:00\u001b[0m\n",
            "\u001b[?25hRequirement already satisfied: pyarrow in /usr/local/lib/python3.10/dist-packages (from openml) (9.0.0)\n",
            "Requirement already satisfied: pytz>=2020.1 in /usr/local/lib/python3.10/dist-packages (from pandas>=1.0.0->openml) (2023.3.post1)\n",
            "Requirement already satisfied: six>=1.5 in /usr/local/lib/python3.10/dist-packages (from python-dateutil->openml) (1.16.0)\n",
            "Requirement already satisfied: joblib>=1.1.1 in /usr/local/lib/python3.10/dist-packages (from scikit-learn>=0.18->openml) (1.3.2)\n",
            "Requirement already satisfied: threadpoolctl>=2.0.0 in /usr/local/lib/python3.10/dist-packages (from scikit-learn>=0.18->openml) (3.2.0)\n",
            "Requirement already satisfied: certifi in /usr/local/lib/python3.10/dist-packages (from minio->openml) (2023.7.22)\n",
            "Requirement already satisfied: urllib3 in /usr/local/lib/python3.10/dist-packages (from minio->openml) (2.0.4)\n",
            "Requirement already satisfied: charset-normalizer<4,>=2 in /usr/local/lib/python3.10/dist-packages (from requests->openml) (3.2.0)\n",
            "Requirement already satisfied: idna<4,>=2.5 in /usr/local/lib/python3.10/dist-packages (from requests->openml) (3.4)\n",
            "Building wheels for collected packages: openml, liac-arff\n",
            "  Building wheel for openml (setup.py) ... \u001b[?25l\u001b[?25hdone\n",
            "  Created wheel for openml: filename=openml-0.14.1-py3-none-any.whl size=146923 sha256=534a5c6ae3e40e5caa9856a8c699f3f5a554858dd3d26db402330a0a9fde3a3f\n",
            "  Stored in directory: /root/.cache/pip/wheels/75/bc/fd/739778254a2881ef96b139d0aaf60c6d4f9130bb1459b48f10\n",
            "  Building wheel for liac-arff (setup.py) ... \u001b[?25l\u001b[?25hdone\n",
            "  Created wheel for liac-arff: filename=liac_arff-2.5.0-py3-none-any.whl size=11717 sha256=dcbd20b250cfcdddd6195728c7edcf560fedfe4ac88415cea8d710861e04f551\n",
            "  Stored in directory: /root/.cache/pip/wheels/5d/2a/9c/3895d9617f8f49a0883ba686326d598e78a1c2f54fe3cae86d\n",
            "Successfully built openml liac-arff\n",
            "Installing collected packages: xmltodict, minio, liac-arff, openml\n",
            "Successfully installed liac-arff-2.5.0 minio-7.1.16 openml-0.14.1 xmltodict-0.13.0\n"
          ]
        }
      ],
      "source": [
        "# Auto-setup when running on Google Colab\n",
        "if 'google.colab' in str(get_ipython()):\n",
        "    !pip install openml\n",
        "\n",
        "# General imports\n",
        "%matplotlib inline\n",
        "import numpy as np\n",
        "import pandas as pd\n",
        "import matplotlib.pyplot as plt\n",
        "import openml as oml\n",
        "import tensorflow as tf"
      ]
    },
    {
      "cell_type": "code",
      "execution_count": null,
      "metadata": {
        "id": "fgFXyOrkvs57"
      },
      "outputs": [],
      "source": [
        "# Uncomment the next line if you run on Colab\n",
        "#!pip install --quiet openml"
      ]
    },
    {
      "cell_type": "code",
      "execution_count": null,
      "metadata": {
        "id": "RuFLiSvWwUPE"
      },
      "outputs": [],
      "source": [
        "%matplotlib inline\n",
        "import openml as oml\n",
        "import matplotlib.pyplot as plt"
      ]
    },
    {
      "cell_type": "code",
      "execution_count": null,
      "metadata": {
        "colab": {
          "base_uri": "https://localhost:8080/"
        },
        "id": "LAXN17rYvat6",
        "outputId": "92645da0-ff5c-4854-e113-2852998ba8fe"
      },
      "outputs": [
        {
          "output_type": "stream",
          "name": "stderr",
          "text": [
            "/usr/local/lib/python3.10/dist-packages/openml/datasets/functions.py:438: FutureWarning: Starting from Version 0.15 `download_data`, `download_qualities`, and `download_features_meta_data` will all be ``False`` instead of ``True`` by default to enable lazy loading. To disable this message until version 0.15 explicitly set `download_data`, `download_qualities`, and `download_features_meta_data` to a bool while calling `get_dataset`.\n",
            "  warnings.warn(\n",
            "<ipython-input-3-05bfc8ff5f0e>:5: FutureWarning: Support for `dataset_format='array'` will be removed in 0.15,start using `dataset_format='dataframe' to ensure your code will continue to work. You can use the dataframe's `to_numpy` function to continue using numpy arrays.\n",
            "  X, y, _, _ = cifar.get_data(target=cifar.default_target_attribute, dataset_format='array');\n"
          ]
        }
      ],
      "source": [
        "# Download CIFAR data. Takes a while the first time.\n",
        "# This version returns 3x32x32 resolution images.\n",
        "# If you feel like it, repeat the exercises with the 96x96x3 resolution version by using ID 41103\n",
        "cifar = oml.datasets.get_dataset(40926)\n",
        "X, y, _, _ = cifar.get_data(target=cifar.default_target_attribute, dataset_format='array');\n",
        "cifar_classes = {0: \"airplane\", 1: \"automobile\", 2: \"bird\", 3: \"cat\", 4: \"deer\",\n",
        "                 5: \"dog\", 6: \"frog\", 7: \"horse\", 8: \"ship\", 9: \"truck\"}"
      ]
    },
    {
      "cell_type": "code",
      "execution_count": null,
      "metadata": {
        "id": "Cr2I9xdO-Y26"
      },
      "outputs": [],
      "source": [
        "# The dataset (40926) is in a weird 3x32x32 format, we need to reshape and transpose\n",
        "Xr = X.reshape((len(X),3,32,32)).transpose(0,2,3,1)"
      ]
    },
    {
      "cell_type": "code",
      "execution_count": null,
      "metadata": {
        "colab": {
          "base_uri": "https://localhost:8080/",
          "height": 190
        },
        "id": "9fZymsAzvauB",
        "outputId": "00345902-7170-4931-bb41-33abb30e6bb8"
      },
      "outputs": [
        {
          "output_type": "display_data",
          "data": {
            "text/plain": [
              "<Figure size 1000x500 with 5 Axes>"
            ],
            "image/png": "[encoded data removed]"
          },
          "metadata": {}
        }
      ],
      "source": [
        "# Take some random examples, reshape to a 32x32 image and plot\n",
        "from random import randint\n",
        "fig, axes = plt.subplots(1, 5,  figsize=(10, 5))\n",
        "for i in range(5):\n",
        "    n = randint(0,len(Xr))\n",
        "    # The data is stored in a 3x32x32 format, so we need to transpose it\n",
        "    axes[i].imshow(Xr[n]/255)\n",
        "    axes[i].set_xlabel((cifar_classes[int(y[n])]))\n",
        "    axes[i].set_xticks(()), axes[i].set_yticks(())\n",
        "plt.show();"
      ]
    },
    {
      "cell_type": "markdown",
      "metadata": {
        "id": "wrF5VXwyvauJ"
      },
      "source": [
        "## Exercise 1: A simple model\n",
        "* Split the data into 80% training and 20% validation sets\n",
        "* Normalize the data to [0,1]\n",
        "* Build a ConvNet with 3 convolutional layers interspersed with MaxPooling layers, and one dense layer.\n",
        "    * Use at least 32 3x3 filters in the first layer and ReLU activation.\n",
        "    * Otherwise, make rational design choices or experiment a bit to see what works.\n",
        "* You should at least get 60% accuracy.\n",
        "* For training, you can try batch sizes of 64, and 20-50 epochs, but feel free to explore this as well\n",
        "* Plot and interpret the learning curves. Is the model overfitting? How could you improve it further?"
      ]
    },
    {
      "cell_type": "markdown",
      "metadata": {
        "id": "rORbf0BwU6nj"
      },
      "source": [
        "## Exercise 2: VGG-like model\n",
        "* Implement a simplified VGG model by building 3 'blocks' of 2 convolutional layers each\n",
        "* Do MaxPooling after each block\n",
        "* The first block should use at least 32 filters, later blocks should use more\n",
        "* You can use 3x3 filters\n",
        "* Use zero-padding to be able to build a deeper model (see the `padding` attribute)\n",
        "* Use a dense layer with at least 128 hidden nodes.\n",
        "* You can use ReLU activations everywhere (where it makes sense)\n",
        "* Plot and interpret the learning curves\n"
      ]
    },
    {
      "cell_type": "markdown",
      "metadata": {
        "id": "vqDMibf9XXh4"
      },
      "source": [
        "## Exercise 3: Regularization\n",
        "* Explore different ways to regularize your VGG-like model\n",
        "  * Try adding some dropout after every MaxPooling and Dense layer.\n",
        "    * What are good Dropout rates? Try a fixed Dropout rate, or increase the rates in the deeper layers.\n",
        "  * Try batch normalization together with Dropout\n",
        "    * Think about where batch normalization would make sense\n",
        "* Plot and interpret the learning curves\n"
      ]
    },
    {
      "cell_type": "markdown",
      "metadata": {
        "id": "0hS0eHlPaERh"
      },
      "source": [
        "## Exercise 4: Data Augmentation\n",
        "* Perform image augmentation (rotation, shift, shear, zoom, flip,...). You can use the ImageDataGenerator for this.\n",
        "* What is the effect? What is the effect with and without Dropout?\n",
        "* Plot and interpret the learning curves\n"
      ]
    },
    {
      "cell_type": "markdown",
      "metadata": {
        "id": "j81ECavVvawS"
      },
      "source": [
        "## Exercise 5: Interpret the misclassifications\n",
        "Chances are that even your best model is not yet perfect. It is important to understand what kind of errors it still makes.\n",
        "* Run the test images through the network and detect all misclassified ones\n",
        "* Interpret some of the misclassifications. Are these misclassifications to be expected?\n",
        "* Compute the confusion matrix. Which classes are often confused?"
      ]
    },
    {
      "cell_type": "markdown",
      "metadata": {
        "id": "_J2WnCuvvaxj"
      },
      "source": [
        "## Exercise 6: Interpret the model\n",
        "Retrain your best model on all the data. Next, retrieve and visualize the activations (feature maps) for every filter for every convolutional layer, or at least for a few filters for every layer. Tip: see the course notebooks for examples on how to do this.\n",
        "\n",
        "Interpret the results. Is your model indeed learning something useful?"
      ]
    },
    {
      "cell_type": "markdown",
      "metadata": {
        "id": "Sl4q-KrSjmeE"
      },
      "source": [
        "## Optional: Take it a step further\n",
        "* Repeat the exercises, but now use a [higher-resolution version of the CIFAR dataset](https://www.openml.org/d/40926) (with OpenML ID 41103), or another [version with 100 classes](https://www.openml.org/d/41983) (with OpenML ID 41983). Good luck!\n"
      ]
    }
  ],
  "metadata": {
    "accelerator": "GPU",
    "anaconda-cloud": {},
    "colab": {
      "machine_shape": "hm",
      "provenance": [],
      "include_colab_link": true
    },
    "hide_input": false,
    "kernelspec": {
      "display_name": "Python 3 (ipykernel)",
      "language": "python",
      "name": "python3"
    },
    "language_info": {
      "codemirror_mode": {
        "name": "ipython",
        "version": 3
      },
      "file_extension": ".py",
      "mimetype": "text/x-python",
      "name": "python",
      "nbconvert_exporter": "python",
      "pygments_lexer": "ipython3",
      "version": "3.9.7"
    }
  },
  "nbformat": 4,
  "nbformat_minor": 0
}