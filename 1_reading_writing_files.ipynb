{
  "cells": [
    {
      "cell_type": "markdown",
      "metadata": {
        "id": "view-in-github",
        "colab_type": "text"
      },
      "source": [
        "<a href=\"https://colab.research.google.com/github/ngotancuong/datamining/blob/main/1_reading_writing_files.ipynb\" target=\"_parent\"><img src=\"https://colab.research.google.com/assets/colab-badge.svg\" alt=\"Open In Colab\"/></a>"
      ]
    },
    {
      "cell_type": "markdown",
      "metadata": {
        "id": "jbXBPC9dsUQA"
      },
      "source": [
        "# Data Analysis Using Python: A Beginner’s Guide Featuring NYC Open Data\n",
        "## Part 1: Reading and Writing Files in Python\n",
        "\n",
        "Mark Bauer"
      ]
    },
    {
      "cell_type": "markdown",
      "metadata": {
        "id": "fqctJFY9sUQD"
      },
      "source": [
        "Table of Contents\n",
        "=================\n",
        "\n",
        "   Getting Started\n",
        "    * Search NYC Open Data in Google  \n",
        "    * Search \"Building Footprints\" in NYC Open Data search bar  \n",
        "    * Select \"Building Footprints\" Dataset  \n",
        "    * The Building Footprints Dataset Page  \n",
        "   1. Reading In Data from Local Folde\n",
        "       * 1.1 Reading in a CSV file  \n",
        "       * 1.2 Reading in an Excel file  \n",
        "       * 1.3 Reading in a JSON file  \n",
        "       * 1.4 Reading in a Shapefile  \n",
        "       * 1.5 Reading in a GeoJSON file   \n",
        "   2. Reading In Data from the Web         \n",
        "       * 2.1 Unzipping and reading in data as csv to local folders  \n",
        "       * 2.2 Unzipping and reading in data as csv from local folder  \n",
        "       * 2.3 Unzipping and reading in data as csv in memory  \n",
        "   3. Reading In Data from NYC Open Data  \n",
        "       * 3.1 Reading in data as csv in static form  \n",
        "       * 3.2 Reading in data as json in static form  \n",
        "       * 3.3 Reading in shapefile data  \n",
        "       * 3.4 Reading in data from Socrata Open Data API (SODA)    \n",
        "   4. Writing Out Data  \n",
        "       * 4.1 Writing to a CSV file  \n",
        "       * 4.2 Writing to a Excel (xlsx) file  \n",
        "       * 4.3 Writing to a JSON file  \n",
        "       * 4.4 Writing to a Shapefile  \n",
        "   5. Conclusion"
      ]
    },
    {
      "cell_type": "markdown",
      "metadata": {
        "id": "Xf_00nP3sUQE"
      },
      "source": [
        "**Goal:** In this notebook, we will review various ways to read (load) and write (save) data from NYC Open Data. Specifically, we will focus on reading our data into a pandas dataframe.\n",
        "\n",
        "**Main Library:** [pandas](https://pandas.pydata.org/) is a fast, powerful, flexible and easy to use open source data analysis and manipulation tool, built on top of the Python programming language."
      ]
    },
    {
      "cell_type": "code",
      "execution_count": null,
      "metadata": {
        "id": "i8ctswPasUQF"
      },
      "outputs": [],
      "source": [
        "# importing libraries\n",
        "import pandas as pd\n",
        "import numpy as np\n",
        "import geopandas as gpd\n",
        "from fiona.crs import from_epsg\n",
        "import matplotlib.pyplot as plt\n",
        "import os\n",
        "import urllib\n",
        "import json\n",
        "import requests\n",
        "from io import BytesIO\n",
        "from sodapy import Socrata\n",
        "import zipfile\n",
        "from zipfile import ZipFile\n",
        "from os.path import basename\n",
        "from openpyxl import Workbook"
      ]
    },
    {
      "cell_type": "markdown",
      "metadata": {
        "id": "AMqTyt9jsUQI"
      },
      "source": [
        "Printing verions of Python modules and packages with **watermark** - the IPython magic extension.\n",
        "\n",
        "Documention for installing watermark: https://github.com/rasbt/watermark"
      ]
    },
    {
      "cell_type": "code",
      "execution_count": null,
      "metadata": {
        "id": "NNV_5e7EsUQI",
        "outputId": "b007191c-da38-432d-a8b2-b631272856c2"
      },
      "outputs": [
        {
          "name": "stdout",
          "output_type": "stream",
          "text": [
            "Python implementation: CPython\n",
            "Python version       : 3.8.13\n",
            "IPython version      : 8.4.0\n",
            "\n",
            "numpy            : 1.23.1\n",
            "pandas           : 1.4.3\n",
            "geopandas        : 0.11.1\n",
            "matplotlib.pyplot: unknown\n",
            "json             : 2.0.9\n",
            "requests         : 2.28.1\n",
            "sodapy           : 2.1.1\n",
            "\n"
          ]
        }
      ],
      "source": [
        "%load_ext watermark\n",
        "\n",
        "%watermark -v -p numpy,pandas,geopandas,matplotlib.pyplot,json,requests,sodapy"
      ]
    },
    {
      "cell_type": "markdown",
      "metadata": {
        "id": "lrMSTq8asUQK"
      },
      "source": [
        "# Getting Started: Accessing the Building Footprints Dataset\n",
        "\n",
        "I've provided sample data for you in the [data folder](https://github.com/mebauer/data-analysis-using-python/tree/master/1-reading-writing-files/data), but follow these steps to access it to follow along."
      ]
    },
    {
      "cell_type": "markdown",
      "metadata": {
        "id": "tai5HysVsUQK"
      },
      "source": [
        "## 1. Search NYC Open Data in Google"
      ]
    },
    {
      "cell_type": "markdown",
      "metadata": {
        "id": "CpryIKVrsUQL"
      },
      "source": [
        "![building_footprints](images/1.nyc-open-data-google.png)"
      ]
    },
    {
      "cell_type": "markdown",
      "metadata": {
        "id": "itdYTHTrsUQL"
      },
      "source": [
        "## 2. Search \"Building Footprints\" in NYC Open Data search bar"
      ]
    },
    {
      "cell_type": "markdown",
      "metadata": {
        "id": "ZMjiNNfLsUQL"
      },
      "source": [
        "![building_footprints](images/2.building-footprints-opendata-search.png)"
      ]
    },
    {
      "cell_type": "markdown",
      "metadata": {
        "id": "LIEXOS7BsUQL"
      },
      "source": [
        "## 3. Select \"Building Footprints\" Dataset"
      ]
    },
    {
      "cell_type": "markdown",
      "metadata": {
        "id": "7v0geXIPsUQM"
      },
      "source": [
        "![building_footprints](images/3.building-footprints-dataset-link.png)"
      ]
    },
    {
      "cell_type": "markdown",
      "metadata": {
        "id": "5ftv_BxCsUQM"
      },
      "source": [
        "## 4. The Building Footprints Dataset Page"
      ]
    },
    {
      "cell_type": "markdown",
      "metadata": {
        "id": "8hvMbSxqsUQM"
      },
      "source": [
        "![building_footprints](images/4.data-homepage.png)"
      ]
    },
    {
      "cell_type": "markdown",
      "metadata": {
        "id": "Bm75yheRsUQM"
      },
      "source": [
        "Dataset Link:\n",
        "https://data.cityofnewyork.us/Housing-Development/Building-Footprints/nqwf-w8eh\n",
        "\n",
        "Documentation/Metadata:\n",
        "https://github.com/CityOfNewYork/nyc-geo-metadata/blob/master/Metadata/Metadata_BuildingFootprints.md"
      ]
    },
    {
      "cell_type": "markdown",
      "metadata": {
        "id": "LqcKo9uysUQM"
      },
      "source": [
        "**Building Footprints Dataset Identification**\n",
        "\n",
        "> **Here are a few things to note about the data:**\n",
        ">\n",
        "> - **Purpose:** This feature class is used by the NYC DOITT GIS group to maintain and distribute an accurate 'basemap' for NYC. The basemap provides the foundation upon virtually all other geospatial data with New York.\n",
        "> - **Description:** Building footprints represent the full perimeter outline of each building as viewed from directly above. Additional attribute information maintained for each feature includes: Building Identification Number (BIN); Borough, Block, and Lot information(BBL); ground elevation at building base; roof height above ground elevation; construction year, and feature type.\n",
        "> - **Source(s):** Annually captured aerial imagery, NYC Research of DOB records, or other image resources.\n",
        "> - **Publication Dates:** **Data**: 05/03/16<br>\n",
        "> - **Last Update:** Weekly<br>\n",
        "> - **Metadata:** 12/22/2016<br>\n",
        "> - **Update Frequency:** Features are updated daily by DoITT staff and a public release is available weekly on NYC Open Data. Every four years a citywide review is made of the building footprints and features are updated photogrammetrically.\n",
        "> - **Available Formats:** File Geodatabase Feature Class as part of the Planimetrics geodatabase and individual shapefile on the [NYC Open Data Portal](https://data.cityofnewyork.us/Housing-Development/Building-Footprints/nqwf-w8eh)\n",
        "> - **Use Limitations:** Open Data policies and restrictions apply. See [Terms of Use](http://www.nyc.gov/html/data/terms.html)\n",
        "> - **Access Rights:** Public\n",
        "> - **Links:** https://data.cityofnewyork.us/Housing-Development/Building-Footprints/nqwf-w8eh\n",
        "> - **Tags:** Buildings, Building footprint, BIN, Structure\n",
        "\n",
        "**Source:**\n",
        "https://github.com/CityOfNewYork/nyc-geo-metadata/blob/master/Metadata/Metadata_BuildingFootprints.md"
      ]
    },
    {
      "cell_type": "markdown",
      "metadata": {
        "id": "AtgRqO6msUQM"
      },
      "source": [
        "# 1. Reading In Data from Local Folder\n",
        "\n",
        "Before we dive into retrieving data on NYC Open Data, let's practice reading data into a pandas dataframe from a local folder. If you'd like to see how I exported this sample data, please visit the [data-wrangling notebook](https://github.com/mebauer/data-analysis-using-python/blob/master/1-reading-writing-files/data-wrangling.ipynb)."
      ]
    },
    {
      "cell_type": "code",
      "execution_count": null,
      "metadata": {
        "id": "ydxuSdGosUQN",
        "outputId": "f1a5cd34-df61-494d-ec8a-175ffbbaecb4"
      },
      "outputs": [
        {
          "name": "stdout",
          "output_type": "stream",
          "text": [
            "README.md                output.dbf               sample-data.geojson\r\n",
            "building-footprints.csv  output.json              sample-data.gpkg\r\n",
            "nta_shape.cpg            output.prj               sample-data.json\r\n",
            "nta_shape.dbf            output.shp               sample-data.prj\r\n",
            "nta_shape.geojson        output.shx               sample-data.shp\r\n",
            "nta_shape.prj            output.xlsx              sample-data.shx\r\n",
            "nta_shape.shp            sample-buildings.zip     sample-data.xlsx\r\n",
            "nta_shape.shx            sample-data.cpg          \u001b[34munzipped-data\u001b[m\u001b[m/\r\n",
            "output.cpg               sample-data.csv\r\n",
            "output.csv               sample-data.dbf\r\n"
          ]
        }
      ],
      "source": [
        "# listing items in data folder\n",
        "%ls data/"
      ]
    },
    {
      "cell_type": "markdown",
      "metadata": {
        "id": "GAqUakiMsUQN"
      },
      "source": [
        "## 1.1 Reading in a CSV file"
      ]
    },
    {
      "cell_type": "code",
      "execution_count": null,
      "metadata": {
        "id": "NuNTpYEysUQO",
        "outputId": "e54ef203-4f56-4014-a36c-e41ed2a086bd"
      },
      "outputs": [
        {
          "data": {
            "text/html": [
              "<div>\n",
              "<style scoped>\n",
              "    .dataframe tbody tr th:only-of-type {\n",
              "        vertical-align: middle;\n",
              "    }\n",
              "\n",
              "    .dataframe tbody tr th {\n",
              "        vertical-align: top;\n",
              "    }\n",
              "\n",
              "    .dataframe thead th {\n",
              "        text-align: right;\n",
              "    }\n",
              "</style>\n",
              "<table border=\"1\" class=\"dataframe\">\n",
              "  <thead>\n",
              "    <tr style=\"text-align: right;\">\n",
              "      <th></th>\n",
              "      <th>the_geom</th>\n",
              "      <th>NAME</th>\n",
              "      <th>BIN</th>\n",
              "      <th>CNSTRCT_YR</th>\n",
              "      <th>LSTMODDATE</th>\n",
              "      <th>LSTSTATYPE</th>\n",
              "      <th>DOITT_ID</th>\n",
              "      <th>HEIGHTROOF</th>\n",
              "      <th>FEAT_CODE</th>\n",
              "      <th>GROUNDELEV</th>\n",
              "      <th>SHAPE_AREA</th>\n",
              "      <th>SHAPE_LEN</th>\n",
              "      <th>BASE_BBL</th>\n",
              "      <th>MPLUTO_BBL</th>\n",
              "      <th>GEOMSOURCE</th>\n",
              "    </tr>\n",
              "  </thead>\n",
              "  <tbody>\n",
              "    <tr>\n",
              "      <th>0</th>\n",
              "      <td>MULTIPOLYGON (((-73.87172426474349 40.65519420...</td>\n",
              "      <td>NaN</td>\n",
              "      <td>3394834</td>\n",
              "      <td>2011.0</td>\n",
              "      <td>08/22/2017 12:00:00 AM</td>\n",
              "      <td>Constructed</td>\n",
              "      <td>1250314</td>\n",
              "      <td>26.000000</td>\n",
              "      <td>2100.0</td>\n",
              "      <td>15.0</td>\n",
              "      <td>0</td>\n",
              "      <td>0</td>\n",
              "      <td>3.044521e+09</td>\n",
              "      <td>3.044521e+09</td>\n",
              "      <td>Other (Man</td>\n",
              "    </tr>\n",
              "    <tr>\n",
              "      <th>1</th>\n",
              "      <td>MULTIPOLYGON (((-73.86650099829305 40.74236058...</td>\n",
              "      <td>NaN</td>\n",
              "      <td>4540159</td>\n",
              "      <td>2010.0</td>\n",
              "      <td>08/22/2017 12:00:00 AM</td>\n",
              "      <td>Constructed</td>\n",
              "      <td>201366</td>\n",
              "      <td>28.000000</td>\n",
              "      <td>2100.0</td>\n",
              "      <td>37.0</td>\n",
              "      <td>0</td>\n",
              "      <td>0</td>\n",
              "      <td>4.018780e+09</td>\n",
              "      <td>4.018780e+09</td>\n",
              "      <td>Other (Man</td>\n",
              "    </tr>\n",
              "    <tr>\n",
              "      <th>2</th>\n",
              "      <td>MULTIPOLYGON (((-73.7940773567428 40.680625171...</td>\n",
              "      <td>NaN</td>\n",
              "      <td>4260357</td>\n",
              "      <td>2010.0</td>\n",
              "      <td>08/10/2017 12:00:00 AM</td>\n",
              "      <td>Constructed</td>\n",
              "      <td>1184712</td>\n",
              "      <td>29.000000</td>\n",
              "      <td>2100.0</td>\n",
              "      <td>20.0</td>\n",
              "      <td>0</td>\n",
              "      <td>0</td>\n",
              "      <td>4.120060e+09</td>\n",
              "      <td>4.120060e+09</td>\n",
              "      <td>Other (Man</td>\n",
              "    </tr>\n",
              "    <tr>\n",
              "      <th>3</th>\n",
              "      <td>MULTIPOLYGON (((-73.87805078807256 40.71475698...</td>\n",
              "      <td>NaN</td>\n",
              "      <td>4540051</td>\n",
              "      <td>2010.0</td>\n",
              "      <td>08/22/2017 12:00:00 AM</td>\n",
              "      <td>Constructed</td>\n",
              "      <td>1171655</td>\n",
              "      <td>28.330225</td>\n",
              "      <td>2100.0</td>\n",
              "      <td>112.0</td>\n",
              "      <td>0</td>\n",
              "      <td>0</td>\n",
              "      <td>4.030600e+09</td>\n",
              "      <td>4.030600e+09</td>\n",
              "      <td>Photogramm</td>\n",
              "    </tr>\n",
              "    <tr>\n",
              "      <th>4</th>\n",
              "      <td>MULTIPOLYGON (((-73.81520745135124 40.73053646...</td>\n",
              "      <td>NaN</td>\n",
              "      <td>4545453</td>\n",
              "      <td>2012.0</td>\n",
              "      <td>08/22/2017 12:00:00 AM</td>\n",
              "      <td>Constructed</td>\n",
              "      <td>1118502</td>\n",
              "      <td>16.640000</td>\n",
              "      <td>2100.0</td>\n",
              "      <td>74.0</td>\n",
              "      <td>0</td>\n",
              "      <td>0</td>\n",
              "      <td>4.066560e+09</td>\n",
              "      <td>4.066560e+09</td>\n",
              "      <td>Photogramm</td>\n",
              "    </tr>\n",
              "  </tbody>\n",
              "</table>\n",
              "</div>"
            ],
            "text/plain": [
              "                                            the_geom NAME      BIN  \\\n",
              "0  MULTIPOLYGON (((-73.87172426474349 40.65519420...  NaN  3394834   \n",
              "1  MULTIPOLYGON (((-73.86650099829305 40.74236058...  NaN  4540159   \n",
              "2  MULTIPOLYGON (((-73.7940773567428 40.680625171...  NaN  4260357   \n",
              "3  MULTIPOLYGON (((-73.87805078807256 40.71475698...  NaN  4540051   \n",
              "4  MULTIPOLYGON (((-73.81520745135124 40.73053646...  NaN  4545453   \n",
              "\n",
              "   CNSTRCT_YR              LSTMODDATE   LSTSTATYPE  DOITT_ID  HEIGHTROOF  \\\n",
              "0      2011.0  08/22/2017 12:00:00 AM  Constructed   1250314   26.000000   \n",
              "1      2010.0  08/22/2017 12:00:00 AM  Constructed    201366   28.000000   \n",
              "2      2010.0  08/10/2017 12:00:00 AM  Constructed   1184712   29.000000   \n",
              "3      2010.0  08/22/2017 12:00:00 AM  Constructed   1171655   28.330225   \n",
              "4      2012.0  08/22/2017 12:00:00 AM  Constructed   1118502   16.640000   \n",
              "\n",
              "   FEAT_CODE  GROUNDELEV  SHAPE_AREA  SHAPE_LEN      BASE_BBL    MPLUTO_BBL  \\\n",
              "0     2100.0        15.0           0          0  3.044521e+09  3.044521e+09   \n",
              "1     2100.0        37.0           0          0  4.018780e+09  4.018780e+09   \n",
              "2     2100.0        20.0           0          0  4.120060e+09  4.120060e+09   \n",
              "3     2100.0       112.0           0          0  4.030600e+09  4.030600e+09   \n",
              "4     2100.0        74.0           0          0  4.066560e+09  4.066560e+09   \n",
              "\n",
              "   GEOMSOURCE  \n",
              "0  Other (Man  \n",
              "1  Other (Man  \n",
              "2  Other (Man  \n",
              "3  Photogramm  \n",
              "4  Photogramm  "
            ]
          },
          "execution_count": 4,
          "metadata": {},
          "output_type": "execute_result"
        }
      ],
      "source": [
        "# read data as a dataframe\n",
        "df = pd.read_csv('data/sample-data.csv')\n",
        "\n",
        "# previewing first five rows in data\n",
        "df.head()"
      ]
    },
    {
      "cell_type": "code",
      "execution_count": null,
      "metadata": {
        "id": "abyT0YdHsUQO",
        "outputId": "6e976e32-1ce4-4f1a-f70a-83e40d12d26e"
      },
      "outputs": [
        {
          "name": "stdout",
          "output_type": "stream",
          "text": [
            "This dataset has 15,498 rows and 15 columns.\n"
          ]
        }
      ],
      "source": [
        "rows, columns = df.shape\n",
        "\n",
        "print('This dataset has {:,} rows and {:,} columns.'.format(rows, columns))"
      ]
    },
    {
      "cell_type": "markdown",
      "metadata": {
        "id": "eCU7bEoFsUQO"
      },
      "source": [
        "**Sanity check**\n",
        "\n",
        "We use pandas `.head()` method to preview the first five rows of the dataframe.\n",
        "\n",
        "We use pandas `.shape` method to print the dimensions of the dataframe (i.e. number of rows, number of columns).\n",
        "\n",
        "We will use these two methods throughout the examples."
      ]
    },
    {
      "cell_type": "markdown",
      "metadata": {
        "id": "kQj5FcuVsUQP"
      },
      "source": [
        "## 1.2 Reading in a JSON file"
      ]
    },
    {
      "cell_type": "code",
      "execution_count": null,
      "metadata": {
        "id": "NxLUyhV1sUQP",
        "outputId": "c0186200-a1c2-4fbe-bb4a-6c83f9b8f128"
      },
      "outputs": [
        {
          "data": {
            "text/html": [
              "<div>\n",
              "<style scoped>\n",
              "    .dataframe tbody tr th:only-of-type {\n",
              "        vertical-align: middle;\n",
              "    }\n",
              "\n",
              "    .dataframe tbody tr th {\n",
              "        vertical-align: top;\n",
              "    }\n",
              "\n",
              "    .dataframe thead th {\n",
              "        text-align: right;\n",
              "    }\n",
              "</style>\n",
              "<table border=\"1\" class=\"dataframe\">\n",
              "  <thead>\n",
              "    <tr style=\"text-align: right;\">\n",
              "      <th></th>\n",
              "      <th>the_geom</th>\n",
              "      <th>NAME</th>\n",
              "      <th>BIN</th>\n",
              "      <th>CNSTRCT_YR</th>\n",
              "      <th>LSTMODDATE</th>\n",
              "      <th>LSTSTATYPE</th>\n",
              "      <th>DOITT_ID</th>\n",
              "      <th>HEIGHTROOF</th>\n",
              "      <th>FEAT_CODE</th>\n",
              "      <th>GROUNDELEV</th>\n",
              "      <th>SHAPE_AREA</th>\n",
              "      <th>SHAPE_LEN</th>\n",
              "      <th>BASE_BBL</th>\n",
              "      <th>MPLUTO_BBL</th>\n",
              "      <th>GEOMSOURCE</th>\n",
              "    </tr>\n",
              "  </thead>\n",
              "  <tbody>\n",
              "    <tr>\n",
              "      <th>0</th>\n",
              "      <td>MULTIPOLYGON (((-73.87172426474349 40.65519420...</td>\n",
              "      <td>None</td>\n",
              "      <td>3394834</td>\n",
              "      <td>2011</td>\n",
              "      <td>08/22/2017 12:00:00 AM</td>\n",
              "      <td>Constructed</td>\n",
              "      <td>1250314</td>\n",
              "      <td>26.000000</td>\n",
              "      <td>2100.0</td>\n",
              "      <td>15.0</td>\n",
              "      <td>0</td>\n",
              "      <td>0</td>\n",
              "      <td>3.044521e+09</td>\n",
              "      <td>3.044521e+09</td>\n",
              "      <td>Other (Man</td>\n",
              "    </tr>\n",
              "    <tr>\n",
              "      <th>1</th>\n",
              "      <td>MULTIPOLYGON (((-73.86650099829305 40.74236058...</td>\n",
              "      <td>None</td>\n",
              "      <td>4540159</td>\n",
              "      <td>2010</td>\n",
              "      <td>08/22/2017 12:00:00 AM</td>\n",
              "      <td>Constructed</td>\n",
              "      <td>201366</td>\n",
              "      <td>28.000000</td>\n",
              "      <td>2100.0</td>\n",
              "      <td>37.0</td>\n",
              "      <td>0</td>\n",
              "      <td>0</td>\n",
              "      <td>4.018780e+09</td>\n",
              "      <td>4.018780e+09</td>\n",
              "      <td>Other (Man</td>\n",
              "    </tr>\n",
              "    <tr>\n",
              "      <th>2</th>\n",
              "      <td>MULTIPOLYGON (((-73.7940773567428 40.680625171...</td>\n",
              "      <td>None</td>\n",
              "      <td>4260357</td>\n",
              "      <td>2010</td>\n",
              "      <td>08/10/2017 12:00:00 AM</td>\n",
              "      <td>Constructed</td>\n",
              "      <td>1184712</td>\n",
              "      <td>29.000000</td>\n",
              "      <td>2100.0</td>\n",
              "      <td>20.0</td>\n",
              "      <td>0</td>\n",
              "      <td>0</td>\n",
              "      <td>4.120060e+09</td>\n",
              "      <td>4.120060e+09</td>\n",
              "      <td>Other (Man</td>\n",
              "    </tr>\n",
              "    <tr>\n",
              "      <th>3</th>\n",
              "      <td>MULTIPOLYGON (((-73.87805078807256 40.71475698...</td>\n",
              "      <td>None</td>\n",
              "      <td>4540051</td>\n",
              "      <td>2010</td>\n",
              "      <td>08/22/2017 12:00:00 AM</td>\n",
              "      <td>Constructed</td>\n",
              "      <td>1171655</td>\n",
              "      <td>28.330225</td>\n",
              "      <td>2100.0</td>\n",
              "      <td>112.0</td>\n",
              "      <td>0</td>\n",
              "      <td>0</td>\n",
              "      <td>4.030600e+09</td>\n",
              "      <td>4.030600e+09</td>\n",
              "      <td>Photogramm</td>\n",
              "    </tr>\n",
              "    <tr>\n",
              "      <th>4</th>\n",
              "      <td>MULTIPOLYGON (((-73.81520745135124 40.73053646...</td>\n",
              "      <td>None</td>\n",
              "      <td>4545453</td>\n",
              "      <td>2012</td>\n",
              "      <td>08/22/2017 12:00:00 AM</td>\n",
              "      <td>Constructed</td>\n",
              "      <td>1118502</td>\n",
              "      <td>16.640000</td>\n",
              "      <td>2100.0</td>\n",
              "      <td>74.0</td>\n",
              "      <td>0</td>\n",
              "      <td>0</td>\n",
              "      <td>4.066560e+09</td>\n",
              "      <td>4.066560e+09</td>\n",
              "      <td>Photogramm</td>\n",
              "    </tr>\n",
              "  </tbody>\n",
              "</table>\n",
              "</div>"
            ],
            "text/plain": [
              "                                            the_geom  NAME      BIN  \\\n",
              "0  MULTIPOLYGON (((-73.87172426474349 40.65519420...  None  3394834   \n",
              "1  MULTIPOLYGON (((-73.86650099829305 40.74236058...  None  4540159   \n",
              "2  MULTIPOLYGON (((-73.7940773567428 40.680625171...  None  4260357   \n",
              "3  MULTIPOLYGON (((-73.87805078807256 40.71475698...  None  4540051   \n",
              "4  MULTIPOLYGON (((-73.81520745135124 40.73053646...  None  4545453   \n",
              "\n",
              "   CNSTRCT_YR              LSTMODDATE   LSTSTATYPE  DOITT_ID  HEIGHTROOF  \\\n",
              "0        2011  08/22/2017 12:00:00 AM  Constructed   1250314   26.000000   \n",
              "1        2010  08/22/2017 12:00:00 AM  Constructed    201366   28.000000   \n",
              "2        2010  08/10/2017 12:00:00 AM  Constructed   1184712   29.000000   \n",
              "3        2010  08/22/2017 12:00:00 AM  Constructed   1171655   28.330225   \n",
              "4        2012  08/22/2017 12:00:00 AM  Constructed   1118502   16.640000   \n",
              "\n",
              "   FEAT_CODE  GROUNDELEV  SHAPE_AREA  SHAPE_LEN      BASE_BBL    MPLUTO_BBL  \\\n",
              "0     2100.0        15.0           0          0  3.044521e+09  3.044521e+09   \n",
              "1     2100.0        37.0           0          0  4.018780e+09  4.018780e+09   \n",
              "2     2100.0        20.0           0          0  4.120060e+09  4.120060e+09   \n",
              "3     2100.0       112.0           0          0  4.030600e+09  4.030600e+09   \n",
              "4     2100.0        74.0           0          0  4.066560e+09  4.066560e+09   \n",
              "\n",
              "   GEOMSOURCE  \n",
              "0  Other (Man  \n",
              "1  Other (Man  \n",
              "2  Other (Man  \n",
              "3  Photogramm  \n",
              "4  Photogramm  "
            ]
          },
          "execution_count": 6,
          "metadata": {},
          "output_type": "execute_result"
        }
      ],
      "source": [
        "# read data as a dataframe\n",
        "df = pd.read_json('data/sample-data.json')\n",
        "\n",
        "# previewing first five rows in data\n",
        "df.head()"
      ]
    },
    {
      "cell_type": "code",
      "execution_count": null,
      "metadata": {
        "id": "SHWtTQZLsUQP",
        "outputId": "a14fd0ce-f484-4159-d07a-774dd9f9622c"
      },
      "outputs": [
        {
          "name": "stdout",
          "output_type": "stream",
          "text": [
            "This dataset has 15,498 rows and 15 columns.\n"
          ]
        }
      ],
      "source": [
        "rows, columns = df.shape\n",
        "\n",
        "print('This dataset has {:,} rows and {:,} columns.'.format(rows, columns))"
      ]
    },
    {
      "cell_type": "markdown",
      "metadata": {
        "id": "DB1-NGLFsUQQ"
      },
      "source": [
        "## 1.3 Reading in an Excel file"
      ]
    },
    {
      "cell_type": "code",
      "execution_count": null,
      "metadata": {
        "id": "r9O-jAqysUQQ",
        "outputId": "565db039-7107-4a1c-890d-8ebe1f7def71"
      },
      "outputs": [
        {
          "data": {
            "text/html": [
              "<div>\n",
              "<style scoped>\n",
              "    .dataframe tbody tr th:only-of-type {\n",
              "        vertical-align: middle;\n",
              "    }\n",
              "\n",
              "    .dataframe tbody tr th {\n",
              "        vertical-align: top;\n",
              "    }\n",
              "\n",
              "    .dataframe thead th {\n",
              "        text-align: right;\n",
              "    }\n",
              "</style>\n",
              "<table border=\"1\" class=\"dataframe\">\n",
              "  <thead>\n",
              "    <tr style=\"text-align: right;\">\n",
              "      <th></th>\n",
              "      <th>the_geom</th>\n",
              "      <th>NAME</th>\n",
              "      <th>BIN</th>\n",
              "      <th>CNSTRCT_YR</th>\n",
              "      <th>LSTMODDATE</th>\n",
              "      <th>LSTSTATYPE</th>\n",
              "      <th>DOITT_ID</th>\n",
              "      <th>HEIGHTROOF</th>\n",
              "      <th>FEAT_CODE</th>\n",
              "      <th>GROUNDELEV</th>\n",
              "      <th>SHAPE_AREA</th>\n",
              "      <th>SHAPE_LEN</th>\n",
              "      <th>BASE_BBL</th>\n",
              "      <th>MPLUTO_BBL</th>\n",
              "      <th>GEOMSOURCE</th>\n",
              "    </tr>\n",
              "  </thead>\n",
              "  <tbody>\n",
              "    <tr>\n",
              "      <th>0</th>\n",
              "      <td>MULTIPOLYGON (((-73.87172426474349 40.65519420...</td>\n",
              "      <td>NaN</td>\n",
              "      <td>3394834</td>\n",
              "      <td>2011</td>\n",
              "      <td>08/22/2017 12:00:00 AM</td>\n",
              "      <td>Constructed</td>\n",
              "      <td>1250314</td>\n",
              "      <td>26.000000</td>\n",
              "      <td>2100.0</td>\n",
              "      <td>15.0</td>\n",
              "      <td>0</td>\n",
              "      <td>0</td>\n",
              "      <td>3.044521e+09</td>\n",
              "      <td>3.044521e+09</td>\n",
              "      <td>Other (Man</td>\n",
              "    </tr>\n",
              "    <tr>\n",
              "      <th>1</th>\n",
              "      <td>MULTIPOLYGON (((-73.86650099829305 40.74236058...</td>\n",
              "      <td>NaN</td>\n",
              "      <td>4540159</td>\n",
              "      <td>2010</td>\n",
              "      <td>08/22/2017 12:00:00 AM</td>\n",
              "      <td>Constructed</td>\n",
              "      <td>201366</td>\n",
              "      <td>28.000000</td>\n",
              "      <td>2100.0</td>\n",
              "      <td>37.0</td>\n",
              "      <td>0</td>\n",
              "      <td>0</td>\n",
              "      <td>4.018780e+09</td>\n",
              "      <td>4.018780e+09</td>\n",
              "      <td>Other (Man</td>\n",
              "    </tr>\n",
              "    <tr>\n",
              "      <th>2</th>\n",
              "      <td>MULTIPOLYGON (((-73.7940773567428 40.680625171...</td>\n",
              "      <td>NaN</td>\n",
              "      <td>4260357</td>\n",
              "      <td>2010</td>\n",
              "      <td>08/10/2017 12:00:00 AM</td>\n",
              "      <td>Constructed</td>\n",
              "      <td>1184712</td>\n",
              "      <td>29.000000</td>\n",
              "      <td>2100.0</td>\n",
              "      <td>20.0</td>\n",
              "      <td>0</td>\n",
              "      <td>0</td>\n",
              "      <td>4.120060e+09</td>\n",
              "      <td>4.120060e+09</td>\n",
              "      <td>Other (Man</td>\n",
              "    </tr>\n",
              "    <tr>\n",
              "      <th>3</th>\n",
              "      <td>MULTIPOLYGON (((-73.87805078807256 40.71475698...</td>\n",
              "      <td>NaN</td>\n",
              "      <td>4540051</td>\n",
              "      <td>2010</td>\n",
              "      <td>08/22/2017 12:00:00 AM</td>\n",
              "      <td>Constructed</td>\n",
              "      <td>1171655</td>\n",
              "      <td>28.330225</td>\n",
              "      <td>2100.0</td>\n",
              "      <td>112.0</td>\n",
              "      <td>0</td>\n",
              "      <td>0</td>\n",
              "      <td>4.030600e+09</td>\n",
              "      <td>4.030600e+09</td>\n",
              "      <td>Photogramm</td>\n",
              "    </tr>\n",
              "    <tr>\n",
              "      <th>4</th>\n",
              "      <td>MULTIPOLYGON (((-73.81520745135124 40.73053646...</td>\n",
              "      <td>NaN</td>\n",
              "      <td>4545453</td>\n",
              "      <td>2012</td>\n",
              "      <td>08/22/2017 12:00:00 AM</td>\n",
              "      <td>Constructed</td>\n",
              "      <td>1118502</td>\n",
              "      <td>16.640000</td>\n",
              "      <td>2100.0</td>\n",
              "      <td>74.0</td>\n",
              "      <td>0</td>\n",
              "      <td>0</td>\n",
              "      <td>4.066560e+09</td>\n",
              "      <td>4.066560e+09</td>\n",
              "      <td>Photogramm</td>\n",
              "    </tr>\n",
              "  </tbody>\n",
              "</table>\n",
              "</div>"
            ],
            "text/plain": [
              "                                            the_geom NAME      BIN  \\\n",
              "0  MULTIPOLYGON (((-73.87172426474349 40.65519420...  NaN  3394834   \n",
              "1  MULTIPOLYGON (((-73.86650099829305 40.74236058...  NaN  4540159   \n",
              "2  MULTIPOLYGON (((-73.7940773567428 40.680625171...  NaN  4260357   \n",
              "3  MULTIPOLYGON (((-73.87805078807256 40.71475698...  NaN  4540051   \n",
              "4  MULTIPOLYGON (((-73.81520745135124 40.73053646...  NaN  4545453   \n",
              "\n",
              "   CNSTRCT_YR              LSTMODDATE   LSTSTATYPE  DOITT_ID  HEIGHTROOF  \\\n",
              "0        2011  08/22/2017 12:00:00 AM  Constructed   1250314   26.000000   \n",
              "1        2010  08/22/2017 12:00:00 AM  Constructed    201366   28.000000   \n",
              "2        2010  08/10/2017 12:00:00 AM  Constructed   1184712   29.000000   \n",
              "3        2010  08/22/2017 12:00:00 AM  Constructed   1171655   28.330225   \n",
              "4        2012  08/22/2017 12:00:00 AM  Constructed   1118502   16.640000   \n",
              "\n",
              "   FEAT_CODE  GROUNDELEV  SHAPE_AREA  SHAPE_LEN      BASE_BBL    MPLUTO_BBL  \\\n",
              "0     2100.0        15.0           0          0  3.044521e+09  3.044521e+09   \n",
              "1     2100.0        37.0           0          0  4.018780e+09  4.018780e+09   \n",
              "2     2100.0        20.0           0          0  4.120060e+09  4.120060e+09   \n",
              "3     2100.0       112.0           0          0  4.030600e+09  4.030600e+09   \n",
              "4     2100.0        74.0           0          0  4.066560e+09  4.066560e+09   \n",
              "\n",
              "   GEOMSOURCE  \n",
              "0  Other (Man  \n",
              "1  Other (Man  \n",
              "2  Other (Man  \n",
              "3  Photogramm  \n",
              "4  Photogramm  "
            ]
          },
          "execution_count": 8,
          "metadata": {},
          "output_type": "execute_result"
        }
      ],
      "source": [
        "# read data as a dataframe\n",
        "df = pd.read_excel('data/sample-data.xlsx')\n",
        "\n",
        "# previewing first five rows in data\n",
        "df.head()"
      ]
    },
    {
      "cell_type": "code",
      "execution_count": null,
      "metadata": {
        "id": "e_BYH-uosUQQ",
        "outputId": "c71b885a-9636-4e5d-d28d-6d4befee6f1e"
      },
      "outputs": [
        {
          "name": "stdout",
          "output_type": "stream",
          "text": [
            "This dataset has 15,498 rows and 15 columns.\n"
          ]
        }
      ],
      "source": [
        "rows, columns = df.shape\n",
        "\n",
        "print('This dataset has {:,} rows and {:,} columns.'.format(rows, columns))"
      ]
    },
    {
      "cell_type": "markdown",
      "metadata": {
        "id": "Zc3BRluzsUQR"
      },
      "source": [
        "## 1.4 Reading in a Shapefile"
      ]
    },
    {
      "cell_type": "code",
      "execution_count": null,
      "metadata": {
        "id": "Tb3dG0b-sUQR",
        "outputId": "f3be2e2a-322c-4296-dbbb-cf7b28ea836d"
      },
      "outputs": [
        {
          "data": {
            "text/html": [
              "<div>\n",
              "<style scoped>\n",
              "    .dataframe tbody tr th:only-of-type {\n",
              "        vertical-align: middle;\n",
              "    }\n",
              "\n",
              "    .dataframe tbody tr th {\n",
              "        vertical-align: top;\n",
              "    }\n",
              "\n",
              "    .dataframe thead th {\n",
              "        text-align: right;\n",
              "    }\n",
              "</style>\n",
              "<table border=\"1\" class=\"dataframe\">\n",
              "  <thead>\n",
              "    <tr style=\"text-align: right;\">\n",
              "      <th></th>\n",
              "      <th>base_bbl</th>\n",
              "      <th>bin</th>\n",
              "      <th>cnstrct_yr</th>\n",
              "      <th>doitt_id</th>\n",
              "      <th>feat_code</th>\n",
              "      <th>geomsource</th>\n",
              "      <th>groundelev</th>\n",
              "      <th>heightroof</th>\n",
              "      <th>date_lstmo</th>\n",
              "      <th>time_lstmo</th>\n",
              "      <th>lststatype</th>\n",
              "      <th>mpluto_bbl</th>\n",
              "      <th>name</th>\n",
              "      <th>shape_area</th>\n",
              "      <th>shape_len</th>\n",
              "      <th>geometry</th>\n",
              "    </tr>\n",
              "  </thead>\n",
              "  <tbody>\n",
              "    <tr>\n",
              "      <th>0</th>\n",
              "      <td>3044520924</td>\n",
              "      <td>3394834.0</td>\n",
              "      <td>2011.0</td>\n",
              "      <td>1250314.0</td>\n",
              "      <td>2100.0</td>\n",
              "      <td>Other (Man</td>\n",
              "      <td>15.0</td>\n",
              "      <td>26.000000</td>\n",
              "      <td>2017-08-22</td>\n",
              "      <td>00:00:00.000</td>\n",
              "      <td>Constructed</td>\n",
              "      <td>3044520924</td>\n",
              "      <td>None</td>\n",
              "      <td>0.0</td>\n",
              "      <td>0.0</td>\n",
              "      <td>POLYGON ((-73.87172 40.65519, -73.87179 40.655...</td>\n",
              "    </tr>\n",
              "    <tr>\n",
              "      <th>1</th>\n",
              "      <td>4018780115</td>\n",
              "      <td>4540159.0</td>\n",
              "      <td>2010.0</td>\n",
              "      <td>201366.0</td>\n",
              "      <td>2100.0</td>\n",
              "      <td>Other (Man</td>\n",
              "      <td>37.0</td>\n",
              "      <td>28.000000</td>\n",
              "      <td>2017-08-22</td>\n",
              "      <td>00:00:00.000</td>\n",
              "      <td>Constructed</td>\n",
              "      <td>4018780115</td>\n",
              "      <td>None</td>\n",
              "      <td>0.0</td>\n",
              "      <td>0.0</td>\n",
              "      <td>POLYGON ((-73.86650 40.74236, -73.86645 40.742...</td>\n",
              "    </tr>\n",
              "    <tr>\n",
              "      <th>2</th>\n",
              "      <td>4120060029</td>\n",
              "      <td>4260357.0</td>\n",
              "      <td>2010.0</td>\n",
              "      <td>1184712.0</td>\n",
              "      <td>2100.0</td>\n",
              "      <td>Other (Man</td>\n",
              "      <td>20.0</td>\n",
              "      <td>29.000000</td>\n",
              "      <td>2017-08-10</td>\n",
              "      <td>00:00:00.000</td>\n",
              "      <td>Constructed</td>\n",
              "      <td>4120060029</td>\n",
              "      <td>None</td>\n",
              "      <td>0.0</td>\n",
              "      <td>0.0</td>\n",
              "      <td>POLYGON ((-73.79408 40.68063, -73.79407 40.680...</td>\n",
              "    </tr>\n",
              "    <tr>\n",
              "      <th>3</th>\n",
              "      <td>4030600139</td>\n",
              "      <td>4540051.0</td>\n",
              "      <td>2010.0</td>\n",
              "      <td>1171655.0</td>\n",
              "      <td>2100.0</td>\n",
              "      <td>Photogramm</td>\n",
              "      <td>112.0</td>\n",
              "      <td>28.330225</td>\n",
              "      <td>2017-08-22</td>\n",
              "      <td>00:00:00.000</td>\n",
              "      <td>Constructed</td>\n",
              "      <td>4030600139</td>\n",
              "      <td>None</td>\n",
              "      <td>0.0</td>\n",
              "      <td>0.0</td>\n",
              "      <td>POLYGON ((-73.87805 40.71476, -73.87787 40.714...</td>\n",
              "    </tr>\n",
              "    <tr>\n",
              "      <th>4</th>\n",
              "      <td>4066560052</td>\n",
              "      <td>4545453.0</td>\n",
              "      <td>2012.0</td>\n",
              "      <td>1118502.0</td>\n",
              "      <td>2100.0</td>\n",
              "      <td>Photogramm</td>\n",
              "      <td>74.0</td>\n",
              "      <td>16.640000</td>\n",
              "      <td>2017-08-22</td>\n",
              "      <td>00:00:00.000</td>\n",
              "      <td>Constructed</td>\n",
              "      <td>4066560052</td>\n",
              "      <td>None</td>\n",
              "      <td>0.0</td>\n",
              "      <td>0.0</td>\n",
              "      <td>POLYGON ((-73.81521 40.73054, -73.81546 40.730...</td>\n",
              "    </tr>\n",
              "  </tbody>\n",
              "</table>\n",
              "</div>"
            ],
            "text/plain": [
              "     base_bbl        bin  cnstrct_yr   doitt_id  feat_code  geomsource  \\\n",
              "0  3044520924  3394834.0      2011.0  1250314.0     2100.0  Other (Man   \n",
              "1  4018780115  4540159.0      2010.0   201366.0     2100.0  Other (Man   \n",
              "2  4120060029  4260357.0      2010.0  1184712.0     2100.0  Other (Man   \n",
              "3  4030600139  4540051.0      2010.0  1171655.0     2100.0  Photogramm   \n",
              "4  4066560052  4545453.0      2012.0  1118502.0     2100.0  Photogramm   \n",
              "\n",
              "   groundelev  heightroof  date_lstmo    time_lstmo   lststatype  mpluto_bbl  \\\n",
              "0        15.0   26.000000  2017-08-22  00:00:00.000  Constructed  3044520924   \n",
              "1        37.0   28.000000  2017-08-22  00:00:00.000  Constructed  4018780115   \n",
              "2        20.0   29.000000  2017-08-10  00:00:00.000  Constructed  4120060029   \n",
              "3       112.0   28.330225  2017-08-22  00:00:00.000  Constructed  4030600139   \n",
              "4        74.0   16.640000  2017-08-22  00:00:00.000  Constructed  4066560052   \n",
              "\n",
              "   name  shape_area  shape_len  \\\n",
              "0  None         0.0        0.0   \n",
              "1  None         0.0        0.0   \n",
              "2  None         0.0        0.0   \n",
              "3  None         0.0        0.0   \n",
              "4  None         0.0        0.0   \n",
              "\n",
              "                                            geometry  \n",
              "0  POLYGON ((-73.87172 40.65519, -73.87179 40.655...  \n",
              "1  POLYGON ((-73.86650 40.74236, -73.86645 40.742...  \n",
              "2  POLYGON ((-73.79408 40.68063, -73.79407 40.680...  \n",
              "3  POLYGON ((-73.87805 40.71476, -73.87787 40.714...  \n",
              "4  POLYGON ((-73.81521 40.73054, -73.81546 40.730...  "
            ]
          },
          "execution_count": 10,
          "metadata": {},
          "output_type": "execute_result"
        }
      ],
      "source": [
        "# read data as a geodataframe\n",
        "path = 'data/sample-data.shp'\n",
        "gdf = gpd.read_file(path)\n",
        "\n",
        "# previewing first five rows in data\n",
        "gdf.head()"
      ]
    },
    {
      "cell_type": "code",
      "execution_count": null,
      "metadata": {
        "id": "X9vcFWggsUQR",
        "outputId": "f0a5ded5-e85c-4de6-dc29-187990e4f21d"
      },
      "outputs": [
        {
          "name": "stdout",
          "output_type": "stream",
          "text": [
            "This dataset has 15,498 rows and 16 columns.\n"
          ]
        }
      ],
      "source": [
        "rows, columns = gdf.shape\n",
        "\n",
        "print('This dataset has {:,} rows and {:,} columns.'.format(rows, columns))"
      ]
    },
    {
      "cell_type": "markdown",
      "metadata": {
        "id": "4G2z9wQvsUQR"
      },
      "source": [
        "## 1.5 Reading in a GeoJSON file"
      ]
    },
    {
      "cell_type": "code",
      "execution_count": null,
      "metadata": {
        "id": "842urVJVsUQS",
        "outputId": "afa5511c-6ffc-49fd-ded5-c76671d1b0f9"
      },
      "outputs": [
        {
          "data": {
            "text/html": [
              "<div>\n",
              "<style scoped>\n",
              "    .dataframe tbody tr th:only-of-type {\n",
              "        vertical-align: middle;\n",
              "    }\n",
              "\n",
              "    .dataframe tbody tr th {\n",
              "        vertical-align: top;\n",
              "    }\n",
              "\n",
              "    .dataframe thead th {\n",
              "        text-align: right;\n",
              "    }\n",
              "</style>\n",
              "<table border=\"1\" class=\"dataframe\">\n",
              "  <thead>\n",
              "    <tr style=\"text-align: right;\">\n",
              "      <th></th>\n",
              "      <th>base_bbl</th>\n",
              "      <th>bin</th>\n",
              "      <th>cnstrct_yr</th>\n",
              "      <th>doitt_id</th>\n",
              "      <th>feat_code</th>\n",
              "      <th>geomsource</th>\n",
              "      <th>groundelev</th>\n",
              "      <th>heightroof</th>\n",
              "      <th>date_lstmo</th>\n",
              "      <th>time_lstmo</th>\n",
              "      <th>lststatype</th>\n",
              "      <th>mpluto_bbl</th>\n",
              "      <th>name</th>\n",
              "      <th>shape_area</th>\n",
              "      <th>shape_len</th>\n",
              "      <th>geometry</th>\n",
              "    </tr>\n",
              "  </thead>\n",
              "  <tbody>\n",
              "    <tr>\n",
              "      <th>0</th>\n",
              "      <td>3044520924</td>\n",
              "      <td>3394834.0</td>\n",
              "      <td>2011.0</td>\n",
              "      <td>1250314.0</td>\n",
              "      <td>2100.0</td>\n",
              "      <td>Other (Man</td>\n",
              "      <td>15.0</td>\n",
              "      <td>26.000000</td>\n",
              "      <td>2017-08-22</td>\n",
              "      <td>00:00:00</td>\n",
              "      <td>Constructed</td>\n",
              "      <td>3044520924</td>\n",
              "      <td>None</td>\n",
              "      <td>0.0</td>\n",
              "      <td>0.0</td>\n",
              "      <td>POLYGON ((-73.87172 40.65519, -73.87179 40.655...</td>\n",
              "    </tr>\n",
              "    <tr>\n",
              "      <th>1</th>\n",
              "      <td>4018780115</td>\n",
              "      <td>4540159.0</td>\n",
              "      <td>2010.0</td>\n",
              "      <td>201366.0</td>\n",
              "      <td>2100.0</td>\n",
              "      <td>Other (Man</td>\n",
              "      <td>37.0</td>\n",
              "      <td>28.000000</td>\n",
              "      <td>2017-08-22</td>\n",
              "      <td>00:00:00</td>\n",
              "      <td>Constructed</td>\n",
              "      <td>4018780115</td>\n",
              "      <td>None</td>\n",
              "      <td>0.0</td>\n",
              "      <td>0.0</td>\n",
              "      <td>POLYGON ((-73.86650 40.74236, -73.86645 40.742...</td>\n",
              "    </tr>\n",
              "    <tr>\n",
              "      <th>2</th>\n",
              "      <td>4120060029</td>\n",
              "      <td>4260357.0</td>\n",
              "      <td>2010.0</td>\n",
              "      <td>1184712.0</td>\n",
              "      <td>2100.0</td>\n",
              "      <td>Other (Man</td>\n",
              "      <td>20.0</td>\n",
              "      <td>29.000000</td>\n",
              "      <td>2017-08-10</td>\n",
              "      <td>00:00:00</td>\n",
              "      <td>Constructed</td>\n",
              "      <td>4120060029</td>\n",
              "      <td>None</td>\n",
              "      <td>0.0</td>\n",
              "      <td>0.0</td>\n",
              "      <td>POLYGON ((-73.79408 40.68063, -73.79407 40.680...</td>\n",
              "    </tr>\n",
              "    <tr>\n",
              "      <th>3</th>\n",
              "      <td>4030600139</td>\n",
              "      <td>4540051.0</td>\n",
              "      <td>2010.0</td>\n",
              "      <td>1171655.0</td>\n",
              "      <td>2100.0</td>\n",
              "      <td>Photogramm</td>\n",
              "      <td>112.0</td>\n",
              "      <td>28.330225</td>\n",
              "      <td>2017-08-22</td>\n",
              "      <td>00:00:00</td>\n",
              "      <td>Constructed</td>\n",
              "      <td>4030600139</td>\n",
              "      <td>None</td>\n",
              "      <td>0.0</td>\n",
              "      <td>0.0</td>\n",
              "      <td>POLYGON ((-73.87805 40.71476, -73.87787 40.714...</td>\n",
              "    </tr>\n",
              "    <tr>\n",
              "      <th>4</th>\n",
              "      <td>4066560052</td>\n",
              "      <td>4545453.0</td>\n",
              "      <td>2012.0</td>\n",
              "      <td>1118502.0</td>\n",
              "      <td>2100.0</td>\n",
              "      <td>Photogramm</td>\n",
              "      <td>74.0</td>\n",
              "      <td>16.640000</td>\n",
              "      <td>2017-08-22</td>\n",
              "      <td>00:00:00</td>\n",
              "      <td>Constructed</td>\n",
              "      <td>4066560052</td>\n",
              "      <td>None</td>\n",
              "      <td>0.0</td>\n",
              "      <td>0.0</td>\n",
              "      <td>POLYGON ((-73.81521 40.73054, -73.81546 40.730...</td>\n",
              "    </tr>\n",
              "  </tbody>\n",
              "</table>\n",
              "</div>"
            ],
            "text/plain": [
              "     base_bbl        bin  cnstrct_yr   doitt_id  feat_code  geomsource  \\\n",
              "0  3044520924  3394834.0      2011.0  1250314.0     2100.0  Other (Man   \n",
              "1  4018780115  4540159.0      2010.0   201366.0     2100.0  Other (Man   \n",
              "2  4120060029  4260357.0      2010.0  1184712.0     2100.0  Other (Man   \n",
              "3  4030600139  4540051.0      2010.0  1171655.0     2100.0  Photogramm   \n",
              "4  4066560052  4545453.0      2012.0  1118502.0     2100.0  Photogramm   \n",
              "\n",
              "   groundelev  heightroof  date_lstmo time_lstmo   lststatype  mpluto_bbl  \\\n",
              "0        15.0   26.000000  2017-08-22   00:00:00  Constructed  3044520924   \n",
              "1        37.0   28.000000  2017-08-22   00:00:00  Constructed  4018780115   \n",
              "2        20.0   29.000000  2017-08-10   00:00:00  Constructed  4120060029   \n",
              "3       112.0   28.330225  2017-08-22   00:00:00  Constructed  4030600139   \n",
              "4        74.0   16.640000  2017-08-22   00:00:00  Constructed  4066560052   \n",
              "\n",
              "   name  shape_area  shape_len  \\\n",
              "0  None         0.0        0.0   \n",
              "1  None         0.0        0.0   \n",
              "2  None         0.0        0.0   \n",
              "3  None         0.0        0.0   \n",
              "4  None         0.0        0.0   \n",
              "\n",
              "                                            geometry  \n",
              "0  POLYGON ((-73.87172 40.65519, -73.87179 40.655...  \n",
              "1  POLYGON ((-73.86650 40.74236, -73.86645 40.742...  \n",
              "2  POLYGON ((-73.79408 40.68063, -73.79407 40.680...  \n",
              "3  POLYGON ((-73.87805 40.71476, -73.87787 40.714...  \n",
              "4  POLYGON ((-73.81521 40.73054, -73.81546 40.730...  "
            ]
          },
          "execution_count": 12,
          "metadata": {},
          "output_type": "execute_result"
        }
      ],
      "source": [
        "path = 'data/sample-data.geojson'\n",
        "gdf = gpd.read_file(path)\n",
        "\n",
        "gdf.head()"
      ]
    },
    {
      "cell_type": "code",
      "execution_count": null,
      "metadata": {
        "id": "OyhhmR4LsUQS",
        "outputId": "d52a93ce-5145-4ce5-8ecf-408d45dd19e0"
      },
      "outputs": [
        {
          "name": "stdout",
          "output_type": "stream",
          "text": [
            "This dataset has 15,498 rows and 16 columns.\n"
          ]
        }
      ],
      "source": [
        "rows, columns = gdf.shape\n",
        "\n",
        "print('This dataset has {:,} rows and {:,} columns.'.format(rows, columns))"
      ]
    },
    {
      "cell_type": "markdown",
      "metadata": {
        "id": "jmD_P_EWsUQS"
      },
      "source": [
        "# 2. Reading in Data from the Web"
      ]
    },
    {
      "cell_type": "markdown",
      "metadata": {
        "id": "Mg_G0FE2sUQS"
      },
      "source": [
        "Another popular dataset is NYC's PLUTO dataset. We will use this one because it comes in a zip file.\n",
        "\n",
        "- **Description**: Extensive land use and geographic data at the tax lot level in comma–separated values (CSV) file format. The PLUTO files contain more than seventy fields derived from data maintained by city agencies.\n",
        "- **Dataset Link**: https://www1.nyc.gov/site/planning/data-maps/open-data/dwn-pluto-mappluto.page\n",
        "- **Data Dictionary**: https://www1.nyc.gov/assets/planning/download/pdf/data-maps/open-data/pluto_datadictionary.pdf?v=20v1"
      ]
    },
    {
      "cell_type": "markdown",
      "metadata": {
        "id": "tW351WWMsUQT"
      },
      "source": [
        "![building_footprints_csv](images/pluto-csv.png)"
      ]
    },
    {
      "cell_type": "markdown",
      "metadata": {
        "id": "j5unJeHNsUQT"
      },
      "source": [
        "## 2.1 Unzipping and reading in data as CSV to local folder\n",
        "\n",
        "We will retrieve, unzip and read in data in our downloads folder.  \n",
        "**Note: right-click the Download icon and copy the link address as the url.**"
      ]
    },
    {
      "cell_type": "code",
      "execution_count": null,
      "metadata": {
        "id": "Z8wOFsgysUQU",
        "outputId": "bcc6df25-f2fd-4a82-c01a-356a1f567907"
      },
      "outputs": [
        {
          "data": {
            "text/plain": [
              "('../Downloads/PLUTO.gz', <http.client.HTTPMessage at 0x169368f70>)"
            ]
          },
          "execution_count": 14,
          "metadata": {},
          "output_type": "execute_result"
        }
      ],
      "source": [
        "# download url of dataset\n",
        "url = 'https://www1.nyc.gov/assets/planning/download/zip/data-maps/open-data/nyc_pluto_20v1_csv.zip'\n",
        "\n",
        "# a path to our downloads folder\n",
        "downloads_path = '../Downloads/'\n",
        "\n",
        "# a path to our file from our downloads path\n",
        "fullfilename = os.path.join(downloads_path, 'PLUTO.gz')\n",
        "\n",
        "# retrieving data\n",
        "urllib.request.urlretrieve(url, fullfilename)"
      ]
    },
    {
      "cell_type": "code",
      "execution_count": null,
      "metadata": {
        "id": "vmZnSPM0sUQU",
        "outputId": "58a5f80a-bad5-48f7-e225-39c4b48d1972"
      },
      "outputs": [
        {
          "name": "stdout",
          "output_type": "stream",
          "text": [
            "['pluto_20v1.csv', 'PLUTODD20v1.pdf', 'PlutoReadme20v1.pdf']\n"
          ]
        }
      ],
      "source": [
        "# a path to our file from our downloads folder\n",
        "file_path = '../Downloads/PLUTO.gz'\n",
        "\n",
        "# open zipfile and saving items in our zipfolder\n",
        "items = zipfile.ZipFile(file_path)\n",
        "\n",
        "# available files in the container\n",
        "print(items.namelist())"
      ]
    },
    {
      "cell_type": "code",
      "execution_count": null,
      "metadata": {
        "id": "wsAM7ruIsUQU"
      },
      "outputs": [],
      "source": [
        "# opening zipfile using 'with' keyword in read mode\n",
        "with zipfile.ZipFile(file_path, 'r') as file:\n",
        "\n",
        "    # extract all files inside the zip file\n",
        "    file.extractall(downloads_path)"
      ]
    },
    {
      "cell_type": "code",
      "execution_count": null,
      "metadata": {
        "id": "7uptPlEtsUQV",
        "outputId": "6c989906-c92d-456a-db3a-308cfdb814f5"
      },
      "outputs": [
        {
          "data": {
            "text/html": [
              "<div>\n",
              "<style scoped>\n",
              "    .dataframe tbody tr th:only-of-type {\n",
              "        vertical-align: middle;\n",
              "    }\n",
              "\n",
              "    .dataframe tbody tr th {\n",
              "        vertical-align: top;\n",
              "    }\n",
              "\n",
              "    .dataframe thead th {\n",
              "        text-align: right;\n",
              "    }\n",
              "</style>\n",
              "<table border=\"1\" class=\"dataframe\">\n",
              "  <thead>\n",
              "    <tr style=\"text-align: right;\">\n",
              "      <th></th>\n",
              "      <th>borough</th>\n",
              "      <th>block</th>\n",
              "      <th>lot</th>\n",
              "      <th>cd</th>\n",
              "      <th>ct2010</th>\n",
              "      <th>cb2010</th>\n",
              "      <th>schooldist</th>\n",
              "      <th>council</th>\n",
              "      <th>zipcode</th>\n",
              "      <th>firecomp</th>\n",
              "      <th>...</th>\n",
              "      <th>dcasdate</th>\n",
              "      <th>zoningdate</th>\n",
              "      <th>landmkdate</th>\n",
              "      <th>basempdate</th>\n",
              "      <th>masdate</th>\n",
              "      <th>polidate</th>\n",
              "      <th>edesigdate</th>\n",
              "      <th>geom</th>\n",
              "      <th>dcpedited</th>\n",
              "      <th>notes</th>\n",
              "    </tr>\n",
              "  </thead>\n",
              "  <tbody>\n",
              "    <tr>\n",
              "      <th>0</th>\n",
              "      <td>BK</td>\n",
              "      <td>834</td>\n",
              "      <td>46</td>\n",
              "      <td>307.0</td>\n",
              "      <td>106.0</td>\n",
              "      <td>2001.0</td>\n",
              "      <td>20.0</td>\n",
              "      <td>38.0</td>\n",
              "      <td>11220.0</td>\n",
              "      <td>L114</td>\n",
              "      <td>...</td>\n",
              "      <td>NaN</td>\n",
              "      <td>NaN</td>\n",
              "      <td>NaN</td>\n",
              "      <td>NaN</td>\n",
              "      <td>NaN</td>\n",
              "      <td>NaN</td>\n",
              "      <td>NaN</td>\n",
              "      <td>0106000020E61000000100000001030000000100000005...</td>\n",
              "      <td>NaN</td>\n",
              "      <td>NaN</td>\n",
              "    </tr>\n",
              "    <tr>\n",
              "      <th>1</th>\n",
              "      <td>QN</td>\n",
              "      <td>4042</td>\n",
              "      <td>106</td>\n",
              "      <td>407.0</td>\n",
              "      <td>929.0</td>\n",
              "      <td>3000.0</td>\n",
              "      <td>25.0</td>\n",
              "      <td>19.0</td>\n",
              "      <td>11356.0</td>\n",
              "      <td>E297</td>\n",
              "      <td>...</td>\n",
              "      <td>NaN</td>\n",
              "      <td>NaN</td>\n",
              "      <td>NaN</td>\n",
              "      <td>NaN</td>\n",
              "      <td>NaN</td>\n",
              "      <td>NaN</td>\n",
              "      <td>NaN</td>\n",
              "      <td>0106000020E61000000100000001030000000100000007...</td>\n",
              "      <td>NaN</td>\n",
              "      <td>NaN</td>\n",
              "    </tr>\n",
              "    <tr>\n",
              "      <th>2</th>\n",
              "      <td>BK</td>\n",
              "      <td>4679</td>\n",
              "      <td>17</td>\n",
              "      <td>317.0</td>\n",
              "      <td>866.0</td>\n",
              "      <td>3002.0</td>\n",
              "      <td>18.0</td>\n",
              "      <td>41.0</td>\n",
              "      <td>11203.0</td>\n",
              "      <td>L174</td>\n",
              "      <td>...</td>\n",
              "      <td>NaN</td>\n",
              "      <td>NaN</td>\n",
              "      <td>NaN</td>\n",
              "      <td>NaN</td>\n",
              "      <td>NaN</td>\n",
              "      <td>NaN</td>\n",
              "      <td>NaN</td>\n",
              "      <td>0106000020E61000000100000001030000000100000006...</td>\n",
              "      <td>NaN</td>\n",
              "      <td>NaN</td>\n",
              "    </tr>\n",
              "    <tr>\n",
              "      <th>3</th>\n",
              "      <td>BK</td>\n",
              "      <td>7831</td>\n",
              "      <td>6</td>\n",
              "      <td>318.0</td>\n",
              "      <td>676.0</td>\n",
              "      <td>1002.0</td>\n",
              "      <td>22.0</td>\n",
              "      <td>46.0</td>\n",
              "      <td>11234.0</td>\n",
              "      <td>L159</td>\n",
              "      <td>...</td>\n",
              "      <td>NaN</td>\n",
              "      <td>NaN</td>\n",
              "      <td>NaN</td>\n",
              "      <td>NaN</td>\n",
              "      <td>NaN</td>\n",
              "      <td>NaN</td>\n",
              "      <td>NaN</td>\n",
              "      <td>0106000020E61000000100000001030000000100000005...</td>\n",
              "      <td>NaN</td>\n",
              "      <td>NaN</td>\n",
              "    </tr>\n",
              "    <tr>\n",
              "      <th>4</th>\n",
              "      <td>BK</td>\n",
              "      <td>7831</td>\n",
              "      <td>7</td>\n",
              "      <td>318.0</td>\n",
              "      <td>676.0</td>\n",
              "      <td>1002.0</td>\n",
              "      <td>22.0</td>\n",
              "      <td>46.0</td>\n",
              "      <td>11234.0</td>\n",
              "      <td>L159</td>\n",
              "      <td>...</td>\n",
              "      <td>NaN</td>\n",
              "      <td>NaN</td>\n",
              "      <td>NaN</td>\n",
              "      <td>NaN</td>\n",
              "      <td>NaN</td>\n",
              "      <td>NaN</td>\n",
              "      <td>NaN</td>\n",
              "      <td>0106000020E61000000100000001030000000100000005...</td>\n",
              "      <td>NaN</td>\n",
              "      <td>NaN</td>\n",
              "    </tr>\n",
              "  </tbody>\n",
              "</table>\n",
              "<p>5 rows × 99 columns</p>\n",
              "</div>"
            ],
            "text/plain": [
              "  borough  block  lot     cd  ct2010  cb2010  schooldist  council  zipcode  \\\n",
              "0      BK    834   46  307.0   106.0  2001.0        20.0     38.0  11220.0   \n",
              "1      QN   4042  106  407.0   929.0  3000.0        25.0     19.0  11356.0   \n",
              "2      BK   4679   17  317.0   866.0  3002.0        18.0     41.0  11203.0   \n",
              "3      BK   7831    6  318.0   676.0  1002.0        22.0     46.0  11234.0   \n",
              "4      BK   7831    7  318.0   676.0  1002.0        22.0     46.0  11234.0   \n",
              "\n",
              "  firecomp  ...  dcasdate  zoningdate  landmkdate basempdate masdate polidate  \\\n",
              "0     L114  ...       NaN         NaN         NaN        NaN     NaN      NaN   \n",
              "1     E297  ...       NaN         NaN         NaN        NaN     NaN      NaN   \n",
              "2     L174  ...       NaN         NaN         NaN        NaN     NaN      NaN   \n",
              "3     L159  ...       NaN         NaN         NaN        NaN     NaN      NaN   \n",
              "4     L159  ...       NaN         NaN         NaN        NaN     NaN      NaN   \n",
              "\n",
              "  edesigdate                                               geom dcpedited  \\\n",
              "0        NaN  0106000020E61000000100000001030000000100000005...       NaN   \n",
              "1        NaN  0106000020E61000000100000001030000000100000007...       NaN   \n",
              "2        NaN  0106000020E61000000100000001030000000100000006...       NaN   \n",
              "3        NaN  0106000020E61000000100000001030000000100000005...       NaN   \n",
              "4        NaN  0106000020E61000000100000001030000000100000005...       NaN   \n",
              "\n",
              "  notes  \n",
              "0   NaN  \n",
              "1   NaN  \n",
              "2   NaN  \n",
              "3   NaN  \n",
              "4   NaN  \n",
              "\n",
              "[5 rows x 99 columns]"
            ]
          },
          "execution_count": 17,
          "metadata": {},
          "output_type": "execute_result"
        }
      ],
      "source": [
        "# read our data into a dataframe from our downloads path\n",
        "pluto_data = pd.read_csv(downloads_path + 'pluto_20v1.csv', low_memory=False)\n",
        "\n",
        "pluto_data.head()"
      ]
    },
    {
      "cell_type": "code",
      "execution_count": null,
      "metadata": {
        "id": "qiUFS4mEsUQW",
        "outputId": "03fb1312-0d4a-4aa9-9aae-a8bad881ad8b"
      },
      "outputs": [
        {
          "name": "stdout",
          "output_type": "stream",
          "text": [
            "This dataset has 859,172 rows and 99 columns.\n"
          ]
        }
      ],
      "source": [
        "rows, columns = pluto_data.shape\n",
        "\n",
        "print('This dataset has {:,} rows and {:,} columns.'.format(rows, columns))"
      ]
    },
    {
      "cell_type": "markdown",
      "metadata": {
        "id": "58F-p58KsUQW"
      },
      "source": [
        "## 2.2 Unzipping and reading in data as CSV from local folder"
      ]
    },
    {
      "cell_type": "code",
      "execution_count": null,
      "metadata": {
        "id": "PP6HwsJ_sUQX"
      },
      "outputs": [],
      "source": [
        "# note: ive already placed data into this zip file\n",
        "file_name = 'data/sample-buildings.zip'\n",
        "\n",
        "# opening zip using 'with' keyword in read mode\n",
        "with zipfile.ZipFile(file_name, 'r') as file:\n",
        "\n",
        "    # extracing all items in our zipfile\n",
        "    file.extractall('data/unzipped-data')"
      ]
    },
    {
      "cell_type": "code",
      "execution_count": null,
      "metadata": {
        "id": "jOclVEUIsUQX",
        "outputId": "50241e7f-2a36-47e1-de22-a86174f81a17"
      },
      "outputs": [
        {
          "name": "stdout",
          "output_type": "stream",
          "text": [
            "sample-data.csv\r\n"
          ]
        }
      ],
      "source": [
        "# list files in this file path\n",
        "%ls data/unzipped-data/"
      ]
    },
    {
      "cell_type": "code",
      "execution_count": null,
      "metadata": {
        "id": "7XPRS_UhsUQX",
        "outputId": "6b031af9-a89d-4fd1-bfde-fa4602c7b8ba"
      },
      "outputs": [
        {
          "data": {
            "text/html": [
              "<div>\n",
              "<style scoped>\n",
              "    .dataframe tbody tr th:only-of-type {\n",
              "        vertical-align: middle;\n",
              "    }\n",
              "\n",
              "    .dataframe tbody tr th {\n",
              "        vertical-align: top;\n",
              "    }\n",
              "\n",
              "    .dataframe thead th {\n",
              "        text-align: right;\n",
              "    }\n",
              "</style>\n",
              "<table border=\"1\" class=\"dataframe\">\n",
              "  <thead>\n",
              "    <tr style=\"text-align: right;\">\n",
              "      <th></th>\n",
              "      <th>the_geom</th>\n",
              "      <th>NAME</th>\n",
              "      <th>BIN</th>\n",
              "      <th>CNSTRCT_YR</th>\n",
              "      <th>LSTMODDATE</th>\n",
              "      <th>LSTSTATYPE</th>\n",
              "      <th>DOITT_ID</th>\n",
              "      <th>HEIGHTROOF</th>\n",
              "      <th>FEAT_CODE</th>\n",
              "      <th>GROUNDELEV</th>\n",
              "      <th>SHAPE_AREA</th>\n",
              "      <th>SHAPE_LEN</th>\n",
              "      <th>BASE_BBL</th>\n",
              "      <th>MPLUTO_BBL</th>\n",
              "      <th>GEOMSOURCE</th>\n",
              "    </tr>\n",
              "  </thead>\n",
              "  <tbody>\n",
              "    <tr>\n",
              "      <th>0</th>\n",
              "      <td>MULTIPOLYGON (((-73.87172426474349 40.65519420...</td>\n",
              "      <td>NaN</td>\n",
              "      <td>3394834</td>\n",
              "      <td>2011.0</td>\n",
              "      <td>08/22/2017 12:00:00 AM</td>\n",
              "      <td>Constructed</td>\n",
              "      <td>1250314</td>\n",
              "      <td>26.000000</td>\n",
              "      <td>2100.0</td>\n",
              "      <td>15.0</td>\n",
              "      <td>0</td>\n",
              "      <td>0</td>\n",
              "      <td>3.044521e+09</td>\n",
              "      <td>3.044521e+09</td>\n",
              "      <td>Other (Man</td>\n",
              "    </tr>\n",
              "    <tr>\n",
              "      <th>1</th>\n",
              "      <td>MULTIPOLYGON (((-73.86650099829305 40.74236058...</td>\n",
              "      <td>NaN</td>\n",
              "      <td>4540159</td>\n",
              "      <td>2010.0</td>\n",
              "      <td>08/22/2017 12:00:00 AM</td>\n",
              "      <td>Constructed</td>\n",
              "      <td>201366</td>\n",
              "      <td>28.000000</td>\n",
              "      <td>2100.0</td>\n",
              "      <td>37.0</td>\n",
              "      <td>0</td>\n",
              "      <td>0</td>\n",
              "      <td>4.018780e+09</td>\n",
              "      <td>4.018780e+09</td>\n",
              "      <td>Other (Man</td>\n",
              "    </tr>\n",
              "    <tr>\n",
              "      <th>2</th>\n",
              "      <td>MULTIPOLYGON (((-73.7940773567428 40.680625171...</td>\n",
              "      <td>NaN</td>\n",
              "      <td>4260357</td>\n",
              "      <td>2010.0</td>\n",
              "      <td>08/10/2017 12:00:00 AM</td>\n",
              "      <td>Constructed</td>\n",
              "      <td>1184712</td>\n",
              "      <td>29.000000</td>\n",
              "      <td>2100.0</td>\n",
              "      <td>20.0</td>\n",
              "      <td>0</td>\n",
              "      <td>0</td>\n",
              "      <td>4.120060e+09</td>\n",
              "      <td>4.120060e+09</td>\n",
              "      <td>Other (Man</td>\n",
              "    </tr>\n",
              "    <tr>\n",
              "      <th>3</th>\n",
              "      <td>MULTIPOLYGON (((-73.87805078807256 40.71475698...</td>\n",
              "      <td>NaN</td>\n",
              "      <td>4540051</td>\n",
              "      <td>2010.0</td>\n",
              "      <td>08/22/2017 12:00:00 AM</td>\n",
              "      <td>Constructed</td>\n",
              "      <td>1171655</td>\n",
              "      <td>28.330225</td>\n",
              "      <td>2100.0</td>\n",
              "      <td>112.0</td>\n",
              "      <td>0</td>\n",
              "      <td>0</td>\n",
              "      <td>4.030600e+09</td>\n",
              "      <td>4.030600e+09</td>\n",
              "      <td>Photogramm</td>\n",
              "    </tr>\n",
              "    <tr>\n",
              "      <th>4</th>\n",
              "      <td>MULTIPOLYGON (((-73.81520745135124 40.73053646...</td>\n",
              "      <td>NaN</td>\n",
              "      <td>4545453</td>\n",
              "      <td>2012.0</td>\n",
              "      <td>08/22/2017 12:00:00 AM</td>\n",
              "      <td>Constructed</td>\n",
              "      <td>1118502</td>\n",
              "      <td>16.640000</td>\n",
              "      <td>2100.0</td>\n",
              "      <td>74.0</td>\n",
              "      <td>0</td>\n",
              "      <td>0</td>\n",
              "      <td>4.066560e+09</td>\n",
              "      <td>4.066560e+09</td>\n",
              "      <td>Photogramm</td>\n",
              "    </tr>\n",
              "  </tbody>\n",
              "</table>\n",
              "</div>"
            ],
            "text/plain": [
              "                                            the_geom NAME      BIN  \\\n",
              "0  MULTIPOLYGON (((-73.87172426474349 40.65519420...  NaN  3394834   \n",
              "1  MULTIPOLYGON (((-73.86650099829305 40.74236058...  NaN  4540159   \n",
              "2  MULTIPOLYGON (((-73.7940773567428 40.680625171...  NaN  4260357   \n",
              "3  MULTIPOLYGON (((-73.87805078807256 40.71475698...  NaN  4540051   \n",
              "4  MULTIPOLYGON (((-73.81520745135124 40.73053646...  NaN  4545453   \n",
              "\n",
              "   CNSTRCT_YR              LSTMODDATE   LSTSTATYPE  DOITT_ID  HEIGHTROOF  \\\n",
              "0      2011.0  08/22/2017 12:00:00 AM  Constructed   1250314   26.000000   \n",
              "1      2010.0  08/22/2017 12:00:00 AM  Constructed    201366   28.000000   \n",
              "2      2010.0  08/10/2017 12:00:00 AM  Constructed   1184712   29.000000   \n",
              "3      2010.0  08/22/2017 12:00:00 AM  Constructed   1171655   28.330225   \n",
              "4      2012.0  08/22/2017 12:00:00 AM  Constructed   1118502   16.640000   \n",
              "\n",
              "   FEAT_CODE  GROUNDELEV  SHAPE_AREA  SHAPE_LEN      BASE_BBL    MPLUTO_BBL  \\\n",
              "0     2100.0        15.0           0          0  3.044521e+09  3.044521e+09   \n",
              "1     2100.0        37.0           0          0  4.018780e+09  4.018780e+09   \n",
              "2     2100.0        20.0           0          0  4.120060e+09  4.120060e+09   \n",
              "3     2100.0       112.0           0          0  4.030600e+09  4.030600e+09   \n",
              "4     2100.0        74.0           0          0  4.066560e+09  4.066560e+09   \n",
              "\n",
              "   GEOMSOURCE  \n",
              "0  Other (Man  \n",
              "1  Other (Man  \n",
              "2  Other (Man  \n",
              "3  Photogramm  \n",
              "4  Photogramm  "
            ]
          },
          "execution_count": 21,
          "metadata": {},
          "output_type": "execute_result"
        }
      ],
      "source": [
        "# read data as a dataframe\n",
        "sample_buidlings = pd.read_csv('data/unzipped-data/sample-data.csv')\n",
        "\n",
        "# previewing first five rows of data\n",
        "sample_buidlings.head()"
      ]
    },
    {
      "cell_type": "code",
      "execution_count": null,
      "metadata": {
        "id": "FVKkEu1ksUQY",
        "outputId": "ba755875-a107-436a-fccf-9497207b9e08"
      },
      "outputs": [
        {
          "name": "stdout",
          "output_type": "stream",
          "text": [
            "This dataset has 15,498 rows and 15 columns.\n"
          ]
        }
      ],
      "source": [
        "rows, columns = sample_buidlings.shape\n",
        "\n",
        "print('This dataset has {:,} rows and {:,} columns.'.format(rows, columns))"
      ]
    },
    {
      "cell_type": "markdown",
      "metadata": {
        "id": "crR6vCx0sUQZ"
      },
      "source": [
        "## 2.3 Unzipping and reading in data as a CSV in memory"
      ]
    },
    {
      "cell_type": "code",
      "execution_count": null,
      "metadata": {
        "id": "MCEcMLmisUQZ",
        "outputId": "5afe4029-aa5c-4f03-dc07-6cb95fe203cb"
      },
      "outputs": [
        {
          "name": "stdout",
          "output_type": "stream",
          "text": [
            "File in zip: pluto_20v1.csv\n",
            "File in zip: PLUTODD20v1.pdf\n",
            "File in zip: PlutoReadme20v1.pdf\n"
          ]
        }
      ],
      "source": [
        "# our download link\n",
        "url = 'https://www1.nyc.gov/assets/planning/download/zip/data-maps/open-data/nyc_pluto_20v1_csv.zip'\n",
        "\n",
        "# reading in our zipfile data in-memory\n",
        "content = requests.get(url)\n",
        "zf = ZipFile(BytesIO(content.content))\n",
        "\n",
        "# printing files in our zipfile\n",
        "for item in zf.namelist():\n",
        "    print(\"File in zip: \"+ item)"
      ]
    },
    {
      "cell_type": "code",
      "execution_count": null,
      "metadata": {
        "id": "L8YPn7-XsUQa",
        "outputId": "8a33d783-2aeb-46d2-ed76-eb4380f21289"
      },
      "outputs": [
        {
          "data": {
            "text/html": [
              "<div>\n",
              "<style scoped>\n",
              "    .dataframe tbody tr th:only-of-type {\n",
              "        vertical-align: middle;\n",
              "    }\n",
              "\n",
              "    .dataframe tbody tr th {\n",
              "        vertical-align: top;\n",
              "    }\n",
              "\n",
              "    .dataframe thead th {\n",
              "        text-align: right;\n",
              "    }\n",
              "</style>\n",
              "<table border=\"1\" class=\"dataframe\">\n",
              "  <thead>\n",
              "    <tr style=\"text-align: right;\">\n",
              "      <th></th>\n",
              "      <th>borough</th>\n",
              "      <th>block</th>\n",
              "      <th>lot</th>\n",
              "      <th>cd</th>\n",
              "      <th>ct2010</th>\n",
              "      <th>cb2010</th>\n",
              "      <th>schooldist</th>\n",
              "      <th>council</th>\n",
              "      <th>zipcode</th>\n",
              "      <th>firecomp</th>\n",
              "      <th>...</th>\n",
              "      <th>dcasdate</th>\n",
              "      <th>zoningdate</th>\n",
              "      <th>landmkdate</th>\n",
              "      <th>basempdate</th>\n",
              "      <th>masdate</th>\n",
              "      <th>polidate</th>\n",
              "      <th>edesigdate</th>\n",
              "      <th>geom</th>\n",
              "      <th>dcpedited</th>\n",
              "      <th>notes</th>\n",
              "    </tr>\n",
              "  </thead>\n",
              "  <tbody>\n",
              "    <tr>\n",
              "      <th>0</th>\n",
              "      <td>BK</td>\n",
              "      <td>834</td>\n",
              "      <td>46</td>\n",
              "      <td>307.0</td>\n",
              "      <td>106.0</td>\n",
              "      <td>2001.0</td>\n",
              "      <td>20.0</td>\n",
              "      <td>38.0</td>\n",
              "      <td>11220.0</td>\n",
              "      <td>L114</td>\n",
              "      <td>...</td>\n",
              "      <td>NaN</td>\n",
              "      <td>NaN</td>\n",
              "      <td>NaN</td>\n",
              "      <td>NaN</td>\n",
              "      <td>NaN</td>\n",
              "      <td>NaN</td>\n",
              "      <td>NaN</td>\n",
              "      <td>0106000020E61000000100000001030000000100000005...</td>\n",
              "      <td>NaN</td>\n",
              "      <td>NaN</td>\n",
              "    </tr>\n",
              "    <tr>\n",
              "      <th>1</th>\n",
              "      <td>QN</td>\n",
              "      <td>4042</td>\n",
              "      <td>106</td>\n",
              "      <td>407.0</td>\n",
              "      <td>929.0</td>\n",
              "      <td>3000.0</td>\n",
              "      <td>25.0</td>\n",
              "      <td>19.0</td>\n",
              "      <td>11356.0</td>\n",
              "      <td>E297</td>\n",
              "      <td>...</td>\n",
              "      <td>NaN</td>\n",
              "      <td>NaN</td>\n",
              "      <td>NaN</td>\n",
              "      <td>NaN</td>\n",
              "      <td>NaN</td>\n",
              "      <td>NaN</td>\n",
              "      <td>NaN</td>\n",
              "      <td>0106000020E61000000100000001030000000100000007...</td>\n",
              "      <td>NaN</td>\n",
              "      <td>NaN</td>\n",
              "    </tr>\n",
              "    <tr>\n",
              "      <th>2</th>\n",
              "      <td>BK</td>\n",
              "      <td>4679</td>\n",
              "      <td>17</td>\n",
              "      <td>317.0</td>\n",
              "      <td>866.0</td>\n",
              "      <td>3002.0</td>\n",
              "      <td>18.0</td>\n",
              "      <td>41.0</td>\n",
              "      <td>11203.0</td>\n",
              "      <td>L174</td>\n",
              "      <td>...</td>\n",
              "      <td>NaN</td>\n",
              "      <td>NaN</td>\n",
              "      <td>NaN</td>\n",
              "      <td>NaN</td>\n",
              "      <td>NaN</td>\n",
              "      <td>NaN</td>\n",
              "      <td>NaN</td>\n",
              "      <td>0106000020E61000000100000001030000000100000006...</td>\n",
              "      <td>NaN</td>\n",
              "      <td>NaN</td>\n",
              "    </tr>\n",
              "    <tr>\n",
              "      <th>3</th>\n",
              "      <td>BK</td>\n",
              "      <td>7831</td>\n",
              "      <td>6</td>\n",
              "      <td>318.0</td>\n",
              "      <td>676.0</td>\n",
              "      <td>1002.0</td>\n",
              "      <td>22.0</td>\n",
              "      <td>46.0</td>\n",
              "      <td>11234.0</td>\n",
              "      <td>L159</td>\n",
              "      <td>...</td>\n",
              "      <td>NaN</td>\n",
              "      <td>NaN</td>\n",
              "      <td>NaN</td>\n",
              "      <td>NaN</td>\n",
              "      <td>NaN</td>\n",
              "      <td>NaN</td>\n",
              "      <td>NaN</td>\n",
              "      <td>0106000020E61000000100000001030000000100000005...</td>\n",
              "      <td>NaN</td>\n",
              "      <td>NaN</td>\n",
              "    </tr>\n",
              "    <tr>\n",
              "      <th>4</th>\n",
              "      <td>BK</td>\n",
              "      <td>7831</td>\n",
              "      <td>7</td>\n",
              "      <td>318.0</td>\n",
              "      <td>676.0</td>\n",
              "      <td>1002.0</td>\n",
              "      <td>22.0</td>\n",
              "      <td>46.0</td>\n",
              "      <td>11234.0</td>\n",
              "      <td>L159</td>\n",
              "      <td>...</td>\n",
              "      <td>NaN</td>\n",
              "      <td>NaN</td>\n",
              "      <td>NaN</td>\n",
              "      <td>NaN</td>\n",
              "      <td>NaN</td>\n",
              "      <td>NaN</td>\n",
              "      <td>NaN</td>\n",
              "      <td>0106000020E61000000100000001030000000100000005...</td>\n",
              "      <td>NaN</td>\n",
              "      <td>NaN</td>\n",
              "    </tr>\n",
              "  </tbody>\n",
              "</table>\n",
              "<p>5 rows × 99 columns</p>\n",
              "</div>"
            ],
            "text/plain": [
              "  borough  block  lot     cd  ct2010  cb2010  schooldist  council  zipcode  \\\n",
              "0      BK    834   46  307.0   106.0  2001.0        20.0     38.0  11220.0   \n",
              "1      QN   4042  106  407.0   929.0  3000.0        25.0     19.0  11356.0   \n",
              "2      BK   4679   17  317.0   866.0  3002.0        18.0     41.0  11203.0   \n",
              "3      BK   7831    6  318.0   676.0  1002.0        22.0     46.0  11234.0   \n",
              "4      BK   7831    7  318.0   676.0  1002.0        22.0     46.0  11234.0   \n",
              "\n",
              "  firecomp  ...  dcasdate  zoningdate  landmkdate basempdate masdate polidate  \\\n",
              "0     L114  ...       NaN         NaN         NaN        NaN     NaN      NaN   \n",
              "1     E297  ...       NaN         NaN         NaN        NaN     NaN      NaN   \n",
              "2     L174  ...       NaN         NaN         NaN        NaN     NaN      NaN   \n",
              "3     L159  ...       NaN         NaN         NaN        NaN     NaN      NaN   \n",
              "4     L159  ...       NaN         NaN         NaN        NaN     NaN      NaN   \n",
              "\n",
              "  edesigdate                                               geom dcpedited  \\\n",
              "0        NaN  0106000020E61000000100000001030000000100000005...       NaN   \n",
              "1        NaN  0106000020E61000000100000001030000000100000007...       NaN   \n",
              "2        NaN  0106000020E61000000100000001030000000100000006...       NaN   \n",
              "3        NaN  0106000020E61000000100000001030000000100000005...       NaN   \n",
              "4        NaN  0106000020E61000000100000001030000000100000005...       NaN   \n",
              "\n",
              "  notes  \n",
              "0   NaN  \n",
              "1   NaN  \n",
              "2   NaN  \n",
              "3   NaN  \n",
              "4   NaN  \n",
              "\n",
              "[5 rows x 99 columns]"
            ]
          },
          "execution_count": 24,
          "metadata": {},
          "output_type": "execute_result"
        }
      ],
      "source": [
        "# read our csv data into a dataframe from our zipfile\n",
        "pluto_data = pd.read_csv(zf.open('pluto_20v1.csv'), low_memory=False)\n",
        "\n",
        "# previewing the first five rows of data\n",
        "pluto_data.head()"
      ]
    },
    {
      "cell_type": "code",
      "execution_count": null,
      "metadata": {
        "id": "YJqXNrThsUQb",
        "outputId": "303dd533-5ef8-4aae-97bf-ab69000ba27d"
      },
      "outputs": [
        {
          "name": "stdout",
          "output_type": "stream",
          "text": [
            "This dataset has 859,172 rows and 99 columns.\n"
          ]
        }
      ],
      "source": [
        "rows, columns = pluto_data.shape\n",
        "\n",
        "print('This dataset has {:,} rows and {:,} columns.'.format(rows, columns))"
      ]
    },
    {
      "cell_type": "markdown",
      "metadata": {
        "id": "HsVPOCi2sUQb"
      },
      "source": [
        "# 3. Reading in data from NYC Open Data\n",
        "\n",
        "I picked a really difficult dataset to present for this tutorial - perhaps a good thing? Here are items to note:  \n",
        "- The building footprints dataset identifier changes weekly, so if you plan on using the Socrata API, you need to constantly look up the new identifer. More information below.\n",
        "- You can't read in the building footprints dataset from the website as a JSON directly using pandas because it has metadata. I go over a way to retrieve the JSON data below, but note that this workflow is usually uncommon for me - I usually use the CSV option if available."
      ]
    },
    {
      "cell_type": "markdown",
      "metadata": {
        "id": "nLBdtAZ_sUQb"
      },
      "source": [
        "## 3.1 Reading in data as CSV in static form"
      ]
    },
    {
      "cell_type": "markdown",
      "metadata": {
        "id": "Rd9mBFncsUQb"
      },
      "source": [
        "![building_footprints_csv](images/building-footprints-csv.png)"
      ]
    },
    {
      "cell_type": "markdown",
      "metadata": {
        "id": "58zK89mgsUQc"
      },
      "source": [
        "# Note:\n",
        "The buildings footprints `dataset identifier` changes weekly, and so does the data api path. Click on the API Docs page and verify the correct dataset identifier. If you're not working with the correct id, you will receive a `HTTP Error`. Screenshots below:"
      ]
    },
    {
      "cell_type": "markdown",
      "metadata": {
        "id": "rOPNfT-LsUQc"
      },
      "source": [
        "**Click on API Docs**\n",
        "![building_footprints_csv](images/api_docs.png)\n",
        "\n",
        "**Grab the updated dataset identifier**\n",
        "![building_footprints_csv](images/api_docs_dataset_id.png)"
      ]
    },
    {
      "cell_type": "markdown",
      "metadata": {
        "id": "0cUZlbslsUQc"
      },
      "source": [
        "The `dataset identifier` is inserted into the api path below:  \n",
        "url = https://data.cityofnewyork.us/api/views/DATASET_IDENTIFIER/rows.csv?accessType=DOWNLOAD"
      ]
    },
    {
      "cell_type": "code",
      "execution_count": null,
      "metadata": {
        "id": "24cvv-ugsUQc",
        "outputId": "a6bf9cf4-bb23-4b81-eb08-513e578f8117"
      },
      "outputs": [
        {
          "data": {
            "text/html": [
              "<div>\n",
              "<style scoped>\n",
              "    .dataframe tbody tr th:only-of-type {\n",
              "        vertical-align: middle;\n",
              "    }\n",
              "\n",
              "    .dataframe tbody tr th {\n",
              "        vertical-align: top;\n",
              "    }\n",
              "\n",
              "    .dataframe thead th {\n",
              "        text-align: right;\n",
              "    }\n",
              "</style>\n",
              "<table border=\"1\" class=\"dataframe\">\n",
              "  <thead>\n",
              "    <tr style=\"text-align: right;\">\n",
              "      <th></th>\n",
              "      <th>the_geom</th>\n",
              "      <th>NAME</th>\n",
              "      <th>BIN</th>\n",
              "      <th>CNSTRCT_YR</th>\n",
              "      <th>LSTMODDATE</th>\n",
              "      <th>LSTSTATYPE</th>\n",
              "      <th>DOITT_ID</th>\n",
              "      <th>HEIGHTROOF</th>\n",
              "      <th>FEAT_CODE</th>\n",
              "      <th>GROUNDELEV</th>\n",
              "      <th>SHAPE_AREA</th>\n",
              "      <th>SHAPE_LEN</th>\n",
              "      <th>BASE_BBL</th>\n",
              "      <th>MPLUTO_BBL</th>\n",
              "      <th>GEOMSOURCE</th>\n",
              "    </tr>\n",
              "  </thead>\n",
              "  <tbody>\n",
              "    <tr>\n",
              "      <th>0</th>\n",
              "      <td>MULTIPOLYGON (((-73.96664570466969 40.62599676...</td>\n",
              "      <td>NaN</td>\n",
              "      <td>3170958</td>\n",
              "      <td>1925.0</td>\n",
              "      <td>08/22/2017 12:00:00 AM</td>\n",
              "      <td>Constructed</td>\n",
              "      <td>96807</td>\n",
              "      <td>29.749853</td>\n",
              "      <td>2100.0</td>\n",
              "      <td>40.0</td>\n",
              "      <td>0</td>\n",
              "      <td>0</td>\n",
              "      <td>3065220021</td>\n",
              "      <td>3065220021</td>\n",
              "      <td>Photogramm</td>\n",
              "    </tr>\n",
              "    <tr>\n",
              "      <th>1</th>\n",
              "      <td>MULTIPOLYGON (((-74.16790202462265 40.63936048...</td>\n",
              "      <td>NaN</td>\n",
              "      <td>5028452</td>\n",
              "      <td>1965.0</td>\n",
              "      <td>08/22/2017 12:00:00 AM</td>\n",
              "      <td>Constructed</td>\n",
              "      <td>326368</td>\n",
              "      <td>22.630000</td>\n",
              "      <td>2100.0</td>\n",
              "      <td>39.0</td>\n",
              "      <td>0</td>\n",
              "      <td>0</td>\n",
              "      <td>5012640036</td>\n",
              "      <td>5012640036</td>\n",
              "      <td>Photogramm</td>\n",
              "    </tr>\n",
              "    <tr>\n",
              "      <th>2</th>\n",
              "      <td>MULTIPOLYGON (((-74.19510813278613 40.55610681...</td>\n",
              "      <td>NaN</td>\n",
              "      <td>5078368</td>\n",
              "      <td>1970.0</td>\n",
              "      <td>08/22/2017 12:00:00 AM</td>\n",
              "      <td>Constructed</td>\n",
              "      <td>746627</td>\n",
              "      <td>35.760000</td>\n",
              "      <td>2100.0</td>\n",
              "      <td>51.0</td>\n",
              "      <td>0</td>\n",
              "      <td>0</td>\n",
              "      <td>5060190091</td>\n",
              "      <td>5060190091</td>\n",
              "      <td>Photogramm</td>\n",
              "    </tr>\n",
              "    <tr>\n",
              "      <th>3</th>\n",
              "      <td>MULTIPOLYGON (((-73.96113466505085 40.57743931...</td>\n",
              "      <td>NaN</td>\n",
              "      <td>3245111</td>\n",
              "      <td>1928.0</td>\n",
              "      <td>08/22/2017 12:00:00 AM</td>\n",
              "      <td>Constructed</td>\n",
              "      <td>786626</td>\n",
              "      <td>37.500000</td>\n",
              "      <td>2100.0</td>\n",
              "      <td>6.0</td>\n",
              "      <td>0</td>\n",
              "      <td>0</td>\n",
              "      <td>3086910048</td>\n",
              "      <td>3086910048</td>\n",
              "      <td>Photogramm</td>\n",
              "    </tr>\n",
              "    <tr>\n",
              "      <th>4</th>\n",
              "      <td>MULTIPOLYGON (((-73.75421559146166 40.75591276...</td>\n",
              "      <td>NaN</td>\n",
              "      <td>4161096</td>\n",
              "      <td>1950.0</td>\n",
              "      <td>08/22/2017 12:00:00 AM</td>\n",
              "      <td>Constructed</td>\n",
              "      <td>746409</td>\n",
              "      <td>18.015113</td>\n",
              "      <td>2100.0</td>\n",
              "      <td>93.0</td>\n",
              "      <td>0</td>\n",
              "      <td>0</td>\n",
              "      <td>4075020005</td>\n",
              "      <td>4075020005</td>\n",
              "      <td>Photogramm</td>\n",
              "    </tr>\n",
              "  </tbody>\n",
              "</table>\n",
              "</div>"
            ],
            "text/plain": [
              "                                            the_geom NAME      BIN  \\\n",
              "0  MULTIPOLYGON (((-73.96664570466969 40.62599676...  NaN  3170958   \n",
              "1  MULTIPOLYGON (((-74.16790202462265 40.63936048...  NaN  5028452   \n",
              "2  MULTIPOLYGON (((-74.19510813278613 40.55610681...  NaN  5078368   \n",
              "3  MULTIPOLYGON (((-73.96113466505085 40.57743931...  NaN  3245111   \n",
              "4  MULTIPOLYGON (((-73.75421559146166 40.75591276...  NaN  4161096   \n",
              "\n",
              "   CNSTRCT_YR              LSTMODDATE   LSTSTATYPE  DOITT_ID  HEIGHTROOF  \\\n",
              "0      1925.0  08/22/2017 12:00:00 AM  Constructed     96807   29.749853   \n",
              "1      1965.0  08/22/2017 12:00:00 AM  Constructed    326368   22.630000   \n",
              "2      1970.0  08/22/2017 12:00:00 AM  Constructed    746627   35.760000   \n",
              "3      1928.0  08/22/2017 12:00:00 AM  Constructed    786626   37.500000   \n",
              "4      1950.0  08/22/2017 12:00:00 AM  Constructed    746409   18.015113   \n",
              "\n",
              "   FEAT_CODE  GROUNDELEV  SHAPE_AREA  SHAPE_LEN    BASE_BBL  MPLUTO_BBL  \\\n",
              "0     2100.0        40.0           0          0  3065220021  3065220021   \n",
              "1     2100.0        39.0           0          0  5012640036  5012640036   \n",
              "2     2100.0        51.0           0          0  5060190091  5060190091   \n",
              "3     2100.0         6.0           0          0  3086910048  3086910048   \n",
              "4     2100.0        93.0           0          0  4075020005  4075020005   \n",
              "\n",
              "   GEOMSOURCE  \n",
              "0  Photogramm  \n",
              "1  Photogramm  \n",
              "2  Photogramm  \n",
              "3  Photogramm  \n",
              "4  Photogramm  "
            ]
          },
          "execution_count": 26,
          "metadata": {},
          "output_type": "execute_result"
        }
      ],
      "source": [
        "# reading in data as a url from NYC Open Data\n",
        "url = 'https://data.cityofnewyork.us/api/views/qb5r-6dgf/rows.csv?accessType=DOWNLOAD'\n",
        "\n",
        "# saving data as a pandas dataframe named 'df_csv'\n",
        "df_csv = pd.read_csv(url)\n",
        "\n",
        "# previewing the first five rows\n",
        "df_csv.head()"
      ]
    },
    {
      "cell_type": "code",
      "execution_count": null,
      "metadata": {
        "id": "skpHt_i0sUQd",
        "outputId": "f33f9ee0-9a28-4ade-8468-815850e8cdba"
      },
      "outputs": [
        {
          "name": "stdout",
          "output_type": "stream",
          "text": [
            "This dataset has 1,084,557 rows and 15 columns.\n"
          ]
        }
      ],
      "source": [
        "rows, columns = df_csv.shape\n",
        "\n",
        "print('This dataset has {:,} rows and {:,} columns.'.format(rows, columns))"
      ]
    },
    {
      "cell_type": "markdown",
      "metadata": {
        "id": "eLoupYE1sUQd"
      },
      "source": [
        "## 3.2 Reading in data as JSON in static form"
      ]
    },
    {
      "cell_type": "markdown",
      "metadata": {
        "id": "gDDm1CNfsUQe"
      },
      "source": [
        "![building_footprints_csv](images/building-footprints-json.png)"
      ]
    },
    {
      "cell_type": "code",
      "execution_count": null,
      "metadata": {
        "id": "tj9u7LIDsUQe"
      },
      "outputs": [],
      "source": [
        "url = 'https://data.cityofnewyork.us/api/views/qb5r-6dgf/rows.json?accessType=DOWNLOAD'\n",
        "\n",
        "# loads a json object as a python object\n",
        "with urllib.request.urlopen(url) as url:\n",
        "    data = json.loads(url.read().decode())"
      ]
    },
    {
      "cell_type": "code",
      "execution_count": null,
      "metadata": {
        "id": "Wucb4oULsUQe",
        "outputId": "b09bd65d-50fa-4df6-ce58-0d0d858b1aae"
      },
      "outputs": [
        {
          "data": {
            "text/plain": [
              "dict"
            ]
          },
          "execution_count": 29,
          "metadata": {},
          "output_type": "execute_result"
        }
      ],
      "source": [
        "# identifying type of python object\n",
        "type(data)"
      ]
    },
    {
      "cell_type": "code",
      "execution_count": null,
      "metadata": {
        "id": "ldOrUJUzsUQe",
        "outputId": "3127bbc4-8b93-47be-b032-92758c165a30"
      },
      "outputs": [
        {
          "data": {
            "text/plain": [
              "dict_keys(['meta', 'data'])"
            ]
          },
          "execution_count": 30,
          "metadata": {},
          "output_type": "execute_result"
        }
      ],
      "source": [
        "# reviewing the dictionairy's keys\n",
        "data.keys()"
      ]
    },
    {
      "cell_type": "code",
      "execution_count": null,
      "metadata": {
        "id": "icqnuDQ1sUQf",
        "outputId": "c0386177-7ffe-4f2b-cf60-b6da79e66343"
      },
      "outputs": [
        {
          "data": {
            "text/plain": [
              "list"
            ]
          },
          "execution_count": 31,
          "metadata": {},
          "output_type": "execute_result"
        }
      ],
      "source": [
        "# looking at the type of the data key\n",
        "type(data['data'])"
      ]
    },
    {
      "cell_type": "code",
      "execution_count": null,
      "metadata": {
        "id": "Lez5ZAIZsUQf",
        "outputId": "086a6c43-5580-4cf1-edaa-e1322191583e"
      },
      "outputs": [
        {
          "data": {
            "text/plain": [
              "1084557"
            ]
          },
          "execution_count": 32,
          "metadata": {},
          "output_type": "execute_result"
        }
      ],
      "source": [
        "# previewing the length of items in the data list\n",
        "len(data['data'])"
      ]
    },
    {
      "cell_type": "code",
      "execution_count": null,
      "metadata": {
        "id": "1GX4qSk6sUQf",
        "outputId": "45aeb111-1931-45c1-a7dc-f030fbdfb2e0"
      },
      "outputs": [
        {
          "data": {
            "text/plain": [
              "['row-483v_qq7a~py43',\n",
              " '00000000-0000-0000-594A-4F9510B4257F',\n",
              " 0,\n",
              " 1661865848,\n",
              " None,\n",
              " 1661865848,\n",
              " None,\n",
              " '{ }',\n",
              " 'MULTIPOLYGON (((-73.96664570466969 40.62599676998366, -73.96684846176461 40.625977490862574, -73.96685938726297 40.62604419372411, -73.96661621040211 40.62606731716107, -73.96660638332114 40.626007324369795, -73.96664680403327 40.626003480977275, -73.96664570466969 40.62599676998366)))',\n",
              " None,\n",
              " '3170958',\n",
              " '1925',\n",
              " '2017-08-22T00:00:00',\n",
              " 'Constructed',\n",
              " '96807',\n",
              " '29.74985318',\n",
              " '2100',\n",
              " '40',\n",
              " '0.0',\n",
              " '0.0',\n",
              " '3065220021',\n",
              " '3065220021',\n",
              " 'Photogramm']"
            ]
          },
          "execution_count": 33,
          "metadata": {},
          "output_type": "execute_result"
        }
      ],
      "source": [
        "# previewing the first row of our data\n",
        "data['data'][0]"
      ]
    },
    {
      "cell_type": "markdown",
      "metadata": {
        "id": "b5wyZEPosUQg"
      },
      "source": [
        "Retrieving column names from the meta data."
      ]
    },
    {
      "cell_type": "code",
      "execution_count": null,
      "metadata": {
        "scrolled": false,
        "id": "rHYbk_k6sUQg",
        "outputId": "d63d8ad2-2e88-4cfd-c453-ae7172a72a15"
      },
      "outputs": [
        {
          "data": {
            "text/plain": [
              "dict_keys(['view'])"
            ]
          },
          "execution_count": 34,
          "metadata": {},
          "output_type": "execute_result"
        }
      ],
      "source": [
        "data['meta'].keys()"
      ]
    },
    {
      "cell_type": "code",
      "execution_count": null,
      "metadata": {
        "id": "QnGVfJ5rsUQg",
        "outputId": "2203062c-1333-4139-b627-cd00c36f1ebd"
      },
      "outputs": [
        {
          "name": "stdout",
          "output_type": "stream",
          "text": [
            "id\n",
            "name\n",
            "assetType\n",
            "averageRating\n",
            "createdAt\n",
            "displayType\n",
            "downloadCount\n",
            "hideFromCatalog\n",
            "hideFromDataJson\n",
            "newBackend\n",
            "numberOfComments\n",
            "oid\n",
            "provenance\n",
            "publicationAppendEnabled\n",
            "publicationDate\n",
            "publicationGroup\n",
            "publicationStage\n",
            "rowsUpdatedAt\n",
            "rowsUpdatedBy\n",
            "tableId\n",
            "totalTimesRated\n",
            "viewCount\n",
            "viewLastModified\n",
            "viewType\n",
            "approvals\n",
            "clientContext\n",
            "columns\n",
            "grants\n",
            "metadata\n",
            "owner\n",
            "query\n",
            "rights\n",
            "tableAuthor\n",
            "flags\n"
          ]
        }
      ],
      "source": [
        "keys = data['meta']['view'].keys()\n",
        "\n",
        "for key in keys:\n",
        "    print(key)"
      ]
    },
    {
      "cell_type": "code",
      "execution_count": null,
      "metadata": {
        "id": "VSaskw2TsUQg",
        "outputId": "5f4a2ef1-f2ac-4256-e004-fc5b8cacab51"
      },
      "outputs": [
        {
          "data": {
            "text/plain": [
              "[{'id': -1,\n",
              "  'name': 'sid',\n",
              "  'dataTypeName': 'meta_data',\n",
              "  'fieldName': ':sid',\n",
              "  'position': 0,\n",
              "  'renderTypeName': 'meta_data',\n",
              "  'format': {},\n",
              "  'flags': ['hidden']},\n",
              " {'id': -1,\n",
              "  'name': 'id',\n",
              "  'dataTypeName': 'meta_data',\n",
              "  'fieldName': ':id',\n",
              "  'position': 0,\n",
              "  'renderTypeName': 'meta_data',\n",
              "  'format': {},\n",
              "  'flags': ['hidden']},\n",
              " {'id': -1,\n",
              "  'name': 'position',\n",
              "  'dataTypeName': 'meta_data',\n",
              "  'fieldName': ':position',\n",
              "  'position': 0,\n",
              "  'renderTypeName': 'meta_data',\n",
              "  'format': {},\n",
              "  'flags': ['hidden']},\n",
              " {'id': -1,\n",
              "  'name': 'created_at',\n",
              "  'dataTypeName': 'meta_data',\n",
              "  'fieldName': ':created_at',\n",
              "  'position': 0,\n",
              "  'renderTypeName': 'meta_data',\n",
              "  'format': {},\n",
              "  'flags': ['hidden']},\n",
              " {'id': -1,\n",
              "  'name': 'created_meta',\n",
              "  'dataTypeName': 'meta_data',\n",
              "  'fieldName': ':created_meta',\n",
              "  'position': 0,\n",
              "  'renderTypeName': 'meta_data',\n",
              "  'format': {},\n",
              "  'flags': ['hidden']}]"
            ]
          },
          "execution_count": 36,
          "metadata": {},
          "output_type": "execute_result"
        }
      ],
      "source": [
        "# locating our columns (i.e. field names) and saving as a new variable called 'cols'\n",
        "cols = data['meta']['view']['columns']\n",
        "\n",
        "# previewing first five\n",
        "cols[:5]"
      ]
    },
    {
      "cell_type": "code",
      "execution_count": null,
      "metadata": {
        "id": "fzlN6o8DsUQh",
        "outputId": "6e533765-e8d2-43e0-999c-94bd3f930dc9"
      },
      "outputs": [
        {
          "name": "stdout",
          "output_type": "stream",
          "text": [
            ":sid\n",
            ":id\n",
            ":position\n",
            ":created_at\n",
            ":created_meta\n",
            ":updated_at\n",
            ":updated_meta\n",
            ":meta\n",
            "the_geom\n",
            "name\n",
            "bin\n",
            "cnstrct_yr\n",
            "lstmoddate\n",
            "lststatype\n",
            "doitt_id\n",
            "heightroof\n",
            "feat_code\n",
            "groundelev\n",
            "shape_area\n",
            "shape_len\n",
            "base_bbl\n",
            "mpluto_bbl\n",
            "geomsource\n"
          ]
        }
      ],
      "source": [
        "for item in cols:\n",
        "    print(item['fieldName'])"
      ]
    },
    {
      "cell_type": "code",
      "execution_count": null,
      "metadata": {
        "id": "Ln_JOa2TsUQh",
        "outputId": "b34c3aed-67a9-4cef-a625-d54dab531419"
      },
      "outputs": [
        {
          "name": "stdout",
          "output_type": "stream",
          "text": [
            ":sid\n",
            ":id\n",
            ":position\n",
            ":created_at\n",
            ":created_meta\n",
            ":updated_at\n",
            ":updated_meta\n",
            ":meta\n",
            "the_geom\n",
            "name\n",
            "bin\n",
            "cnstrct_yr\n",
            "lstmoddate\n",
            "lststatype\n",
            "doitt_id\n",
            "heightroof\n",
            "feat_code\n",
            "groundelev\n",
            "shape_area\n",
            "shape_len\n",
            "base_bbl\n",
            "mpluto_bbl\n",
            "geomsource\n"
          ]
        }
      ],
      "source": [
        "# saving our field names as a variable\n",
        "fieldName = {x['fieldName']: x for x in cols}\n",
        "\n",
        "# printing the field names in our data\n",
        "for key in fieldName.keys():\n",
        "    print(key)"
      ]
    },
    {
      "cell_type": "code",
      "execution_count": null,
      "metadata": {
        "id": "i23lwXmBsUQh",
        "outputId": "deb8f359-0b90-4822-cfc3-90812e67ff8d"
      },
      "outputs": [
        {
          "data": {
            "text/html": [
              "<div>\n",
              "<style scoped>\n",
              "    .dataframe tbody tr th:only-of-type {\n",
              "        vertical-align: middle;\n",
              "    }\n",
              "\n",
              "    .dataframe tbody tr th {\n",
              "        vertical-align: top;\n",
              "    }\n",
              "\n",
              "    .dataframe thead th {\n",
              "        text-align: right;\n",
              "    }\n",
              "</style>\n",
              "<table border=\"1\" class=\"dataframe\">\n",
              "  <thead>\n",
              "    <tr style=\"text-align: right;\">\n",
              "      <th></th>\n",
              "      <th>the_geom</th>\n",
              "      <th>name</th>\n",
              "      <th>bin</th>\n",
              "      <th>cnstrct_yr</th>\n",
              "      <th>lstmoddate</th>\n",
              "      <th>lststatype</th>\n",
              "      <th>doitt_id</th>\n",
              "      <th>heightroof</th>\n",
              "      <th>feat_code</th>\n",
              "      <th>groundelev</th>\n",
              "      <th>shape_area</th>\n",
              "      <th>shape_len</th>\n",
              "      <th>base_bbl</th>\n",
              "      <th>mpluto_bbl</th>\n",
              "      <th>geomsource</th>\n",
              "    </tr>\n",
              "  </thead>\n",
              "  <tbody>\n",
              "    <tr>\n",
              "      <th>0</th>\n",
              "      <td>MULTIPOLYGON (((-73.96664570466969 40.62599676...</td>\n",
              "      <td>None</td>\n",
              "      <td>3170958</td>\n",
              "      <td>1925</td>\n",
              "      <td>2017-08-22T00:00:00</td>\n",
              "      <td>Constructed</td>\n",
              "      <td>96807</td>\n",
              "      <td>29.74985318</td>\n",
              "      <td>2100</td>\n",
              "      <td>40</td>\n",
              "      <td>0.0</td>\n",
              "      <td>0.0</td>\n",
              "      <td>3065220021</td>\n",
              "      <td>3065220021</td>\n",
              "      <td>Photogramm</td>\n",
              "    </tr>\n",
              "    <tr>\n",
              "      <th>1</th>\n",
              "      <td>MULTIPOLYGON (((-74.16790202462265 40.63936048...</td>\n",
              "      <td>None</td>\n",
              "      <td>5028452</td>\n",
              "      <td>1965</td>\n",
              "      <td>2017-08-22T00:00:00</td>\n",
              "      <td>Constructed</td>\n",
              "      <td>326368</td>\n",
              "      <td>22.63</td>\n",
              "      <td>2100</td>\n",
              "      <td>39</td>\n",
              "      <td>0.0</td>\n",
              "      <td>0.0</td>\n",
              "      <td>5012640036</td>\n",
              "      <td>5012640036</td>\n",
              "      <td>Photogramm</td>\n",
              "    </tr>\n",
              "    <tr>\n",
              "      <th>2</th>\n",
              "      <td>MULTIPOLYGON (((-74.19510813278613 40.55610681...</td>\n",
              "      <td>None</td>\n",
              "      <td>5078368</td>\n",
              "      <td>1970</td>\n",
              "      <td>2017-08-22T00:00:00</td>\n",
              "      <td>Constructed</td>\n",
              "      <td>746627</td>\n",
              "      <td>35.76</td>\n",
              "      <td>2100</td>\n",
              "      <td>51</td>\n",
              "      <td>0.0</td>\n",
              "      <td>0.0</td>\n",
              "      <td>5060190091</td>\n",
              "      <td>5060190091</td>\n",
              "      <td>Photogramm</td>\n",
              "    </tr>\n",
              "    <tr>\n",
              "      <th>3</th>\n",
              "      <td>MULTIPOLYGON (((-73.96113466505085 40.57743931...</td>\n",
              "      <td>None</td>\n",
              "      <td>3245111</td>\n",
              "      <td>1928</td>\n",
              "      <td>2017-08-22T00:00:00</td>\n",
              "      <td>Constructed</td>\n",
              "      <td>786626</td>\n",
              "      <td>37.5</td>\n",
              "      <td>2100</td>\n",
              "      <td>6</td>\n",
              "      <td>0.0</td>\n",
              "      <td>0.0</td>\n",
              "      <td>3086910048</td>\n",
              "      <td>3086910048</td>\n",
              "      <td>Photogramm</td>\n",
              "    </tr>\n",
              "    <tr>\n",
              "      <th>4</th>\n",
              "      <td>MULTIPOLYGON (((-73.75421559146166 40.75591276...</td>\n",
              "      <td>None</td>\n",
              "      <td>4161096</td>\n",
              "      <td>1950</td>\n",
              "      <td>2017-08-22T00:00:00</td>\n",
              "      <td>Constructed</td>\n",
              "      <td>746409</td>\n",
              "      <td>18.01511294</td>\n",
              "      <td>2100</td>\n",
              "      <td>93</td>\n",
              "      <td>0.0</td>\n",
              "      <td>0.0</td>\n",
              "      <td>4075020005</td>\n",
              "      <td>4075020005</td>\n",
              "      <td>Photogramm</td>\n",
              "    </tr>\n",
              "  </tbody>\n",
              "</table>\n",
              "</div>"
            ],
            "text/plain": [
              "                                            the_geom  name      bin  \\\n",
              "0  MULTIPOLYGON (((-73.96664570466969 40.62599676...  None  3170958   \n",
              "1  MULTIPOLYGON (((-74.16790202462265 40.63936048...  None  5028452   \n",
              "2  MULTIPOLYGON (((-74.19510813278613 40.55610681...  None  5078368   \n",
              "3  MULTIPOLYGON (((-73.96113466505085 40.57743931...  None  3245111   \n",
              "4  MULTIPOLYGON (((-73.75421559146166 40.75591276...  None  4161096   \n",
              "\n",
              "  cnstrct_yr           lstmoddate   lststatype doitt_id   heightroof  \\\n",
              "0       1925  2017-08-22T00:00:00  Constructed    96807  29.74985318   \n",
              "1       1965  2017-08-22T00:00:00  Constructed   326368        22.63   \n",
              "2       1970  2017-08-22T00:00:00  Constructed   746627        35.76   \n",
              "3       1928  2017-08-22T00:00:00  Constructed   786626         37.5   \n",
              "4       1950  2017-08-22T00:00:00  Constructed   746409  18.01511294   \n",
              "\n",
              "  feat_code groundelev shape_area shape_len    base_bbl  mpluto_bbl  \\\n",
              "0      2100         40        0.0       0.0  3065220021  3065220021   \n",
              "1      2100         39        0.0       0.0  5012640036  5012640036   \n",
              "2      2100         51        0.0       0.0  5060190091  5060190091   \n",
              "3      2100          6        0.0       0.0  3086910048  3086910048   \n",
              "4      2100         93        0.0       0.0  4075020005  4075020005   \n",
              "\n",
              "   geomsource  \n",
              "0  Photogramm  \n",
              "1  Photogramm  \n",
              "2  Photogramm  \n",
              "3  Photogramm  \n",
              "4  Photogramm  "
            ]
          },
          "execution_count": 39,
          "metadata": {},
          "output_type": "execute_result"
        }
      ],
      "source": [
        "# saving our field names in a list\n",
        "columns = [*fieldName]\n",
        "df_json = pd.DataFrame(data['data'], columns=columns)\n",
        "\n",
        "# identifying columns not required for analysis\n",
        "drop_columns = [':sid',\n",
        "                ':id',\n",
        "                ':position',\n",
        "                ':created_at',\n",
        "                ':created_meta',\n",
        "                ':updated_at',\n",
        "                ':updated_meta',\n",
        "                ':meta']\n",
        "\n",
        "# dropping columns not required for analysis\n",
        "df_json = df_json.drop(drop_columns, axis=1)\n",
        "df_json.head()"
      ]
    },
    {
      "cell_type": "code",
      "execution_count": null,
      "metadata": {
        "scrolled": true,
        "id": "ev7LT8SIsUQh",
        "outputId": "92d56b1c-a519-4dbf-d510-2ab0c9b76e61"
      },
      "outputs": [
        {
          "name": "stdout",
          "output_type": "stream",
          "text": [
            "This dataset has 1,084,557 rows and 15 columns.\n"
          ]
        }
      ],
      "source": [
        "# printing dimensions of data\n",
        "rows, columns = df_json.shape\n",
        "\n",
        "print('This dataset has {:,} rows and {:,} columns.'.format(rows, columns))"
      ]
    },
    {
      "cell_type": "markdown",
      "metadata": {
        "id": "aU8_wlIYsUQi"
      },
      "source": [
        "## 3.3 Reading in Shapefile data"
      ]
    },
    {
      "cell_type": "markdown",
      "metadata": {
        "id": "kgGB7rvXsUQi"
      },
      "source": [
        "![building_footprints_csv](images/building-footprints-shp.png)"
      ]
    },
    {
      "cell_type": "code",
      "execution_count": null,
      "metadata": {
        "id": "7boxdlhesUQi",
        "outputId": "7d9eb4ed-5ffa-4196-87cc-a28bfad334c6"
      },
      "outputs": [
        {
          "data": {
            "text/html": [
              "<div>\n",
              "<style scoped>\n",
              "    .dataframe tbody tr th:only-of-type {\n",
              "        vertical-align: middle;\n",
              "    }\n",
              "\n",
              "    .dataframe tbody tr th {\n",
              "        vertical-align: top;\n",
              "    }\n",
              "\n",
              "    .dataframe thead th {\n",
              "        text-align: right;\n",
              "    }\n",
              "</style>\n",
              "<table border=\"1\" class=\"dataframe\">\n",
              "  <thead>\n",
              "    <tr style=\"text-align: right;\">\n",
              "      <th></th>\n",
              "      <th>base_bbl</th>\n",
              "      <th>bin</th>\n",
              "      <th>cnstrct_yr</th>\n",
              "      <th>doitt_id</th>\n",
              "      <th>feat_code</th>\n",
              "      <th>geomsource</th>\n",
              "      <th>groundelev</th>\n",
              "      <th>heightroof</th>\n",
              "      <th>date_lstmo</th>\n",
              "      <th>time_lstmo</th>\n",
              "      <th>lststatype</th>\n",
              "      <th>mpluto_bbl</th>\n",
              "      <th>name</th>\n",
              "      <th>shape_area</th>\n",
              "      <th>shape_len</th>\n",
              "      <th>geometry</th>\n",
              "    </tr>\n",
              "  </thead>\n",
              "  <tbody>\n",
              "    <tr>\n",
              "      <th>0</th>\n",
              "      <td>3065220021</td>\n",
              "      <td>3170958.0</td>\n",
              "      <td>1925.0</td>\n",
              "      <td>96807.0</td>\n",
              "      <td>2100.0</td>\n",
              "      <td>Photogramm</td>\n",
              "      <td>40.0</td>\n",
              "      <td>29.749853</td>\n",
              "      <td>2017-08-22</td>\n",
              "      <td>00:00:00.000</td>\n",
              "      <td>Constructed</td>\n",
              "      <td>3065220021</td>\n",
              "      <td>None</td>\n",
              "      <td>0.0</td>\n",
              "      <td>0.0</td>\n",
              "      <td>POLYGON ((-73.96665 40.62600, -73.96685 40.625...</td>\n",
              "    </tr>\n",
              "    <tr>\n",
              "      <th>1</th>\n",
              "      <td>5012640036</td>\n",
              "      <td>5028452.0</td>\n",
              "      <td>1965.0</td>\n",
              "      <td>326368.0</td>\n",
              "      <td>2100.0</td>\n",
              "      <td>Photogramm</td>\n",
              "      <td>39.0</td>\n",
              "      <td>22.630000</td>\n",
              "      <td>2017-08-22</td>\n",
              "      <td>00:00:00.000</td>\n",
              "      <td>Constructed</td>\n",
              "      <td>5012640036</td>\n",
              "      <td>None</td>\n",
              "      <td>0.0</td>\n",
              "      <td>0.0</td>\n",
              "      <td>POLYGON ((-74.16790 40.63936, -74.16790 40.639...</td>\n",
              "    </tr>\n",
              "    <tr>\n",
              "      <th>2</th>\n",
              "      <td>5060190091</td>\n",
              "      <td>5078368.0</td>\n",
              "      <td>1970.0</td>\n",
              "      <td>746627.0</td>\n",
              "      <td>2100.0</td>\n",
              "      <td>Photogramm</td>\n",
              "      <td>51.0</td>\n",
              "      <td>35.760000</td>\n",
              "      <td>2017-08-22</td>\n",
              "      <td>00:00:00.000</td>\n",
              "      <td>Constructed</td>\n",
              "      <td>5060190091</td>\n",
              "      <td>None</td>\n",
              "      <td>0.0</td>\n",
              "      <td>0.0</td>\n",
              "      <td>POLYGON ((-74.19511 40.55611, -74.19520 40.556...</td>\n",
              "    </tr>\n",
              "    <tr>\n",
              "      <th>3</th>\n",
              "      <td>3086910048</td>\n",
              "      <td>3245111.0</td>\n",
              "      <td>1928.0</td>\n",
              "      <td>786626.0</td>\n",
              "      <td>2100.0</td>\n",
              "      <td>Photogramm</td>\n",
              "      <td>6.0</td>\n",
              "      <td>37.500000</td>\n",
              "      <td>2017-08-22</td>\n",
              "      <td>00:00:00.000</td>\n",
              "      <td>Constructed</td>\n",
              "      <td>3086910048</td>\n",
              "      <td>None</td>\n",
              "      <td>0.0</td>\n",
              "      <td>0.0</td>\n",
              "      <td>POLYGON ((-73.96113 40.57744, -73.96115 40.577...</td>\n",
              "    </tr>\n",
              "    <tr>\n",
              "      <th>4</th>\n",
              "      <td>4075020005</td>\n",
              "      <td>4161096.0</td>\n",
              "      <td>1950.0</td>\n",
              "      <td>746409.0</td>\n",
              "      <td>2100.0</td>\n",
              "      <td>Photogramm</td>\n",
              "      <td>93.0</td>\n",
              "      <td>18.015113</td>\n",
              "      <td>2017-08-22</td>\n",
              "      <td>00:00:00.000</td>\n",
              "      <td>Constructed</td>\n",
              "      <td>4075020005</td>\n",
              "      <td>None</td>\n",
              "      <td>0.0</td>\n",
              "      <td>0.0</td>\n",
              "      <td>POLYGON ((-73.75422 40.75591, -73.75417 40.755...</td>\n",
              "    </tr>\n",
              "  </tbody>\n",
              "</table>\n",
              "</div>"
            ],
            "text/plain": [
              "     base_bbl        bin  cnstrct_yr  doitt_id  feat_code  geomsource  \\\n",
              "0  3065220021  3170958.0      1925.0   96807.0     2100.0  Photogramm   \n",
              "1  5012640036  5028452.0      1965.0  326368.0     2100.0  Photogramm   \n",
              "2  5060190091  5078368.0      1970.0  746627.0     2100.0  Photogramm   \n",
              "3  3086910048  3245111.0      1928.0  786626.0     2100.0  Photogramm   \n",
              "4  4075020005  4161096.0      1950.0  746409.0     2100.0  Photogramm   \n",
              "\n",
              "   groundelev  heightroof  date_lstmo    time_lstmo   lststatype  mpluto_bbl  \\\n",
              "0        40.0   29.749853  2017-08-22  00:00:00.000  Constructed  3065220021   \n",
              "1        39.0   22.630000  2017-08-22  00:00:00.000  Constructed  5012640036   \n",
              "2        51.0   35.760000  2017-08-22  00:00:00.000  Constructed  5060190091   \n",
              "3         6.0   37.500000  2017-08-22  00:00:00.000  Constructed  3086910048   \n",
              "4        93.0   18.015113  2017-08-22  00:00:00.000  Constructed  4075020005   \n",
              "\n",
              "   name  shape_area  shape_len  \\\n",
              "0  None         0.0        0.0   \n",
              "1  None         0.0        0.0   \n",
              "2  None         0.0        0.0   \n",
              "3  None         0.0        0.0   \n",
              "4  None         0.0        0.0   \n",
              "\n",
              "                                            geometry  \n",
              "0  POLYGON ((-73.96665 40.62600, -73.96685 40.625...  \n",
              "1  POLYGON ((-74.16790 40.63936, -74.16790 40.639...  \n",
              "2  POLYGON ((-74.19511 40.55611, -74.19520 40.556...  \n",
              "3  POLYGON ((-73.96113 40.57744, -73.96115 40.577...  \n",
              "4  POLYGON ((-73.75422 40.75591, -73.75417 40.755...  "
            ]
          },
          "execution_count": 41,
          "metadata": {},
          "output_type": "execute_result"
        }
      ],
      "source": [
        "url = 'https://data.cityofnewyork.us/api/geospatial/nqwf-w8eh?method=export&format=Shapefile'\n",
        "\n",
        "# reading in data as a geodataframe\n",
        "gdf = gpd.read_file(url)\n",
        "\n",
        "# printing the firt five rows\n",
        "gdf.head()"
      ]
    },
    {
      "cell_type": "code",
      "execution_count": null,
      "metadata": {
        "id": "L5b7WrnisUQj",
        "outputId": "8e7ed8b0-3dd1-4aef-b52d-029d11b27ed7"
      },
      "outputs": [
        {
          "name": "stdout",
          "output_type": "stream",
          "text": [
            "This dataset has 1,084,557 rows and 16 columns.\n"
          ]
        }
      ],
      "source": [
        "rows, columns = gdf.shape\n",
        "\n",
        "print('This dataset has {:,} rows and {:,} columns.'.format(rows, columns))"
      ]
    },
    {
      "cell_type": "code",
      "execution_count": null,
      "metadata": {
        "id": "TcO76fVvsUQj",
        "outputId": "5137604b-13f6-4df1-fa8d-aceb5261867e"
      },
      "outputs": [
        {
          "data": {
            "text/plain": [
              "<AxesSubplot:>"
            ]
          },
          "execution_count": 43,
          "metadata": {},
          "output_type": "execute_result"
        },
        {
          "data": {
            "image/png": "[encoded data removed]",
            "text/plain": [
              "<Figure size 432x288 with 1 Axes>"
            ]
          },
          "metadata": {
            "needs_background": "light"
          },
          "output_type": "display_data"
        }
      ],
      "source": [
        "# plotting one building footprint\n",
        "gdf.head(1).plot()"
      ]
    },
    {
      "cell_type": "markdown",
      "metadata": {
        "id": "h6HTEzLWsUQj"
      },
      "source": [
        "## 3.4 Reading in data from Socrata Open Data API (SODA)"
      ]
    },
    {
      "cell_type": "markdown",
      "metadata": {
        "id": "2t-WSbk0sUQk"
      },
      "source": [
        "**Note: If you haven't signed up for an app token, there is a 1,000 rows limit.**"
      ]
    },
    {
      "cell_type": "markdown",
      "metadata": {
        "id": "6uizih51sUQk"
      },
      "source": [
        "![building_footprints_csv](images/building-footprints-soda-api.png)"
      ]
    },
    {
      "cell_type": "code",
      "execution_count": null,
      "metadata": {
        "id": "tPZH6TLzsUQk"
      },
      "outputs": [],
      "source": [
        "# nyc open data domain\n",
        "socrata_domain = 'data.cityofnewyork.us'\n",
        "\n",
        "# building footprints dataset identifier\n",
        "socrata_dataset_identifier = 'qb5r-6dgf'"
      ]
    },
    {
      "cell_type": "markdown",
      "metadata": {
        "id": "JdLOnYi9sUQl"
      },
      "source": [
        "Source: https://github.com/xmunoz/sodapy/blob/master/examples/basic_queries.ipynb"
      ]
    },
    {
      "cell_type": "code",
      "execution_count": null,
      "metadata": {
        "id": "xfoQ3M_TsUQl",
        "outputId": "7f48ef3a-6427-4e29-818e-e4121d81de3f"
      },
      "outputs": [
        {
          "name": "stderr",
          "output_type": "stream",
          "text": [
            "WARNING:root:Requests made without an app_token will be subject to strict throttling limits.\n"
          ]
        },
        {
          "name": "stdout",
          "output_type": "stream",
          "text": [
            "Domain: data.cityofnewyork.us\n",
            "Session: <requests.sessions.Session object at 0x16a255820>\n",
            "URI Prefix: https://\n"
          ]
        }
      ],
      "source": [
        "# The main class that interacts with the SODA API.\n",
        "client = Socrata(socrata_domain, None)\n",
        "\n",
        "print(\"Domain: {domain:}\\nSession: {session:}\\nURI Prefix: {uri_prefix:}\".format(**client.__dict__))"
      ]
    },
    {
      "cell_type": "markdown",
      "metadata": {
        "id": "ILdN2gOksUQl"
      },
      "source": [
        "We are setting the **limit** at **1,000 rows** (i.e. the full data set)."
      ]
    },
    {
      "cell_type": "code",
      "execution_count": null,
      "metadata": {
        "id": "DkyECmOksUQl",
        "outputId": "54f8342a-b4c1-4a57-d45f-ea9a31ae77ee"
      },
      "outputs": [
        {
          "data": {
            "text/html": [
              "<div>\n",
              "<style scoped>\n",
              "    .dataframe tbody tr th:only-of-type {\n",
              "        vertical-align: middle;\n",
              "    }\n",
              "\n",
              "    .dataframe tbody tr th {\n",
              "        vertical-align: top;\n",
              "    }\n",
              "\n",
              "    .dataframe thead th {\n",
              "        text-align: right;\n",
              "    }\n",
              "</style>\n",
              "<table border=\"1\" class=\"dataframe\">\n",
              "  <thead>\n",
              "    <tr style=\"text-align: right;\">\n",
              "      <th></th>\n",
              "      <th>the_geom</th>\n",
              "      <th>bin</th>\n",
              "      <th>cnstrct_yr</th>\n",
              "      <th>lstmoddate</th>\n",
              "      <th>lststatype</th>\n",
              "      <th>doitt_id</th>\n",
              "      <th>heightroof</th>\n",
              "      <th>feat_code</th>\n",
              "      <th>groundelev</th>\n",
              "      <th>shape_area</th>\n",
              "      <th>shape_len</th>\n",
              "      <th>base_bbl</th>\n",
              "      <th>mpluto_bbl</th>\n",
              "      <th>geomsource</th>\n",
              "    </tr>\n",
              "  </thead>\n",
              "  <tbody>\n",
              "    <tr>\n",
              "      <th>0</th>\n",
              "      <td>{'type': 'MultiPolygon', 'coordinates': [[[[-7...</td>\n",
              "      <td>3170958</td>\n",
              "      <td>1925</td>\n",
              "      <td>2017-08-22T00:00:00.000</td>\n",
              "      <td>Constructed</td>\n",
              "      <td>96807</td>\n",
              "      <td>29.74985318</td>\n",
              "      <td>2100</td>\n",
              "      <td>40</td>\n",
              "      <td>0.0</td>\n",
              "      <td>0.0</td>\n",
              "      <td>3065220021</td>\n",
              "      <td>3065220021</td>\n",
              "      <td>Photogramm</td>\n",
              "    </tr>\n",
              "    <tr>\n",
              "      <th>1</th>\n",
              "      <td>{'type': 'MultiPolygon', 'coordinates': [[[[-7...</td>\n",
              "      <td>5028452</td>\n",
              "      <td>1965</td>\n",
              "      <td>2017-08-22T00:00:00.000</td>\n",
              "      <td>Constructed</td>\n",
              "      <td>326368</td>\n",
              "      <td>22.63</td>\n",
              "      <td>2100</td>\n",
              "      <td>39</td>\n",
              "      <td>0.0</td>\n",
              "      <td>0.0</td>\n",
              "      <td>5012640036</td>\n",
              "      <td>5012640036</td>\n",
              "      <td>Photogramm</td>\n",
              "    </tr>\n",
              "    <tr>\n",
              "      <th>2</th>\n",
              "      <td>{'type': 'MultiPolygon', 'coordinates': [[[[-7...</td>\n",
              "      <td>5078368</td>\n",
              "      <td>1970</td>\n",
              "      <td>2017-08-22T00:00:00.000</td>\n",
              "      <td>Constructed</td>\n",
              "      <td>746627</td>\n",
              "      <td>35.76</td>\n",
              "      <td>2100</td>\n",
              "      <td>51</td>\n",
              "      <td>0.0</td>\n",
              "      <td>0.0</td>\n",
              "      <td>5060190091</td>\n",
              "      <td>5060190091</td>\n",
              "      <td>Photogramm</td>\n",
              "    </tr>\n",
              "    <tr>\n",
              "      <th>3</th>\n",
              "      <td>{'type': 'MultiPolygon', 'coordinates': [[[[-7...</td>\n",
              "      <td>3245111</td>\n",
              "      <td>1928</td>\n",
              "      <td>2017-08-22T00:00:00.000</td>\n",
              "      <td>Constructed</td>\n",
              "      <td>786626</td>\n",
              "      <td>37.5</td>\n",
              "      <td>2100</td>\n",
              "      <td>6</td>\n",
              "      <td>0.0</td>\n",
              "      <td>0.0</td>\n",
              "      <td>3086910048</td>\n",
              "      <td>3086910048</td>\n",
              "      <td>Photogramm</td>\n",
              "    </tr>\n",
              "    <tr>\n",
              "      <th>4</th>\n",
              "      <td>{'type': 'MultiPolygon', 'coordinates': [[[[-7...</td>\n",
              "      <td>4161096</td>\n",
              "      <td>1950</td>\n",
              "      <td>2017-08-22T00:00:00.000</td>\n",
              "      <td>Constructed</td>\n",
              "      <td>746409</td>\n",
              "      <td>18.01511294</td>\n",
              "      <td>2100</td>\n",
              "      <td>93</td>\n",
              "      <td>0.0</td>\n",
              "      <td>0.0</td>\n",
              "      <td>4075020005</td>\n",
              "      <td>4075020005</td>\n",
              "      <td>Photogramm</td>\n",
              "    </tr>\n",
              "  </tbody>\n",
              "</table>\n",
              "</div>"
            ],
            "text/plain": [
              "                                            the_geom      bin cnstrct_yr  \\\n",
              "0  {'type': 'MultiPolygon', 'coordinates': [[[[-7...  3170958       1925   \n",
              "1  {'type': 'MultiPolygon', 'coordinates': [[[[-7...  5028452       1965   \n",
              "2  {'type': 'MultiPolygon', 'coordinates': [[[[-7...  5078368       1970   \n",
              "3  {'type': 'MultiPolygon', 'coordinates': [[[[-7...  3245111       1928   \n",
              "4  {'type': 'MultiPolygon', 'coordinates': [[[[-7...  4161096       1950   \n",
              "\n",
              "                lstmoddate   lststatype doitt_id   heightroof feat_code  \\\n",
              "0  2017-08-22T00:00:00.000  Constructed    96807  29.74985318      2100   \n",
              "1  2017-08-22T00:00:00.000  Constructed   326368        22.63      2100   \n",
              "2  2017-08-22T00:00:00.000  Constructed   746627        35.76      2100   \n",
              "3  2017-08-22T00:00:00.000  Constructed   786626         37.5      2100   \n",
              "4  2017-08-22T00:00:00.000  Constructed   746409  18.01511294      2100   \n",
              "\n",
              "  groundelev shape_area shape_len    base_bbl  mpluto_bbl  geomsource  \n",
              "0         40        0.0       0.0  3065220021  3065220021  Photogramm  \n",
              "1         39        0.0       0.0  5012640036  5012640036  Photogramm  \n",
              "2         51        0.0       0.0  5060190091  5060190091  Photogramm  \n",
              "3          6        0.0       0.0  3086910048  3086910048  Photogramm  \n",
              "4         93        0.0       0.0  4075020005  4075020005  Photogramm  "
            ]
          },
          "execution_count": 46,
          "metadata": {},
          "output_type": "execute_result"
        }
      ],
      "source": [
        "# retrieving data as a dictionary\n",
        "results = client.get(socrata_dataset_identifier, limit=1000)\n",
        "\n",
        "# creating a dataframe from our dictionary\n",
        "df_api = pd.DataFrame.from_dict(results)\n",
        "\n",
        "# ending our API request\n",
        "client.close()\n",
        "\n",
        "# printing first five rows of data\n",
        "df_api.head()"
      ]
    },
    {
      "cell_type": "code",
      "execution_count": null,
      "metadata": {
        "id": "_YYQrI4gsUQm",
        "outputId": "81a62713-3ca5-4ad4-b12b-900f335afe49"
      },
      "outputs": [
        {
          "name": "stdout",
          "output_type": "stream",
          "text": [
            "This dataset has 1,000 rows and 14 columns.\n"
          ]
        }
      ],
      "source": [
        "rows, columns = df_api.shape\n",
        "\n",
        "print('This dataset has {:,} rows and {:,} columns.'.format(rows, columns))"
      ]
    },
    {
      "cell_type": "markdown",
      "metadata": {
        "id": "6N2Bs5p3sUQm"
      },
      "source": [
        "**Useful resources:**\n",
        "    \n",
        "- API Docs: https://dev.socrata.com/foundry/data.cityofnewyork.us/i62d-kjv8\n",
        "- Sign up for app token: https://data.cityofnewyork.us/profile/edit/developer_settings\n",
        "- Python client for the Socrata Open Data API: https://github.com/xmunoz/sodapy\n",
        "- Examples: https://github.com/xmunoz/sodapy/tree/master/examples"
      ]
    },
    {
      "cell_type": "markdown",
      "metadata": {
        "id": "RrhKcO3rsUQm"
      },
      "source": [
        "# 4. Writing Out Data"
      ]
    },
    {
      "cell_type": "code",
      "execution_count": null,
      "metadata": {
        "id": "ZYU5SVbwsUQn",
        "outputId": "014cc0db-1bda-4efd-dac3-3838418eb8f9"
      },
      "outputs": [
        {
          "data": {
            "text/html": [
              "<div>\n",
              "<style scoped>\n",
              "    .dataframe tbody tr th:only-of-type {\n",
              "        vertical-align: middle;\n",
              "    }\n",
              "\n",
              "    .dataframe tbody tr th {\n",
              "        vertical-align: top;\n",
              "    }\n",
              "\n",
              "    .dataframe thead th {\n",
              "        text-align: right;\n",
              "    }\n",
              "</style>\n",
              "<table border=\"1\" class=\"dataframe\">\n",
              "  <thead>\n",
              "    <tr style=\"text-align: right;\">\n",
              "      <th></th>\n",
              "      <th>the_geom</th>\n",
              "      <th>NAME</th>\n",
              "      <th>BIN</th>\n",
              "      <th>CNSTRCT_YR</th>\n",
              "      <th>LSTMODDATE</th>\n",
              "      <th>LSTSTATYPE</th>\n",
              "      <th>DOITT_ID</th>\n",
              "      <th>HEIGHTROOF</th>\n",
              "      <th>FEAT_CODE</th>\n",
              "      <th>GROUNDELEV</th>\n",
              "      <th>SHAPE_AREA</th>\n",
              "      <th>SHAPE_LEN</th>\n",
              "      <th>BASE_BBL</th>\n",
              "      <th>MPLUTO_BBL</th>\n",
              "      <th>GEOMSOURCE</th>\n",
              "    </tr>\n",
              "  </thead>\n",
              "  <tbody>\n",
              "    <tr>\n",
              "      <th>0</th>\n",
              "      <td>MULTIPOLYGON (((-73.87172426474349 40.65519420...</td>\n",
              "      <td>NaN</td>\n",
              "      <td>3394834</td>\n",
              "      <td>2011.0</td>\n",
              "      <td>08/22/2017 12:00:00 AM</td>\n",
              "      <td>Constructed</td>\n",
              "      <td>1250314</td>\n",
              "      <td>26.000000</td>\n",
              "      <td>2100.0</td>\n",
              "      <td>15.0</td>\n",
              "      <td>0</td>\n",
              "      <td>0</td>\n",
              "      <td>3.044521e+09</td>\n",
              "      <td>3.044521e+09</td>\n",
              "      <td>Other (Man</td>\n",
              "    </tr>\n",
              "    <tr>\n",
              "      <th>1</th>\n",
              "      <td>MULTIPOLYGON (((-73.86650099829305 40.74236058...</td>\n",
              "      <td>NaN</td>\n",
              "      <td>4540159</td>\n",
              "      <td>2010.0</td>\n",
              "      <td>08/22/2017 12:00:00 AM</td>\n",
              "      <td>Constructed</td>\n",
              "      <td>201366</td>\n",
              "      <td>28.000000</td>\n",
              "      <td>2100.0</td>\n",
              "      <td>37.0</td>\n",
              "      <td>0</td>\n",
              "      <td>0</td>\n",
              "      <td>4.018780e+09</td>\n",
              "      <td>4.018780e+09</td>\n",
              "      <td>Other (Man</td>\n",
              "    </tr>\n",
              "    <tr>\n",
              "      <th>2</th>\n",
              "      <td>MULTIPOLYGON (((-73.7940773567428 40.680625171...</td>\n",
              "      <td>NaN</td>\n",
              "      <td>4260357</td>\n",
              "      <td>2010.0</td>\n",
              "      <td>08/10/2017 12:00:00 AM</td>\n",
              "      <td>Constructed</td>\n",
              "      <td>1184712</td>\n",
              "      <td>29.000000</td>\n",
              "      <td>2100.0</td>\n",
              "      <td>20.0</td>\n",
              "      <td>0</td>\n",
              "      <td>0</td>\n",
              "      <td>4.120060e+09</td>\n",
              "      <td>4.120060e+09</td>\n",
              "      <td>Other (Man</td>\n",
              "    </tr>\n",
              "    <tr>\n",
              "      <th>3</th>\n",
              "      <td>MULTIPOLYGON (((-73.87805078807256 40.71475698...</td>\n",
              "      <td>NaN</td>\n",
              "      <td>4540051</td>\n",
              "      <td>2010.0</td>\n",
              "      <td>08/22/2017 12:00:00 AM</td>\n",
              "      <td>Constructed</td>\n",
              "      <td>1171655</td>\n",
              "      <td>28.330225</td>\n",
              "      <td>2100.0</td>\n",
              "      <td>112.0</td>\n",
              "      <td>0</td>\n",
              "      <td>0</td>\n",
              "      <td>4.030600e+09</td>\n",
              "      <td>4.030600e+09</td>\n",
              "      <td>Photogramm</td>\n",
              "    </tr>\n",
              "    <tr>\n",
              "      <th>4</th>\n",
              "      <td>MULTIPOLYGON (((-73.81520745135124 40.73053646...</td>\n",
              "      <td>NaN</td>\n",
              "      <td>4545453</td>\n",
              "      <td>2012.0</td>\n",
              "      <td>08/22/2017 12:00:00 AM</td>\n",
              "      <td>Constructed</td>\n",
              "      <td>1118502</td>\n",
              "      <td>16.640000</td>\n",
              "      <td>2100.0</td>\n",
              "      <td>74.0</td>\n",
              "      <td>0</td>\n",
              "      <td>0</td>\n",
              "      <td>4.066560e+09</td>\n",
              "      <td>4.066560e+09</td>\n",
              "      <td>Photogramm</td>\n",
              "    </tr>\n",
              "  </tbody>\n",
              "</table>\n",
              "</div>"
            ],
            "text/plain": [
              "                                            the_geom NAME      BIN  \\\n",
              "0  MULTIPOLYGON (((-73.87172426474349 40.65519420...  NaN  3394834   \n",
              "1  MULTIPOLYGON (((-73.86650099829305 40.74236058...  NaN  4540159   \n",
              "2  MULTIPOLYGON (((-73.7940773567428 40.680625171...  NaN  4260357   \n",
              "3  MULTIPOLYGON (((-73.87805078807256 40.71475698...  NaN  4540051   \n",
              "4  MULTIPOLYGON (((-73.81520745135124 40.73053646...  NaN  4545453   \n",
              "\n",
              "   CNSTRCT_YR              LSTMODDATE   LSTSTATYPE  DOITT_ID  HEIGHTROOF  \\\n",
              "0      2011.0  08/22/2017 12:00:00 AM  Constructed   1250314   26.000000   \n",
              "1      2010.0  08/22/2017 12:00:00 AM  Constructed    201366   28.000000   \n",
              "2      2010.0  08/10/2017 12:00:00 AM  Constructed   1184712   29.000000   \n",
              "3      2010.0  08/22/2017 12:00:00 AM  Constructed   1171655   28.330225   \n",
              "4      2012.0  08/22/2017 12:00:00 AM  Constructed   1118502   16.640000   \n",
              "\n",
              "   FEAT_CODE  GROUNDELEV  SHAPE_AREA  SHAPE_LEN      BASE_BBL    MPLUTO_BBL  \\\n",
              "0     2100.0        15.0           0          0  3.044521e+09  3.044521e+09   \n",
              "1     2100.0        37.0           0          0  4.018780e+09  4.018780e+09   \n",
              "2     2100.0        20.0           0          0  4.120060e+09  4.120060e+09   \n",
              "3     2100.0       112.0           0          0  4.030600e+09  4.030600e+09   \n",
              "4     2100.0        74.0           0          0  4.066560e+09  4.066560e+09   \n",
              "\n",
              "   GEOMSOURCE  \n",
              "0  Other (Man  \n",
              "1  Other (Man  \n",
              "2  Other (Man  \n",
              "3  Photogramm  \n",
              "4  Photogramm  "
            ]
          },
          "execution_count": 48,
          "metadata": {},
          "output_type": "execute_result"
        }
      ],
      "source": [
        "# read data as a dataframe\n",
        "df = pd.read_csv('data/sample-data.csv')\n",
        "\n",
        "# previewing first five rows in data\n",
        "df.head()"
      ]
    },
    {
      "cell_type": "markdown",
      "metadata": {
        "id": "_AzGe73qsUQn"
      },
      "source": [
        "## 4.1 Writing to a CSV file"
      ]
    },
    {
      "cell_type": "code",
      "execution_count": null,
      "metadata": {
        "id": "o-DeAoGnsUQn",
        "outputId": "3d3a6582-2c60-48ef-d8c9-7ad4cef6e635"
      },
      "outputs": [
        {
          "name": "stdout",
          "output_type": "stream",
          "text": [
            "ls: output/: No such file or directory\r\n"
          ]
        }
      ],
      "source": [
        "# writing files as a csv\n",
        "df.to_csv('data/output.csv', index=False)\n",
        "\n",
        "# listing items in data folder\n",
        "%ls output/"
      ]
    },
    {
      "cell_type": "markdown",
      "metadata": {
        "id": "LAKwN-XVsUQo"
      },
      "source": [
        "## 4.2 Writing to an Excel (xlsx) file"
      ]
    },
    {
      "cell_type": "code",
      "execution_count": null,
      "metadata": {
        "id": "i406IDzdsUQp",
        "outputId": "67c031ab-fd74-4f6c-9bfa-be7364771135"
      },
      "outputs": [
        {
          "name": "stdout",
          "output_type": "stream",
          "text": [
            "ls: output/: No such file or directory\r\n"
          ]
        }
      ],
      "source": [
        "# writing files as an excel file\n",
        "df.to_excel('data/output.xlsx', index=False)\n",
        "\n",
        "# listing items in data folder\n",
        "%ls output/"
      ]
    },
    {
      "cell_type": "markdown",
      "metadata": {
        "id": "La6feUfPsUQq"
      },
      "source": [
        "## 4.3 Writing to a JSON file"
      ]
    },
    {
      "cell_type": "code",
      "execution_count": null,
      "metadata": {
        "id": "k45agRsVsUQr",
        "outputId": "c89d6642-2e96-4fbc-ec71-2e38eb9098ff"
      },
      "outputs": [
        {
          "name": "stdout",
          "output_type": "stream",
          "text": [
            "ls: output/: No such file or directory\r\n"
          ]
        }
      ],
      "source": [
        "# writing files as json\n",
        "df.to_json('data/output.json')\n",
        "\n",
        "# listing items in data folder\n",
        "%ls output/"
      ]
    },
    {
      "cell_type": "markdown",
      "metadata": {
        "id": "ISscrVuksUQs"
      },
      "source": [
        "## 4.4 Writing to a Shapefile"
      ]
    },
    {
      "cell_type": "code",
      "execution_count": null,
      "metadata": {
        "id": "fOH5b-d-sUQs",
        "outputId": "42cc0c4a-97c8-4441-afbe-2fc1831d1dfb"
      },
      "outputs": [
        {
          "data": {
            "text/html": [
              "<div>\n",
              "<style scoped>\n",
              "    .dataframe tbody tr th:only-of-type {\n",
              "        vertical-align: middle;\n",
              "    }\n",
              "\n",
              "    .dataframe tbody tr th {\n",
              "        vertical-align: top;\n",
              "    }\n",
              "\n",
              "    .dataframe thead th {\n",
              "        text-align: right;\n",
              "    }\n",
              "</style>\n",
              "<table border=\"1\" class=\"dataframe\">\n",
              "  <thead>\n",
              "    <tr style=\"text-align: right;\">\n",
              "      <th></th>\n",
              "      <th>base_bbl</th>\n",
              "      <th>bin</th>\n",
              "      <th>cnstrct_yr</th>\n",
              "      <th>doitt_id</th>\n",
              "      <th>feat_code</th>\n",
              "      <th>geomsource</th>\n",
              "      <th>groundelev</th>\n",
              "      <th>heightroof</th>\n",
              "      <th>date_lstmo</th>\n",
              "      <th>time_lstmo</th>\n",
              "      <th>lststatype</th>\n",
              "      <th>mpluto_bbl</th>\n",
              "      <th>name</th>\n",
              "      <th>shape_area</th>\n",
              "      <th>shape_len</th>\n",
              "      <th>geometry</th>\n",
              "    </tr>\n",
              "  </thead>\n",
              "  <tbody>\n",
              "    <tr>\n",
              "      <th>0</th>\n",
              "      <td>3044520924</td>\n",
              "      <td>3394834.0</td>\n",
              "      <td>2011.0</td>\n",
              "      <td>1250314.0</td>\n",
              "      <td>2100.0</td>\n",
              "      <td>Other (Man</td>\n",
              "      <td>15.0</td>\n",
              "      <td>26.000000</td>\n",
              "      <td>2017-08-22</td>\n",
              "      <td>00:00:00.000</td>\n",
              "      <td>Constructed</td>\n",
              "      <td>3044520924</td>\n",
              "      <td>None</td>\n",
              "      <td>0.0</td>\n",
              "      <td>0.0</td>\n",
              "      <td>POLYGON ((-73.87172 40.65519, -73.87179 40.655...</td>\n",
              "    </tr>\n",
              "    <tr>\n",
              "      <th>1</th>\n",
              "      <td>4018780115</td>\n",
              "      <td>4540159.0</td>\n",
              "      <td>2010.0</td>\n",
              "      <td>201366.0</td>\n",
              "      <td>2100.0</td>\n",
              "      <td>Other (Man</td>\n",
              "      <td>37.0</td>\n",
              "      <td>28.000000</td>\n",
              "      <td>2017-08-22</td>\n",
              "      <td>00:00:00.000</td>\n",
              "      <td>Constructed</td>\n",
              "      <td>4018780115</td>\n",
              "      <td>None</td>\n",
              "      <td>0.0</td>\n",
              "      <td>0.0</td>\n",
              "      <td>POLYGON ((-73.86650 40.74236, -73.86645 40.742...</td>\n",
              "    </tr>\n",
              "    <tr>\n",
              "      <th>2</th>\n",
              "      <td>4120060029</td>\n",
              "      <td>4260357.0</td>\n",
              "      <td>2010.0</td>\n",
              "      <td>1184712.0</td>\n",
              "      <td>2100.0</td>\n",
              "      <td>Other (Man</td>\n",
              "      <td>20.0</td>\n",
              "      <td>29.000000</td>\n",
              "      <td>2017-08-10</td>\n",
              "      <td>00:00:00.000</td>\n",
              "      <td>Constructed</td>\n",
              "      <td>4120060029</td>\n",
              "      <td>None</td>\n",
              "      <td>0.0</td>\n",
              "      <td>0.0</td>\n",
              "      <td>POLYGON ((-73.79408 40.68063, -73.79407 40.680...</td>\n",
              "    </tr>\n",
              "    <tr>\n",
              "      <th>3</th>\n",
              "      <td>4030600139</td>\n",
              "      <td>4540051.0</td>\n",
              "      <td>2010.0</td>\n",
              "      <td>1171655.0</td>\n",
              "      <td>2100.0</td>\n",
              "      <td>Photogramm</td>\n",
              "      <td>112.0</td>\n",
              "      <td>28.330225</td>\n",
              "      <td>2017-08-22</td>\n",
              "      <td>00:00:00.000</td>\n",
              "      <td>Constructed</td>\n",
              "      <td>4030600139</td>\n",
              "      <td>None</td>\n",
              "      <td>0.0</td>\n",
              "      <td>0.0</td>\n",
              "      <td>POLYGON ((-73.87805 40.71476, -73.87787 40.714...</td>\n",
              "    </tr>\n",
              "    <tr>\n",
              "      <th>4</th>\n",
              "      <td>4066560052</td>\n",
              "      <td>4545453.0</td>\n",
              "      <td>2012.0</td>\n",
              "      <td>1118502.0</td>\n",
              "      <td>2100.0</td>\n",
              "      <td>Photogramm</td>\n",
              "      <td>74.0</td>\n",
              "      <td>16.640000</td>\n",
              "      <td>2017-08-22</td>\n",
              "      <td>00:00:00.000</td>\n",
              "      <td>Constructed</td>\n",
              "      <td>4066560052</td>\n",
              "      <td>None</td>\n",
              "      <td>0.0</td>\n",
              "      <td>0.0</td>\n",
              "      <td>POLYGON ((-73.81521 40.73054, -73.81546 40.730...</td>\n",
              "    </tr>\n",
              "  </tbody>\n",
              "</table>\n",
              "</div>"
            ],
            "text/plain": [
              "     base_bbl        bin  cnstrct_yr   doitt_id  feat_code  geomsource  \\\n",
              "0  3044520924  3394834.0      2011.0  1250314.0     2100.0  Other (Man   \n",
              "1  4018780115  4540159.0      2010.0   201366.0     2100.0  Other (Man   \n",
              "2  4120060029  4260357.0      2010.0  1184712.0     2100.0  Other (Man   \n",
              "3  4030600139  4540051.0      2010.0  1171655.0     2100.0  Photogramm   \n",
              "4  4066560052  4545453.0      2012.0  1118502.0     2100.0  Photogramm   \n",
              "\n",
              "   groundelev  heightroof  date_lstmo    time_lstmo   lststatype  mpluto_bbl  \\\n",
              "0        15.0   26.000000  2017-08-22  00:00:00.000  Constructed  3044520924   \n",
              "1        37.0   28.000000  2017-08-22  00:00:00.000  Constructed  4018780115   \n",
              "2        20.0   29.000000  2017-08-10  00:00:00.000  Constructed  4120060029   \n",
              "3       112.0   28.330225  2017-08-22  00:00:00.000  Constructed  4030600139   \n",
              "4        74.0   16.640000  2017-08-22  00:00:00.000  Constructed  4066560052   \n",
              "\n",
              "   name  shape_area  shape_len  \\\n",
              "0  None         0.0        0.0   \n",
              "1  None         0.0        0.0   \n",
              "2  None         0.0        0.0   \n",
              "3  None         0.0        0.0   \n",
              "4  None         0.0        0.0   \n",
              "\n",
              "                                            geometry  \n",
              "0  POLYGON ((-73.87172 40.65519, -73.87179 40.655...  \n",
              "1  POLYGON ((-73.86650 40.74236, -73.86645 40.742...  \n",
              "2  POLYGON ((-73.79408 40.68063, -73.79407 40.680...  \n",
              "3  POLYGON ((-73.87805 40.71476, -73.87787 40.714...  \n",
              "4  POLYGON ((-73.81521 40.73054, -73.81546 40.730...  "
            ]
          },
          "execution_count": 52,
          "metadata": {},
          "output_type": "execute_result"
        }
      ],
      "source": [
        "# read data as a geodataframe\n",
        "gdf = gpd.read_file('data/sample-data.shp')\n",
        "\n",
        "# previewing first five rows in data\n",
        "gdf.head()"
      ]
    },
    {
      "cell_type": "code",
      "execution_count": null,
      "metadata": {
        "id": "NoqKOtCBsUQs",
        "outputId": "b3c2e4f8-6708-4ac1-b252-0fca1899d5f6"
      },
      "outputs": [
        {
          "name": "stdout",
          "output_type": "stream",
          "text": [
            "README.md                output.dbf               sample-data.geojson\r\n",
            "building-footprints.csv  output.json              sample-data.gpkg\r\n",
            "nta_shape.cpg            output.prj               sample-data.json\r\n",
            "nta_shape.dbf            output.shp               sample-data.prj\r\n",
            "nta_shape.geojson        output.shx               sample-data.shp\r\n",
            "nta_shape.prj            output.xlsx              sample-data.shx\r\n",
            "nta_shape.shp            sample-buildings.zip     sample-data.xlsx\r\n",
            "nta_shape.shx            sample-data.cpg          \u001b[34munzipped-data\u001b[m\u001b[m/\r\n",
            "output.cpg               sample-data.csv\r\n",
            "output.csv               sample-data.dbf\r\n"
          ]
        }
      ],
      "source": [
        "gdf.to_file('data/output.shp')\n",
        "\n",
        "# listing items in data folder\n",
        "%ls data/"
      ]
    },
    {
      "cell_type": "markdown",
      "metadata": {
        "id": "M3YAvbLRsUQt"
      },
      "source": [
        "# 5. Conclusion"
      ]
    },
    {
      "cell_type": "markdown",
      "metadata": {
        "id": "IP72smrbsUQt"
      },
      "source": [
        "In this notebook, we reviewed various ways to read (load) and write (save) data from NYC Open Data. Specifically, we focused on reading our data into a pandas dataframe. We also went over common file formats that you might encounter - csv, json, shapefiles, and zip files. In Part II, we will focus on basic data inspection and wrangling techniques in the data analysis workflow."
      ]
    }
  ],
  "metadata": {
    "kernelspec": {
      "display_name": "Python 3 (ipykernel)",
      "language": "python",
      "name": "python3"
    },
    "language_info": {
      "codemirror_mode": {
        "name": "ipython",
        "version": 3
      },
      "file_extension": ".py",
      "mimetype": "text/x-python",
      "name": "python",
      "nbconvert_exporter": "python",
      "pygments_lexer": "ipython3",
      "version": "3.8.13"
    },
    "colab": {
      "provenance": [],
      "include_colab_link": true
    }
  },
  "nbformat": 4,
  "nbformat_minor": 0
}