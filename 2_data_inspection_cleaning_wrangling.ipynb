{
  "cells": [
    {
      "cell_type": "markdown",
      "metadata": {
        "id": "view-in-github",
        "colab_type": "text"
      },
      "source": [
        "<a href=\"https://colab.research.google.com/github/ngotancuong/datamining/blob/main/2_data_inspection_cleaning_wrangling.ipynb\" target=\"_parent\"><img src=\"https://colab.research.google.com/assets/colab-badge.svg\" alt=\"Open In Colab\"/></a>"
      ]
    },
    {
      "cell_type": "markdown",
      "metadata": {
        "id": "tkp8nJ5_mXrl"
      },
      "source": [
        "# Data Analysis Using Python: A Beginner’s Guide Featuring NYC Open Data  \n",
        "## Part 2: Data Inspection, Cleaning and Wrangling in Python\n",
        "\n",
        "Mark Bauer"
      ]
    },
    {
      "cell_type": "markdown",
      "metadata": {
        "id": "rogEK9-4mXrz"
      },
      "source": [
        "Table of Contents\n",
        "=================\n",
        "\n",
        "   Getting Started\n",
        "          \n",
        "   1. Importing Libraries\n",
        "   2. Reading in Data as a pandas Dataframe      \n",
        "   3. Data Inspection  \n",
        "     3.1 Previewing Data   \n",
        "     3.2 Calculating Summary Statistics  \n",
        "     3.3 Identifying Null Values\n",
        "   4. Data Cleaning & Wrangling  \n",
        "     4.1 Previewing Column Values  \n",
        "     4.2 Exploring Distribution of Values  \n",
        "     4.3 Making a Box Plot  \n",
        "     4.4 Calculating Interquartile Range (IQR)  \n",
        "     4.5 Dropping Null Values  \n",
        "     4.6 Replacing Null Values   \n",
        "   5. Analysis  \n",
        "     5.1. Timeseries of Year Built  \n",
        "     5.2. Attempting to Identify the Oldest Building in NYC   \n",
        "   6. Conclusion"
      ]
    },
    {
      "cell_type": "markdown",
      "metadata": {
        "id": "A0cK8xVbmXr3"
      },
      "source": [
        "**Goal:** In this notebook, we will review various ways to to inspect, clean, wrangle, and detect outliers in your data.\n",
        "\n",
        "**Main Library:** [pandas](https://pandas.pydata.org/) is a fast, powerful, flexible and easy to use open source data analysis and manipulation tool, built on top of the Python programming language."
      ]
    },
    {
      "cell_type": "markdown",
      "metadata": {
        "id": "LvsH4CVwmXr4"
      },
      "source": [
        "# Getting Started: Accessing the Building Footprints Dataset"
      ]
    },
    {
      "cell_type": "markdown",
      "metadata": {
        "id": "xCEHndocmXr5"
      },
      "source": [
        "## Reading in data as CSV in static form\n",
        "\n",
        "Copy this link address shown below:"
      ]
    },
    {
      "cell_type": "markdown",
      "metadata": {
        "id": "eYP5nwGImXr6"
      },
      "source": [
        "![building_footprints_csv](images/building-footprints-csv.png)"
      ]
    },
    {
      "cell_type": "markdown",
      "metadata": {
        "id": "ocyJV5SmmXr7"
      },
      "source": [
        "### Dataset Web Page Link:\n",
        "https://data.cityofnewyork.us/Housing-Development/Building-Footprints/nqwf-w8eh\n",
        "\n",
        "### Documentation/Metadata:\n",
        "https://github.com/CityOfNewYork/nyc-geo-metadata/blob/master/Metadata/Metadata_BuildingFootprints.md"
      ]
    },
    {
      "cell_type": "markdown",
      "metadata": {
        "id": "1qVEAFjUmXr9"
      },
      "source": [
        "### Attribute Information:\n",
        "---------------------------------------------\n",
        "| Attribute | Description | Field Type | Sensitive Field (Y/N) | Notes|\n",
        "|------------ | ------------- | -------- | ----------- | ----------|\n",
        "| BASE_BBL | Borough, block, and lot number for the tax lot that the footprint is physically located within. | text | No\n",
        "| MPLUTO_BBL | Borough, block, and lot number to be used for joining the building footprints data to DCP's MapPLUTO data, which aggregates data for condominium buildings using DOF's billing BBL. For non-condominium buildings the billing BBL is the same as the BASE_BBL. For condominium buildings the billing BBL may be the same for multiple buildings on different physical tax lots if they are part of the same billing unit for DOF purposes. | text | No\n",
        "| BIN | Building Identification Number. A number assigned by City Planning and used by Dept. of Buildings to reference information pertaining to an individual building. The first digit is a borough code (1 = Manhattan, 2 = The Bronx, 3 = Brooklyn, 4 = Queens, 5 = Staten Island). The remaining 6 digits are unique for buildings within that borough. In some cases where these 6 digits are all zeros (e.g. 1000000, 2000000, etc.) the BIN is unassigned or unknown. | double | No\n",
        "| NAME | Building name (limited to commonly known names). This field has not been actively maintained since the original creation of this dataset. | text | No\n",
        "| LSTMODDATE | Feature last modified date | date | No\n",
        "| LSTSTATTYPE | Feature last status type (Demolition, Alteration, Geometry, Initialization, Correction, Marked for Construction, Marked For Demolition, Constructed) | text | No\n",
        "| CNSTRCT_YR | The year construction of the building was completed. <br>Originally this column was populated using the Department of Finance Real Property Assessment Database (RPAD). Beginning in 2017 this will be the first year the completed structure is visible in available orthoimagery. Records where this is zero or NULL mean that this information was not available. | double | No\n",
        "| DOITT_ID | Unique identifier assigned by DOITT.  | double | No\n",
        "| HEIGHTROOF | Building Height is calculated as the difference from the building elevation from the Elevation point feature class and the elevation in the interpolated TIN model. This is the height of the roof above the ground elevation, NOT its height above sea level. Records where this is zero or NULL mean that this information was not available. | double | No | The units of measurement are based on the coordinate reference system used, which for all Planimetrics is New York State Plane Coordinates, Long Island East Zone, NAD83, US foot. All measurements in the attribute tables are in US foot. The building height information is updated through our planimetric updates every 4 years. In between those 4-year update cycles, DoITT manually updates building height information from a variety of sources -- (1) Final as-built heights as shown in plan drawings posted on Department of Buildings BIS website (2) EagleView Oblique imagery, direct measurements taken on photogrammetrically controlled aerial imagery (3) Cyclomedia imagery, direct measurements were taken on photogrammetrically controlled terrestrial imagery (for buildings less than 60’ tall, only)\n",
        "| FEAT_CODE | Type of Building. List of values:<br>2100 = Building<br>5100 = Building Under Construction<br>5110 = Garage<br>2110 = Skybridge<br>1001 = Gas Station Canopy<br>1002 = Storage Tank<br>1003 = Placeholder (triangle for permitted bldg)<br>1004 = Auxiliary Structure (non-addressable, not garage)<br>1005 = Temporary Structure (e.g. construction trailer) | long | No\n",
        "| GROUNDELEV | Lowest Elevation at the building ground level. Calculated from LiDAR or photogrammetrically. | double | No | The units of measurement are based on the coordinate reference system used, which for all Planimetrics is New York State Plane Coordinates, Long Island East Zone, NAD83, US foot. All measurements in the attribute tables are in US foot.\n",
        "| GEOM_SOURCE | Indicates the reference source used to add or update the feature. Photogrammetric means the feature was added or updated using photogrammetric stereo-compilation methodology. This is the most accurate update method and should conform to the ASPRS accuracy standards. Other (Manual) means the feature was added or updated by heads-up digitizing from orthophotos or approximated from a plan drawing. These features will be generally be less accurate and may not conform to the ASPRS accuracy standards. | text | No"
      ]
    },
    {
      "cell_type": "markdown",
      "metadata": {
        "id": "xFOzNVhtmXsB"
      },
      "source": [
        "# 1. Importing Libraries"
      ]
    },
    {
      "cell_type": "code",
      "execution_count": null,
      "metadata": {
        "id": "5lOuq0OSmXsC"
      },
      "outputs": [],
      "source": [
        "# importing libraries\n",
        "import pandas as pd\n",
        "import numpy as np\n",
        "import matplotlib.pyplot as plt\n",
        "import matplotlib\n",
        "from matplotlib.ticker import FuncFormatter\n",
        "import seaborn as sns\n",
        "\n",
        "# to plot matplotlib figures inline on the notebook\n",
        "%matplotlib inline"
      ]
    },
    {
      "cell_type": "code",
      "execution_count": null,
      "metadata": {
        "id": "hzmbw6EUmXsF",
        "outputId": "e0e667f8-30f3-4c40-c98d-7a9ff55bb85d"
      },
      "outputs": [
        {
          "name": "stdout",
          "output_type": "stream",
          "text": [
            "Python implementation: CPython\n",
            "Python version       : 3.8.13\n",
            "IPython version      : 8.4.0\n",
            "\n",
            "numpy            : 1.23.1\n",
            "pandas           : 1.4.3\n",
            "matplotlib.pyplot: unknown\n",
            "\n"
          ]
        }
      ],
      "source": [
        "# Printing verions of Python modules and packages with **watermark**\n",
        "\n",
        "%load_ext watermark\n",
        "%watermark -v -p numpy,pandas,matplotlib.pyplot"
      ]
    },
    {
      "cell_type": "markdown",
      "metadata": {
        "id": "qKDPXrN3mXsH"
      },
      "source": [
        "Documention for installing watermark: https://github.com/rasbt/watermark"
      ]
    },
    {
      "cell_type": "markdown",
      "metadata": {
        "id": "7AdsKLlymXsI"
      },
      "source": [
        "# 2. Reading in Data as a pandas Dataframe"
      ]
    },
    {
      "cell_type": "markdown",
      "metadata": {
        "id": "qQNxNYw3mXsI"
      },
      "source": [
        "If you receive `HTTPError: HTTP Error 404: Not Found`, you need to replace the CSV link. DoITT changes the link path regularly."
      ]
    },
    {
      "cell_type": "code",
      "execution_count": null,
      "metadata": {
        "id": "rdB1_yAomXsI",
        "outputId": "e57cd6df-b63a-4ba3-c359-03eb70777c9b"
      },
      "outputs": [
        {
          "data": {
            "text/html": [
              "<div>\n",
              "<style scoped>\n",
              "    .dataframe tbody tr th:only-of-type {\n",
              "        vertical-align: middle;\n",
              "    }\n",
              "\n",
              "    .dataframe tbody tr th {\n",
              "        vertical-align: top;\n",
              "    }\n",
              "\n",
              "    .dataframe thead th {\n",
              "        text-align: right;\n",
              "    }\n",
              "</style>\n",
              "<table border=\"1\" class=\"dataframe\">\n",
              "  <thead>\n",
              "    <tr style=\"text-align: right;\">\n",
              "      <th></th>\n",
              "      <th>the_geom</th>\n",
              "      <th>NAME</th>\n",
              "      <th>BIN</th>\n",
              "      <th>CNSTRCT_YR</th>\n",
              "      <th>LSTMODDATE</th>\n",
              "      <th>LSTSTATYPE</th>\n",
              "      <th>DOITT_ID</th>\n",
              "      <th>HEIGHTROOF</th>\n",
              "      <th>FEAT_CODE</th>\n",
              "      <th>GROUNDELEV</th>\n",
              "      <th>SHAPE_AREA</th>\n",
              "      <th>SHAPE_LEN</th>\n",
              "      <th>BASE_BBL</th>\n",
              "      <th>MPLUTO_BBL</th>\n",
              "      <th>GEOMSOURCE</th>\n",
              "    </tr>\n",
              "  </thead>\n",
              "  <tbody>\n",
              "    <tr>\n",
              "      <th>0</th>\n",
              "      <td>MULTIPOLYGON (((-73.96664570466969 40.62599676...</td>\n",
              "      <td>NaN</td>\n",
              "      <td>3170958</td>\n",
              "      <td>1925.0</td>\n",
              "      <td>08/22/2017 12:00:00 AM</td>\n",
              "      <td>Constructed</td>\n",
              "      <td>96807</td>\n",
              "      <td>29.749853</td>\n",
              "      <td>2100.0</td>\n",
              "      <td>40.0</td>\n",
              "      <td>0</td>\n",
              "      <td>0</td>\n",
              "      <td>3065220021</td>\n",
              "      <td>3065220021</td>\n",
              "      <td>Photogramm</td>\n",
              "    </tr>\n",
              "    <tr>\n",
              "      <th>1</th>\n",
              "      <td>MULTIPOLYGON (((-74.16790202462265 40.63936048...</td>\n",
              "      <td>NaN</td>\n",
              "      <td>5028452</td>\n",
              "      <td>1965.0</td>\n",
              "      <td>08/22/2017 12:00:00 AM</td>\n",
              "      <td>Constructed</td>\n",
              "      <td>326368</td>\n",
              "      <td>22.630000</td>\n",
              "      <td>2100.0</td>\n",
              "      <td>39.0</td>\n",
              "      <td>0</td>\n",
              "      <td>0</td>\n",
              "      <td>5012640036</td>\n",
              "      <td>5012640036</td>\n",
              "      <td>Photogramm</td>\n",
              "    </tr>\n",
              "    <tr>\n",
              "      <th>2</th>\n",
              "      <td>MULTIPOLYGON (((-74.19510813278613 40.55610681...</td>\n",
              "      <td>NaN</td>\n",
              "      <td>5078368</td>\n",
              "      <td>1970.0</td>\n",
              "      <td>08/22/2017 12:00:00 AM</td>\n",
              "      <td>Constructed</td>\n",
              "      <td>746627</td>\n",
              "      <td>35.760000</td>\n",
              "      <td>2100.0</td>\n",
              "      <td>51.0</td>\n",
              "      <td>0</td>\n",
              "      <td>0</td>\n",
              "      <td>5060190091</td>\n",
              "      <td>5060190091</td>\n",
              "      <td>Photogramm</td>\n",
              "    </tr>\n",
              "    <tr>\n",
              "      <th>3</th>\n",
              "      <td>MULTIPOLYGON (((-73.96113466505085 40.57743931...</td>\n",
              "      <td>NaN</td>\n",
              "      <td>3245111</td>\n",
              "      <td>1928.0</td>\n",
              "      <td>08/22/2017 12:00:00 AM</td>\n",
              "      <td>Constructed</td>\n",
              "      <td>786626</td>\n",
              "      <td>37.500000</td>\n",
              "      <td>2100.0</td>\n",
              "      <td>6.0</td>\n",
              "      <td>0</td>\n",
              "      <td>0</td>\n",
              "      <td>3086910048</td>\n",
              "      <td>3086910048</td>\n",
              "      <td>Photogramm</td>\n",
              "    </tr>\n",
              "    <tr>\n",
              "      <th>4</th>\n",
              "      <td>MULTIPOLYGON (((-73.75421559146166 40.75591276...</td>\n",
              "      <td>NaN</td>\n",
              "      <td>4161096</td>\n",
              "      <td>1950.0</td>\n",
              "      <td>08/22/2017 12:00:00 AM</td>\n",
              "      <td>Constructed</td>\n",
              "      <td>746409</td>\n",
              "      <td>18.015113</td>\n",
              "      <td>2100.0</td>\n",
              "      <td>93.0</td>\n",
              "      <td>0</td>\n",
              "      <td>0</td>\n",
              "      <td>4075020005</td>\n",
              "      <td>4075020005</td>\n",
              "      <td>Photogramm</td>\n",
              "    </tr>\n",
              "  </tbody>\n",
              "</table>\n",
              "</div>"
            ],
            "text/plain": [
              "                                            the_geom NAME      BIN  \\\n",
              "0  MULTIPOLYGON (((-73.96664570466969 40.62599676...  NaN  3170958   \n",
              "1  MULTIPOLYGON (((-74.16790202462265 40.63936048...  NaN  5028452   \n",
              "2  MULTIPOLYGON (((-74.19510813278613 40.55610681...  NaN  5078368   \n",
              "3  MULTIPOLYGON (((-73.96113466505085 40.57743931...  NaN  3245111   \n",
              "4  MULTIPOLYGON (((-73.75421559146166 40.75591276...  NaN  4161096   \n",
              "\n",
              "   CNSTRCT_YR              LSTMODDATE   LSTSTATYPE  DOITT_ID  HEIGHTROOF  \\\n",
              "0      1925.0  08/22/2017 12:00:00 AM  Constructed     96807   29.749853   \n",
              "1      1965.0  08/22/2017 12:00:00 AM  Constructed    326368   22.630000   \n",
              "2      1970.0  08/22/2017 12:00:00 AM  Constructed    746627   35.760000   \n",
              "3      1928.0  08/22/2017 12:00:00 AM  Constructed    786626   37.500000   \n",
              "4      1950.0  08/22/2017 12:00:00 AM  Constructed    746409   18.015113   \n",
              "\n",
              "   FEAT_CODE  GROUNDELEV  SHAPE_AREA  SHAPE_LEN    BASE_BBL  MPLUTO_BBL  \\\n",
              "0     2100.0        40.0           0          0  3065220021  3065220021   \n",
              "1     2100.0        39.0           0          0  5012640036  5012640036   \n",
              "2     2100.0        51.0           0          0  5060190091  5060190091   \n",
              "3     2100.0         6.0           0          0  3086910048  3086910048   \n",
              "4     2100.0        93.0           0          0  4075020005  4075020005   \n",
              "\n",
              "   GEOMSOURCE  \n",
              "0  Photogramm  \n",
              "1  Photogramm  \n",
              "2  Photogramm  \n",
              "3  Photogramm  \n",
              "4  Photogramm  "
            ]
          },
          "execution_count": 3,
          "metadata": {},
          "output_type": "execute_result"
        }
      ],
      "source": [
        "# assigning the link of our data (a static csv file) as the name 'url'\n",
        "# reading in our data as a pandas dataframe called building_df\n",
        "url = 'https://data.cityofnewyork.us/api/views/qb5r-6dgf/rows.csv?accessType=DOWNLOAD'\n",
        "building_df = pd.read_csv(url)\n",
        "\n",
        "# preview the data\n",
        "building_df.head()"
      ]
    },
    {
      "cell_type": "markdown",
      "metadata": {
        "id": "JYc8kN9XmXsJ"
      },
      "source": [
        "# 3. Data Inspection"
      ]
    },
    {
      "cell_type": "markdown",
      "metadata": {
        "id": "0e6Ub2z3mXsJ"
      },
      "source": [
        "## 3.1 Previewing Data"
      ]
    },
    {
      "cell_type": "code",
      "execution_count": null,
      "metadata": {
        "id": "1awh-co-mXsK",
        "outputId": "e6fbf3ed-3df8-4785-9393-9f65d04117cd"
      },
      "outputs": [
        {
          "data": {
            "text/html": [
              "<div>\n",
              "<style scoped>\n",
              "    .dataframe tbody tr th:only-of-type {\n",
              "        vertical-align: middle;\n",
              "    }\n",
              "\n",
              "    .dataframe tbody tr th {\n",
              "        vertical-align: top;\n",
              "    }\n",
              "\n",
              "    .dataframe thead th {\n",
              "        text-align: right;\n",
              "    }\n",
              "</style>\n",
              "<table border=\"1\" class=\"dataframe\">\n",
              "  <thead>\n",
              "    <tr style=\"text-align: right;\">\n",
              "      <th></th>\n",
              "      <th>the_geom</th>\n",
              "      <th>NAME</th>\n",
              "      <th>BIN</th>\n",
              "      <th>CNSTRCT_YR</th>\n",
              "      <th>LSTMODDATE</th>\n",
              "      <th>LSTSTATYPE</th>\n",
              "      <th>DOITT_ID</th>\n",
              "      <th>HEIGHTROOF</th>\n",
              "      <th>FEAT_CODE</th>\n",
              "      <th>GROUNDELEV</th>\n",
              "      <th>SHAPE_AREA</th>\n",
              "      <th>SHAPE_LEN</th>\n",
              "      <th>BASE_BBL</th>\n",
              "      <th>MPLUTO_BBL</th>\n",
              "      <th>GEOMSOURCE</th>\n",
              "    </tr>\n",
              "  </thead>\n",
              "  <tbody>\n",
              "    <tr>\n",
              "      <th>0</th>\n",
              "      <td>MULTIPOLYGON (((-73.96664570466969 40.62599676...</td>\n",
              "      <td>NaN</td>\n",
              "      <td>3170958</td>\n",
              "      <td>1925.0</td>\n",
              "      <td>08/22/2017 12:00:00 AM</td>\n",
              "      <td>Constructed</td>\n",
              "      <td>96807</td>\n",
              "      <td>29.749853</td>\n",
              "      <td>2100.0</td>\n",
              "      <td>40.0</td>\n",
              "      <td>0</td>\n",
              "      <td>0</td>\n",
              "      <td>3065220021</td>\n",
              "      <td>3065220021</td>\n",
              "      <td>Photogramm</td>\n",
              "    </tr>\n",
              "    <tr>\n",
              "      <th>1</th>\n",
              "      <td>MULTIPOLYGON (((-74.16790202462265 40.63936048...</td>\n",
              "      <td>NaN</td>\n",
              "      <td>5028452</td>\n",
              "      <td>1965.0</td>\n",
              "      <td>08/22/2017 12:00:00 AM</td>\n",
              "      <td>Constructed</td>\n",
              "      <td>326368</td>\n",
              "      <td>22.630000</td>\n",
              "      <td>2100.0</td>\n",
              "      <td>39.0</td>\n",
              "      <td>0</td>\n",
              "      <td>0</td>\n",
              "      <td>5012640036</td>\n",
              "      <td>5012640036</td>\n",
              "      <td>Photogramm</td>\n",
              "    </tr>\n",
              "    <tr>\n",
              "      <th>2</th>\n",
              "      <td>MULTIPOLYGON (((-74.19510813278613 40.55610681...</td>\n",
              "      <td>NaN</td>\n",
              "      <td>5078368</td>\n",
              "      <td>1970.0</td>\n",
              "      <td>08/22/2017 12:00:00 AM</td>\n",
              "      <td>Constructed</td>\n",
              "      <td>746627</td>\n",
              "      <td>35.760000</td>\n",
              "      <td>2100.0</td>\n",
              "      <td>51.0</td>\n",
              "      <td>0</td>\n",
              "      <td>0</td>\n",
              "      <td>5060190091</td>\n",
              "      <td>5060190091</td>\n",
              "      <td>Photogramm</td>\n",
              "    </tr>\n",
              "    <tr>\n",
              "      <th>3</th>\n",
              "      <td>MULTIPOLYGON (((-73.96113466505085 40.57743931...</td>\n",
              "      <td>NaN</td>\n",
              "      <td>3245111</td>\n",
              "      <td>1928.0</td>\n",
              "      <td>08/22/2017 12:00:00 AM</td>\n",
              "      <td>Constructed</td>\n",
              "      <td>786626</td>\n",
              "      <td>37.500000</td>\n",
              "      <td>2100.0</td>\n",
              "      <td>6.0</td>\n",
              "      <td>0</td>\n",
              "      <td>0</td>\n",
              "      <td>3086910048</td>\n",
              "      <td>3086910048</td>\n",
              "      <td>Photogramm</td>\n",
              "    </tr>\n",
              "    <tr>\n",
              "      <th>4</th>\n",
              "      <td>MULTIPOLYGON (((-73.75421559146166 40.75591276...</td>\n",
              "      <td>NaN</td>\n",
              "      <td>4161096</td>\n",
              "      <td>1950.0</td>\n",
              "      <td>08/22/2017 12:00:00 AM</td>\n",
              "      <td>Constructed</td>\n",
              "      <td>746409</td>\n",
              "      <td>18.015113</td>\n",
              "      <td>2100.0</td>\n",
              "      <td>93.0</td>\n",
              "      <td>0</td>\n",
              "      <td>0</td>\n",
              "      <td>4075020005</td>\n",
              "      <td>4075020005</td>\n",
              "      <td>Photogramm</td>\n",
              "    </tr>\n",
              "  </tbody>\n",
              "</table>\n",
              "</div>"
            ],
            "text/plain": [
              "                                            the_geom NAME      BIN  \\\n",
              "0  MULTIPOLYGON (((-73.96664570466969 40.62599676...  NaN  3170958   \n",
              "1  MULTIPOLYGON (((-74.16790202462265 40.63936048...  NaN  5028452   \n",
              "2  MULTIPOLYGON (((-74.19510813278613 40.55610681...  NaN  5078368   \n",
              "3  MULTIPOLYGON (((-73.96113466505085 40.57743931...  NaN  3245111   \n",
              "4  MULTIPOLYGON (((-73.75421559146166 40.75591276...  NaN  4161096   \n",
              "\n",
              "   CNSTRCT_YR              LSTMODDATE   LSTSTATYPE  DOITT_ID  HEIGHTROOF  \\\n",
              "0      1925.0  08/22/2017 12:00:00 AM  Constructed     96807   29.749853   \n",
              "1      1965.0  08/22/2017 12:00:00 AM  Constructed    326368   22.630000   \n",
              "2      1970.0  08/22/2017 12:00:00 AM  Constructed    746627   35.760000   \n",
              "3      1928.0  08/22/2017 12:00:00 AM  Constructed    786626   37.500000   \n",
              "4      1950.0  08/22/2017 12:00:00 AM  Constructed    746409   18.015113   \n",
              "\n",
              "   FEAT_CODE  GROUNDELEV  SHAPE_AREA  SHAPE_LEN    BASE_BBL  MPLUTO_BBL  \\\n",
              "0     2100.0        40.0           0          0  3065220021  3065220021   \n",
              "1     2100.0        39.0           0          0  5012640036  5012640036   \n",
              "2     2100.0        51.0           0          0  5060190091  5060190091   \n",
              "3     2100.0         6.0           0          0  3086910048  3086910048   \n",
              "4     2100.0        93.0           0          0  4075020005  4075020005   \n",
              "\n",
              "   GEOMSOURCE  \n",
              "0  Photogramm  \n",
              "1  Photogramm  \n",
              "2  Photogramm  \n",
              "3  Photogramm  \n",
              "4  Photogramm  "
            ]
          },
          "execution_count": 4,
          "metadata": {},
          "output_type": "execute_result"
        }
      ],
      "source": [
        "# previewing the first five rows\n",
        "building_df.head()"
      ]
    },
    {
      "cell_type": "code",
      "execution_count": null,
      "metadata": {
        "id": "18uK8PqwmXsL",
        "outputId": "9a7656c8-fee2-4167-ddb5-c865a1000d59"
      },
      "outputs": [
        {
          "data": {
            "text/html": [
              "<div>\n",
              "<style scoped>\n",
              "    .dataframe tbody tr th:only-of-type {\n",
              "        vertical-align: middle;\n",
              "    }\n",
              "\n",
              "    .dataframe tbody tr th {\n",
              "        vertical-align: top;\n",
              "    }\n",
              "\n",
              "    .dataframe thead th {\n",
              "        text-align: right;\n",
              "    }\n",
              "</style>\n",
              "<table border=\"1\" class=\"dataframe\">\n",
              "  <thead>\n",
              "    <tr style=\"text-align: right;\">\n",
              "      <th></th>\n",
              "      <th>the_geom</th>\n",
              "      <th>NAME</th>\n",
              "      <th>BIN</th>\n",
              "      <th>CNSTRCT_YR</th>\n",
              "      <th>LSTMODDATE</th>\n",
              "      <th>LSTSTATYPE</th>\n",
              "      <th>DOITT_ID</th>\n",
              "      <th>HEIGHTROOF</th>\n",
              "      <th>FEAT_CODE</th>\n",
              "      <th>GROUNDELEV</th>\n",
              "      <th>SHAPE_AREA</th>\n",
              "      <th>SHAPE_LEN</th>\n",
              "      <th>BASE_BBL</th>\n",
              "      <th>MPLUTO_BBL</th>\n",
              "      <th>GEOMSOURCE</th>\n",
              "    </tr>\n",
              "  </thead>\n",
              "  <tbody>\n",
              "    <tr>\n",
              "      <th>1084552</th>\n",
              "      <td>MULTIPOLYGON (((-74.13728916976461 40.55735919...</td>\n",
              "      <td>NaN</td>\n",
              "      <td>5175205</td>\n",
              "      <td>2022.0</td>\n",
              "      <td>08/23/2022 12:00:00 AM</td>\n",
              "      <td>Constructed</td>\n",
              "      <td>1297986</td>\n",
              "      <td>35.000000</td>\n",
              "      <td>2100.0</td>\n",
              "      <td>78.0</td>\n",
              "      <td>0</td>\n",
              "      <td>0</td>\n",
              "      <td>5050160056</td>\n",
              "      <td>5050160056</td>\n",
              "      <td>Other (Man</td>\n",
              "    </tr>\n",
              "    <tr>\n",
              "      <th>1084553</th>\n",
              "      <td>MULTIPOLYGON (((-73.76388765840291 40.59360998...</td>\n",
              "      <td>NaN</td>\n",
              "      <td>4615031</td>\n",
              "      <td>1931.0</td>\n",
              "      <td>08/23/2022 12:00:00 AM</td>\n",
              "      <td>Alteration</td>\n",
              "      <td>1297992</td>\n",
              "      <td>31.095888</td>\n",
              "      <td>2100.0</td>\n",
              "      <td>6.0</td>\n",
              "      <td>0</td>\n",
              "      <td>0</td>\n",
              "      <td>4158230028</td>\n",
              "      <td>4158230026</td>\n",
              "      <td>Other (Man</td>\n",
              "    </tr>\n",
              "    <tr>\n",
              "      <th>1084554</th>\n",
              "      <td>MULTIPOLYGON (((-73.91343937432637 40.76669672...</td>\n",
              "      <td>NaN</td>\n",
              "      <td>4618444</td>\n",
              "      <td>2017.0</td>\n",
              "      <td>08/23/2022 12:00:00 AM</td>\n",
              "      <td>Constructed</td>\n",
              "      <td>1297965</td>\n",
              "      <td>50.000000</td>\n",
              "      <td>2100.0</td>\n",
              "      <td>71.0</td>\n",
              "      <td>0</td>\n",
              "      <td>0</td>\n",
              "      <td>4006540011</td>\n",
              "      <td>4006547502</td>\n",
              "      <td>Other (Man</td>\n",
              "    </tr>\n",
              "    <tr>\n",
              "      <th>1084555</th>\n",
              "      <td>MULTIPOLYGON (((-73.8692822735133 40.734775381...</td>\n",
              "      <td>NaN</td>\n",
              "      <td>4000000</td>\n",
              "      <td>2003.0</td>\n",
              "      <td>08/23/2022 12:00:00 AM</td>\n",
              "      <td>Constructed</td>\n",
              "      <td>1297989</td>\n",
              "      <td>60.000000</td>\n",
              "      <td>2100.0</td>\n",
              "      <td>19.0</td>\n",
              "      <td>0</td>\n",
              "      <td>0</td>\n",
              "      <td>401860912</td>\n",
              "      <td>401860912</td>\n",
              "      <td>Other (Man</td>\n",
              "    </tr>\n",
              "    <tr>\n",
              "      <th>1084556</th>\n",
              "      <td>MULTIPOLYGON (((-73.8694335262027 40.734428633...</td>\n",
              "      <td>NaN</td>\n",
              "      <td>4045997</td>\n",
              "      <td>2003.0</td>\n",
              "      <td>08/23/2022 12:00:00 AM</td>\n",
              "      <td>Constructed</td>\n",
              "      <td>1297990</td>\n",
              "      <td>60.000000</td>\n",
              "      <td>2100.0</td>\n",
              "      <td>19.0</td>\n",
              "      <td>0</td>\n",
              "      <td>0</td>\n",
              "      <td>4018600059</td>\n",
              "      <td>4018600059</td>\n",
              "      <td>Other (Man</td>\n",
              "    </tr>\n",
              "  </tbody>\n",
              "</table>\n",
              "</div>"
            ],
            "text/plain": [
              "                                                  the_geom NAME      BIN  \\\n",
              "1084552  MULTIPOLYGON (((-74.13728916976461 40.55735919...  NaN  5175205   \n",
              "1084553  MULTIPOLYGON (((-73.76388765840291 40.59360998...  NaN  4615031   \n",
              "1084554  MULTIPOLYGON (((-73.91343937432637 40.76669672...  NaN  4618444   \n",
              "1084555  MULTIPOLYGON (((-73.8692822735133 40.734775381...  NaN  4000000   \n",
              "1084556  MULTIPOLYGON (((-73.8694335262027 40.734428633...  NaN  4045997   \n",
              "\n",
              "         CNSTRCT_YR              LSTMODDATE   LSTSTATYPE  DOITT_ID  \\\n",
              "1084552      2022.0  08/23/2022 12:00:00 AM  Constructed   1297986   \n",
              "1084553      1931.0  08/23/2022 12:00:00 AM   Alteration   1297992   \n",
              "1084554      2017.0  08/23/2022 12:00:00 AM  Constructed   1297965   \n",
              "1084555      2003.0  08/23/2022 12:00:00 AM  Constructed   1297989   \n",
              "1084556      2003.0  08/23/2022 12:00:00 AM  Constructed   1297990   \n",
              "\n",
              "         HEIGHTROOF  FEAT_CODE  GROUNDELEV  SHAPE_AREA  SHAPE_LEN    BASE_BBL  \\\n",
              "1084552   35.000000     2100.0        78.0           0          0  5050160056   \n",
              "1084553   31.095888     2100.0         6.0           0          0  4158230028   \n",
              "1084554   50.000000     2100.0        71.0           0          0  4006540011   \n",
              "1084555   60.000000     2100.0        19.0           0          0   401860912   \n",
              "1084556   60.000000     2100.0        19.0           0          0  4018600059   \n",
              "\n",
              "         MPLUTO_BBL  GEOMSOURCE  \n",
              "1084552  5050160056  Other (Man  \n",
              "1084553  4158230026  Other (Man  \n",
              "1084554  4006547502  Other (Man  \n",
              "1084555   401860912  Other (Man  \n",
              "1084556  4018600059  Other (Man  "
            ]
          },
          "execution_count": 5,
          "metadata": {},
          "output_type": "execute_result"
        }
      ],
      "source": [
        "# previewing the last five rows\n",
        "building_df.tail()"
      ]
    },
    {
      "cell_type": "code",
      "execution_count": null,
      "metadata": {
        "id": "GlRupJTsmXs7",
        "outputId": "135614a2-3881-4197-d47e-e87c5a5841d8"
      },
      "outputs": [
        {
          "data": {
            "text/plain": [
              "(1084557, 15)"
            ]
          },
          "execution_count": 6,
          "metadata": {},
          "output_type": "execute_result"
        }
      ],
      "source": [
        "# printing the shape or dimensions of our dataframe (i.e. rows, columns)\n",
        "building_df.shape"
      ]
    },
    {
      "cell_type": "code",
      "execution_count": null,
      "metadata": {
        "id": "woS29LEXmXs8",
        "outputId": "837f0e2e-ab7b-44cb-9de1-d81f2225920f"
      },
      "outputs": [
        {
          "name": "stdout",
          "output_type": "stream",
          "text": [
            "This dataset has 1,084,557 rows and 15 columns.\n"
          ]
        }
      ],
      "source": [
        "# more readable\n",
        "rows, columns = building_df.shape\n",
        "\n",
        "print('This dataset has {:,} rows and {:,} columns.'.format(rows, columns))"
      ]
    },
    {
      "cell_type": "code",
      "execution_count": null,
      "metadata": {
        "id": "4KITDSHNmXs9",
        "outputId": "9a95abb9-1238-4b84-feab-bd21912e3e67"
      },
      "outputs": [
        {
          "data": {
            "text/plain": [
              "pandas.core.frame.DataFrame"
            ]
          },
          "execution_count": 8,
          "metadata": {},
          "output_type": "execute_result"
        }
      ],
      "source": [
        "# the object's type\n",
        "type(building_df)"
      ]
    },
    {
      "cell_type": "code",
      "execution_count": null,
      "metadata": {
        "id": "Y06yz_QDmXs_",
        "outputId": "eb617919-a8cb-4115-d1cb-5e5bf4d1d013"
      },
      "outputs": [
        {
          "data": {
            "text/plain": [
              "Index(['the_geom', 'NAME', 'BIN', 'CNSTRCT_YR', 'LSTMODDATE', 'LSTSTATYPE',\n",
              "       'DOITT_ID', 'HEIGHTROOF', 'FEAT_CODE', 'GROUNDELEV', 'SHAPE_AREA',\n",
              "       'SHAPE_LEN', 'BASE_BBL', 'MPLUTO_BBL', 'GEOMSOURCE'],\n",
              "      dtype='object')"
            ]
          },
          "execution_count": 9,
          "metadata": {},
          "output_type": "execute_result"
        }
      ],
      "source": [
        "# printing the columns\n",
        "building_df.columns"
      ]
    },
    {
      "cell_type": "code",
      "execution_count": null,
      "metadata": {
        "id": "wytYtoWxmXs_",
        "outputId": "12ded072-e94c-4231-ef34-dbd192828086"
      },
      "outputs": [
        {
          "name": "stdout",
          "output_type": "stream",
          "text": [
            "the_geom\n",
            "NAME\n",
            "BIN\n",
            "CNSTRCT_YR\n",
            "LSTMODDATE\n",
            "LSTSTATYPE\n",
            "DOITT_ID\n",
            "HEIGHTROOF\n",
            "FEAT_CODE\n",
            "GROUNDELEV\n",
            "SHAPE_AREA\n",
            "SHAPE_LEN\n",
            "BASE_BBL\n",
            "MPLUTO_BBL\n",
            "GEOMSOURCE\n"
          ]
        }
      ],
      "source": [
        "# printing the columns of our dataframe in new line\n",
        "for col in building_df.columns:\n",
        "    print(col)"
      ]
    },
    {
      "cell_type": "code",
      "execution_count": null,
      "metadata": {
        "id": "MkNemdYDmXtA",
        "outputId": "ce03a911-69cd-4d96-c742-a42019c48b56"
      },
      "outputs": [
        {
          "data": {
            "text/plain": [
              "the_geom       object\n",
              "NAME           object\n",
              "BIN             int64\n",
              "CNSTRCT_YR    float64\n",
              "LSTMODDATE     object\n",
              "LSTSTATYPE     object\n",
              "DOITT_ID        int64\n",
              "HEIGHTROOF    float64\n",
              "FEAT_CODE     float64\n",
              "GROUNDELEV    float64\n",
              "SHAPE_AREA      int64\n",
              "SHAPE_LEN       int64\n",
              "BASE_BBL        int64\n",
              "MPLUTO_BBL      int64\n",
              "GEOMSOURCE     object\n",
              "dtype: object"
            ]
          },
          "execution_count": 11,
          "metadata": {},
          "output_type": "execute_result"
        }
      ],
      "source": [
        "# printing the data types of our columns\n",
        "building_df.dtypes"
      ]
    },
    {
      "cell_type": "code",
      "execution_count": null,
      "metadata": {
        "id": "BILzIsGomXtC",
        "outputId": "ffe60e53-1309-424d-f40f-e794b9c8bf0d"
      },
      "outputs": [
        {
          "name": "stdout",
          "output_type": "stream",
          "text": [
            "<class 'pandas.core.frame.DataFrame'>\n",
            "RangeIndex: 1084557 entries, 0 to 1084556\n",
            "Data columns (total 15 columns):\n",
            " #   Column      Non-Null Count    Dtype  \n",
            "---  ------      --------------    -----  \n",
            " 0   the_geom    1084557 non-null  object \n",
            " 1   NAME        1937 non-null     object \n",
            " 2   BIN         1084557 non-null  int64  \n",
            " 3   CNSTRCT_YR  1073755 non-null  float64\n",
            " 4   LSTMODDATE  1084557 non-null  object \n",
            " 5   LSTSTATYPE  1084298 non-null  object \n",
            " 6   DOITT_ID    1084557 non-null  int64  \n",
            " 7   HEIGHTROOF  1081873 non-null  float64\n",
            " 8   FEAT_CODE   1084550 non-null  float64\n",
            " 9   GROUNDELEV  1084014 non-null  float64\n",
            " 10  SHAPE_AREA  1084557 non-null  int64  \n",
            " 11  SHAPE_LEN   1084557 non-null  int64  \n",
            " 12  BASE_BBL    1084557 non-null  int64  \n",
            " 13  MPLUTO_BBL  1084557 non-null  int64  \n",
            " 14  GEOMSOURCE  1084324 non-null  object \n",
            "dtypes: float64(4), int64(6), object(5)\n",
            "memory usage: 124.1+ MB\n"
          ]
        }
      ],
      "source": [
        "# printing the column names, non-null counts,\n",
        "# and datatypes of our columns\n",
        "building_df.info()"
      ]
    },
    {
      "cell_type": "code",
      "execution_count": null,
      "metadata": {
        "id": "W59SY4cVmXtD",
        "outputId": "4ade72db-2987-4239-e746-4afee08de070"
      },
      "outputs": [
        {
          "data": {
            "text/plain": [
              "int64      6\n",
              "object     5\n",
              "float64    4\n",
              "dtype: int64"
            ]
          },
          "execution_count": 13,
          "metadata": {},
          "output_type": "execute_result"
        }
      ],
      "source": [
        "# counts of values of our datatypes\n",
        "building_df.dtypes.value_counts()"
      ]
    },
    {
      "cell_type": "code",
      "execution_count": null,
      "metadata": {
        "id": "n_O3pFDEmXtF",
        "outputId": "68de3c54-6264-49cb-dbb1-8e7b9c1344c6"
      },
      "outputs": [
        {
          "data": {
            "text/plain": [
              "RangeIndex(start=0, stop=1084557, step=1)"
            ]
          },
          "execution_count": 14,
          "metadata": {},
          "output_type": "execute_result"
        }
      ],
      "source": [
        "# printing index type\n",
        "building_df.index"
      ]
    },
    {
      "cell_type": "code",
      "execution_count": null,
      "metadata": {
        "id": "tTxehYCRmXtG",
        "outputId": "e6c49a59-cea6-44eb-e218-24720df7f140"
      },
      "outputs": [
        {
          "name": "stdout",
          "output_type": "stream",
          "text": [
            "our unique id is truly unique: False\n"
          ]
        }
      ],
      "source": [
        "# printing True/False if column is unique on our unique key (DOITT_ID)\n",
        "unique = building_df['DOITT_ID'].is_unique\n",
        "\n",
        "print('our unique id is truly unique: {}'.format(unique))"
      ]
    },
    {
      "cell_type": "code",
      "execution_count": null,
      "metadata": {
        "id": "YrwZZXQlmXtG",
        "outputId": "4dbb2e50-089a-452c-f229-8d365e34fcb6"
      },
      "outputs": [
        {
          "data": {
            "text/html": [
              "<div>\n",
              "<style scoped>\n",
              "    .dataframe tbody tr th:only-of-type {\n",
              "        vertical-align: middle;\n",
              "    }\n",
              "\n",
              "    .dataframe tbody tr th {\n",
              "        vertical-align: top;\n",
              "    }\n",
              "\n",
              "    .dataframe thead th {\n",
              "        text-align: right;\n",
              "    }\n",
              "</style>\n",
              "<table border=\"1\" class=\"dataframe\">\n",
              "  <thead>\n",
              "    <tr style=\"text-align: right;\">\n",
              "      <th></th>\n",
              "      <th>0</th>\n",
              "      <th>1</th>\n",
              "      <th>2</th>\n",
              "      <th>3</th>\n",
              "      <th>4</th>\n",
              "    </tr>\n",
              "  </thead>\n",
              "  <tbody>\n",
              "    <tr>\n",
              "      <th>the_geom</th>\n",
              "      <td>MULTIPOLYGON (((-73.96664570466969 40.62599676...</td>\n",
              "      <td>MULTIPOLYGON (((-74.16790202462265 40.63936048...</td>\n",
              "      <td>MULTIPOLYGON (((-74.19510813278613 40.55610681...</td>\n",
              "      <td>MULTIPOLYGON (((-73.96113466505085 40.57743931...</td>\n",
              "      <td>MULTIPOLYGON (((-73.75421559146166 40.75591276...</td>\n",
              "    </tr>\n",
              "    <tr>\n",
              "      <th>NAME</th>\n",
              "      <td>NaN</td>\n",
              "      <td>NaN</td>\n",
              "      <td>NaN</td>\n",
              "      <td>NaN</td>\n",
              "      <td>NaN</td>\n",
              "    </tr>\n",
              "    <tr>\n",
              "      <th>BIN</th>\n",
              "      <td>3170958</td>\n",
              "      <td>5028452</td>\n",
              "      <td>5078368</td>\n",
              "      <td>3245111</td>\n",
              "      <td>4161096</td>\n",
              "    </tr>\n",
              "    <tr>\n",
              "      <th>CNSTRCT_YR</th>\n",
              "      <td>1925.0</td>\n",
              "      <td>1965.0</td>\n",
              "      <td>1970.0</td>\n",
              "      <td>1928.0</td>\n",
              "      <td>1950.0</td>\n",
              "    </tr>\n",
              "    <tr>\n",
              "      <th>LSTMODDATE</th>\n",
              "      <td>08/22/2017 12:00:00 AM</td>\n",
              "      <td>08/22/2017 12:00:00 AM</td>\n",
              "      <td>08/22/2017 12:00:00 AM</td>\n",
              "      <td>08/22/2017 12:00:00 AM</td>\n",
              "      <td>08/22/2017 12:00:00 AM</td>\n",
              "    </tr>\n",
              "    <tr>\n",
              "      <th>LSTSTATYPE</th>\n",
              "      <td>Constructed</td>\n",
              "      <td>Constructed</td>\n",
              "      <td>Constructed</td>\n",
              "      <td>Constructed</td>\n",
              "      <td>Constructed</td>\n",
              "    </tr>\n",
              "    <tr>\n",
              "      <th>DOITT_ID</th>\n",
              "      <td>96807</td>\n",
              "      <td>326368</td>\n",
              "      <td>746627</td>\n",
              "      <td>786626</td>\n",
              "      <td>746409</td>\n",
              "    </tr>\n",
              "    <tr>\n",
              "      <th>HEIGHTROOF</th>\n",
              "      <td>29.749853</td>\n",
              "      <td>22.63</td>\n",
              "      <td>35.76</td>\n",
              "      <td>37.5</td>\n",
              "      <td>18.015113</td>\n",
              "    </tr>\n",
              "    <tr>\n",
              "      <th>FEAT_CODE</th>\n",
              "      <td>2100.0</td>\n",
              "      <td>2100.0</td>\n",
              "      <td>2100.0</td>\n",
              "      <td>2100.0</td>\n",
              "      <td>2100.0</td>\n",
              "    </tr>\n",
              "    <tr>\n",
              "      <th>GROUNDELEV</th>\n",
              "      <td>40.0</td>\n",
              "      <td>39.0</td>\n",
              "      <td>51.0</td>\n",
              "      <td>6.0</td>\n",
              "      <td>93.0</td>\n",
              "    </tr>\n",
              "    <tr>\n",
              "      <th>SHAPE_AREA</th>\n",
              "      <td>0</td>\n",
              "      <td>0</td>\n",
              "      <td>0</td>\n",
              "      <td>0</td>\n",
              "      <td>0</td>\n",
              "    </tr>\n",
              "    <tr>\n",
              "      <th>SHAPE_LEN</th>\n",
              "      <td>0</td>\n",
              "      <td>0</td>\n",
              "      <td>0</td>\n",
              "      <td>0</td>\n",
              "      <td>0</td>\n",
              "    </tr>\n",
              "    <tr>\n",
              "      <th>BASE_BBL</th>\n",
              "      <td>3065220021</td>\n",
              "      <td>5012640036</td>\n",
              "      <td>5060190091</td>\n",
              "      <td>3086910048</td>\n",
              "      <td>4075020005</td>\n",
              "    </tr>\n",
              "    <tr>\n",
              "      <th>MPLUTO_BBL</th>\n",
              "      <td>3065220021</td>\n",
              "      <td>5012640036</td>\n",
              "      <td>5060190091</td>\n",
              "      <td>3086910048</td>\n",
              "      <td>4075020005</td>\n",
              "    </tr>\n",
              "    <tr>\n",
              "      <th>GEOMSOURCE</th>\n",
              "      <td>Photogramm</td>\n",
              "      <td>Photogramm</td>\n",
              "      <td>Photogramm</td>\n",
              "      <td>Photogramm</td>\n",
              "      <td>Photogramm</td>\n",
              "    </tr>\n",
              "  </tbody>\n",
              "</table>\n",
              "</div>"
            ],
            "text/plain": [
              "                                                            0  \\\n",
              "the_geom    MULTIPOLYGON (((-73.96664570466969 40.62599676...   \n",
              "NAME                                                      NaN   \n",
              "BIN                                                   3170958   \n",
              "CNSTRCT_YR                                             1925.0   \n",
              "LSTMODDATE                             08/22/2017 12:00:00 AM   \n",
              "LSTSTATYPE                                        Constructed   \n",
              "DOITT_ID                                                96807   \n",
              "HEIGHTROOF                                          29.749853   \n",
              "FEAT_CODE                                              2100.0   \n",
              "GROUNDELEV                                               40.0   \n",
              "SHAPE_AREA                                                  0   \n",
              "SHAPE_LEN                                                   0   \n",
              "BASE_BBL                                           3065220021   \n",
              "MPLUTO_BBL                                         3065220021   \n",
              "GEOMSOURCE                                         Photogramm   \n",
              "\n",
              "                                                            1  \\\n",
              "the_geom    MULTIPOLYGON (((-74.16790202462265 40.63936048...   \n",
              "NAME                                                      NaN   \n",
              "BIN                                                   5028452   \n",
              "CNSTRCT_YR                                             1965.0   \n",
              "LSTMODDATE                             08/22/2017 12:00:00 AM   \n",
              "LSTSTATYPE                                        Constructed   \n",
              "DOITT_ID                                               326368   \n",
              "HEIGHTROOF                                              22.63   \n",
              "FEAT_CODE                                              2100.0   \n",
              "GROUNDELEV                                               39.0   \n",
              "SHAPE_AREA                                                  0   \n",
              "SHAPE_LEN                                                   0   \n",
              "BASE_BBL                                           5012640036   \n",
              "MPLUTO_BBL                                         5012640036   \n",
              "GEOMSOURCE                                         Photogramm   \n",
              "\n",
              "                                                            2  \\\n",
              "the_geom    MULTIPOLYGON (((-74.19510813278613 40.55610681...   \n",
              "NAME                                                      NaN   \n",
              "BIN                                                   5078368   \n",
              "CNSTRCT_YR                                             1970.0   \n",
              "LSTMODDATE                             08/22/2017 12:00:00 AM   \n",
              "LSTSTATYPE                                        Constructed   \n",
              "DOITT_ID                                               746627   \n",
              "HEIGHTROOF                                              35.76   \n",
              "FEAT_CODE                                              2100.0   \n",
              "GROUNDELEV                                               51.0   \n",
              "SHAPE_AREA                                                  0   \n",
              "SHAPE_LEN                                                   0   \n",
              "BASE_BBL                                           5060190091   \n",
              "MPLUTO_BBL                                         5060190091   \n",
              "GEOMSOURCE                                         Photogramm   \n",
              "\n",
              "                                                            3  \\\n",
              "the_geom    MULTIPOLYGON (((-73.96113466505085 40.57743931...   \n",
              "NAME                                                      NaN   \n",
              "BIN                                                   3245111   \n",
              "CNSTRCT_YR                                             1928.0   \n",
              "LSTMODDATE                             08/22/2017 12:00:00 AM   \n",
              "LSTSTATYPE                                        Constructed   \n",
              "DOITT_ID                                               786626   \n",
              "HEIGHTROOF                                               37.5   \n",
              "FEAT_CODE                                              2100.0   \n",
              "GROUNDELEV                                                6.0   \n",
              "SHAPE_AREA                                                  0   \n",
              "SHAPE_LEN                                                   0   \n",
              "BASE_BBL                                           3086910048   \n",
              "MPLUTO_BBL                                         3086910048   \n",
              "GEOMSOURCE                                         Photogramm   \n",
              "\n",
              "                                                            4  \n",
              "the_geom    MULTIPOLYGON (((-73.75421559146166 40.75591276...  \n",
              "NAME                                                      NaN  \n",
              "BIN                                                   4161096  \n",
              "CNSTRCT_YR                                             1950.0  \n",
              "LSTMODDATE                             08/22/2017 12:00:00 AM  \n",
              "LSTSTATYPE                                        Constructed  \n",
              "DOITT_ID                                               746409  \n",
              "HEIGHTROOF                                          18.015113  \n",
              "FEAT_CODE                                              2100.0  \n",
              "GROUNDELEV                                               93.0  \n",
              "SHAPE_AREA                                                  0  \n",
              "SHAPE_LEN                                                   0  \n",
              "BASE_BBL                                           4075020005  \n",
              "MPLUTO_BBL                                         4075020005  \n",
              "GEOMSOURCE                                         Photogramm  "
            ]
          },
          "execution_count": 16,
          "metadata": {},
          "output_type": "execute_result"
        }
      ],
      "source": [
        "# transpose index and columns of first five rows\n",
        "building_df.head().T"
      ]
    },
    {
      "cell_type": "markdown",
      "metadata": {
        "id": "gl9mDFKpmXtH"
      },
      "source": [
        "## 3.2 Calculating Summary Statistics"
      ]
    },
    {
      "cell_type": "code",
      "execution_count": null,
      "metadata": {
        "scrolled": true,
        "id": "uF0MWLopmXtH",
        "outputId": "ca7721be-f571-4748-e8b1-657f86e2ee6f"
      },
      "outputs": [
        {
          "data": {
            "text/html": [
              "<div>\n",
              "<style scoped>\n",
              "    .dataframe tbody tr th:only-of-type {\n",
              "        vertical-align: middle;\n",
              "    }\n",
              "\n",
              "    .dataframe tbody tr th {\n",
              "        vertical-align: top;\n",
              "    }\n",
              "\n",
              "    .dataframe thead th {\n",
              "        text-align: right;\n",
              "    }\n",
              "</style>\n",
              "<table border=\"1\" class=\"dataframe\">\n",
              "  <thead>\n",
              "    <tr style=\"text-align: right;\">\n",
              "      <th></th>\n",
              "      <th>BIN</th>\n",
              "      <th>CNSTRCT_YR</th>\n",
              "      <th>DOITT_ID</th>\n",
              "      <th>HEIGHTROOF</th>\n",
              "      <th>FEAT_CODE</th>\n",
              "      <th>GROUNDELEV</th>\n",
              "      <th>SHAPE_AREA</th>\n",
              "      <th>SHAPE_LEN</th>\n",
              "      <th>BASE_BBL</th>\n",
              "      <th>MPLUTO_BBL</th>\n",
              "    </tr>\n",
              "  </thead>\n",
              "  <tbody>\n",
              "    <tr>\n",
              "      <th>count</th>\n",
              "      <td>1.084557e+06</td>\n",
              "      <td>1.073755e+06</td>\n",
              "      <td>1.084557e+06</td>\n",
              "      <td>1.081873e+06</td>\n",
              "      <td>1.084550e+06</td>\n",
              "      <td>1.084014e+06</td>\n",
              "      <td>1084557.0</td>\n",
              "      <td>1084557.0</td>\n",
              "      <td>1.084557e+06</td>\n",
              "      <td>1.084557e+06</td>\n",
              "    </tr>\n",
              "    <tr>\n",
              "      <th>mean</th>\n",
              "      <td>3.711673e+06</td>\n",
              "      <td>1.939358e+03</td>\n",
              "      <td>5.932646e+05</td>\n",
              "      <td>2.762130e+01</td>\n",
              "      <td>2.697067e+03</td>\n",
              "      <td>5.509966e+01</td>\n",
              "      <td>0.0</td>\n",
              "      <td>0.0</td>\n",
              "      <td>3.563049e+09</td>\n",
              "      <td>3.563044e+09</td>\n",
              "    </tr>\n",
              "    <tr>\n",
              "      <th>std</th>\n",
              "      <td>1.026780e+06</td>\n",
              "      <td>2.917350e+01</td>\n",
              "      <td>3.609535e+05</td>\n",
              "      <td>2.158235e+01</td>\n",
              "      <td>1.201264e+03</td>\n",
              "      <td>4.151907e+01</td>\n",
              "      <td>0.0</td>\n",
              "      <td>0.0</td>\n",
              "      <td>9.861069e+08</td>\n",
              "      <td>9.861165e+08</td>\n",
              "    </tr>\n",
              "    <tr>\n",
              "      <th>min</th>\n",
              "      <td>1.000000e+06</td>\n",
              "      <td>1.652000e+03</td>\n",
              "      <td>1.000000e+00</td>\n",
              "      <td>0.000000e+00</td>\n",
              "      <td>0.000000e+00</td>\n",
              "      <td>-1.600000e+01</td>\n",
              "      <td>0.0</td>\n",
              "      <td>0.0</td>\n",
              "      <td>1.090961e+06</td>\n",
              "      <td>1.090961e+06</td>\n",
              "    </tr>\n",
              "    <tr>\n",
              "      <th>25%</th>\n",
              "      <td>3.129186e+06</td>\n",
              "      <td>1.920000e+03</td>\n",
              "      <td>2.874880e+05</td>\n",
              "      <td>1.842000e+01</td>\n",
              "      <td>2.100000e+03</td>\n",
              "      <td>2.500000e+01</td>\n",
              "      <td>0.0</td>\n",
              "      <td>0.0</td>\n",
              "      <td>3.043260e+09</td>\n",
              "      <td>3.043260e+09</td>\n",
              "    </tr>\n",
              "    <tr>\n",
              "      <th>50%</th>\n",
              "      <td>4.067381e+06</td>\n",
              "      <td>1.930000e+03</td>\n",
              "      <td>5.751310e+05</td>\n",
              "      <td>2.610000e+01</td>\n",
              "      <td>2.100000e+03</td>\n",
              "      <td>4.600000e+01</td>\n",
              "      <td>0.0</td>\n",
              "      <td>0.0</td>\n",
              "      <td>4.019430e+09</td>\n",
              "      <td>4.019430e+09</td>\n",
              "    </tr>\n",
              "    <tr>\n",
              "      <th>75%</th>\n",
              "      <td>4.482800e+06</td>\n",
              "      <td>1.955000e+03</td>\n",
              "      <td>8.645010e+05</td>\n",
              "      <td>3.110000e+01</td>\n",
              "      <td>2.100000e+03</td>\n",
              "      <td>7.400000e+01</td>\n",
              "      <td>0.0</td>\n",
              "      <td>0.0</td>\n",
              "      <td>4.106860e+09</td>\n",
              "      <td>4.106860e+09</td>\n",
              "    </tr>\n",
              "    <tr>\n",
              "      <th>max</th>\n",
              "      <td>5.799523e+06</td>\n",
              "      <td>2.022000e+03</td>\n",
              "      <td>1.297994e+06</td>\n",
              "      <td>1.550000e+03</td>\n",
              "      <td>5.110000e+03</td>\n",
              "      <td>5.560000e+02</td>\n",
              "      <td>0.0</td>\n",
              "      <td>0.0</td>\n",
              "      <td>6.000000e+09</td>\n",
              "      <td>6.000000e+09</td>\n",
              "    </tr>\n",
              "  </tbody>\n",
              "</table>\n",
              "</div>"
            ],
            "text/plain": [
              "                BIN    CNSTRCT_YR      DOITT_ID    HEIGHTROOF     FEAT_CODE  \\\n",
              "count  1.084557e+06  1.073755e+06  1.084557e+06  1.081873e+06  1.084550e+06   \n",
              "mean   3.711673e+06  1.939358e+03  5.932646e+05  2.762130e+01  2.697067e+03   \n",
              "std    1.026780e+06  2.917350e+01  3.609535e+05  2.158235e+01  1.201264e+03   \n",
              "min    1.000000e+06  1.652000e+03  1.000000e+00  0.000000e+00  0.000000e+00   \n",
              "25%    3.129186e+06  1.920000e+03  2.874880e+05  1.842000e+01  2.100000e+03   \n",
              "50%    4.067381e+06  1.930000e+03  5.751310e+05  2.610000e+01  2.100000e+03   \n",
              "75%    4.482800e+06  1.955000e+03  8.645010e+05  3.110000e+01  2.100000e+03   \n",
              "max    5.799523e+06  2.022000e+03  1.297994e+06  1.550000e+03  5.110000e+03   \n",
              "\n",
              "         GROUNDELEV  SHAPE_AREA  SHAPE_LEN      BASE_BBL    MPLUTO_BBL  \n",
              "count  1.084014e+06   1084557.0  1084557.0  1.084557e+06  1.084557e+06  \n",
              "mean   5.509966e+01         0.0        0.0  3.563049e+09  3.563044e+09  \n",
              "std    4.151907e+01         0.0        0.0  9.861069e+08  9.861165e+08  \n",
              "min   -1.600000e+01         0.0        0.0  1.090961e+06  1.090961e+06  \n",
              "25%    2.500000e+01         0.0        0.0  3.043260e+09  3.043260e+09  \n",
              "50%    4.600000e+01         0.0        0.0  4.019430e+09  4.019430e+09  \n",
              "75%    7.400000e+01         0.0        0.0  4.106860e+09  4.106860e+09  \n",
              "max    5.560000e+02         0.0        0.0  6.000000e+09  6.000000e+09  "
            ]
          },
          "execution_count": 17,
          "metadata": {},
          "output_type": "execute_result"
        }
      ],
      "source": [
        "# printing descriptive statistics of our numeric columns\n",
        "building_df.describe()"
      ]
    },
    {
      "cell_type": "code",
      "execution_count": null,
      "metadata": {
        "id": "72UfyHqkmXtI",
        "outputId": "ee3ea9e3-f8cf-41ff-c8d5-6b45e2428546"
      },
      "outputs": [
        {
          "data": {
            "text/html": [
              "<div>\n",
              "<style scoped>\n",
              "    .dataframe tbody tr th:only-of-type {\n",
              "        vertical-align: middle;\n",
              "    }\n",
              "\n",
              "    .dataframe tbody tr th {\n",
              "        vertical-align: top;\n",
              "    }\n",
              "\n",
              "    .dataframe thead th {\n",
              "        text-align: right;\n",
              "    }\n",
              "</style>\n",
              "<table border=\"1\" class=\"dataframe\">\n",
              "  <thead>\n",
              "    <tr style=\"text-align: right;\">\n",
              "      <th></th>\n",
              "      <th>the_geom</th>\n",
              "      <th>NAME</th>\n",
              "      <th>LSTMODDATE</th>\n",
              "      <th>LSTSTATYPE</th>\n",
              "      <th>GEOMSOURCE</th>\n",
              "    </tr>\n",
              "  </thead>\n",
              "  <tbody>\n",
              "    <tr>\n",
              "      <th>count</th>\n",
              "      <td>1084557</td>\n",
              "      <td>1937</td>\n",
              "      <td>1084557</td>\n",
              "      <td>1084298</td>\n",
              "      <td>1084324</td>\n",
              "    </tr>\n",
              "    <tr>\n",
              "      <th>unique</th>\n",
              "      <td>1084557</td>\n",
              "      <td>1564</td>\n",
              "      <td>1406</td>\n",
              "      <td>12</td>\n",
              "      <td>3</td>\n",
              "    </tr>\n",
              "    <tr>\n",
              "      <th>top</th>\n",
              "      <td>MULTIPOLYGON (((-73.96664570466969 40.62599676...</td>\n",
              "      <td>Adler Place Town Houses</td>\n",
              "      <td>08/22/2017 12:00:00 AM</td>\n",
              "      <td>Constructed</td>\n",
              "      <td>Photogramm</td>\n",
              "    </tr>\n",
              "    <tr>\n",
              "      <th>freq</th>\n",
              "      <td>1</td>\n",
              "      <td>52</td>\n",
              "      <td>804060</td>\n",
              "      <td>1082116</td>\n",
              "      <td>1016094</td>\n",
              "    </tr>\n",
              "  </tbody>\n",
              "</table>\n",
              "</div>"
            ],
            "text/plain": [
              "                                                 the_geom  \\\n",
              "count                                             1084557   \n",
              "unique                                            1084557   \n",
              "top     MULTIPOLYGON (((-73.96664570466969 40.62599676...   \n",
              "freq                                                    1   \n",
              "\n",
              "                           NAME              LSTMODDATE   LSTSTATYPE  \\\n",
              "count                      1937                 1084557      1084298   \n",
              "unique                     1564                    1406           12   \n",
              "top     Adler Place Town Houses  08/22/2017 12:00:00 AM  Constructed   \n",
              "freq                         52                  804060      1082116   \n",
              "\n",
              "        GEOMSOURCE  \n",
              "count      1084324  \n",
              "unique           3  \n",
              "top     Photogramm  \n",
              "freq       1016094  "
            ]
          },
          "execution_count": 18,
          "metadata": {},
          "output_type": "execute_result"
        }
      ],
      "source": [
        "# printing descriptive statistics of our non-numeric columns\n",
        "building_df.describe(include=['O'])"
      ]
    },
    {
      "cell_type": "code",
      "execution_count": null,
      "metadata": {
        "id": "ZMluxaRkmXtJ",
        "outputId": "e92619ef-d29e-41d7-b9c4-e23ff855c4d1"
      },
      "outputs": [
        {
          "data": {
            "text/html": [
              "<div>\n",
              "<style scoped>\n",
              "    .dataframe tbody tr th:only-of-type {\n",
              "        vertical-align: middle;\n",
              "    }\n",
              "\n",
              "    .dataframe tbody tr th {\n",
              "        vertical-align: top;\n",
              "    }\n",
              "\n",
              "    .dataframe thead th {\n",
              "        text-align: right;\n",
              "    }\n",
              "</style>\n",
              "<table border=\"1\" class=\"dataframe\">\n",
              "  <thead>\n",
              "    <tr style=\"text-align: right;\">\n",
              "      <th></th>\n",
              "      <th>BIN</th>\n",
              "      <th>CNSTRCT_YR</th>\n",
              "      <th>HEIGHTROOF</th>\n",
              "      <th>FEAT_CODE</th>\n",
              "      <th>GROUNDELEV</th>\n",
              "      <th>SHAPE_AREA</th>\n",
              "      <th>SHAPE_LEN</th>\n",
              "      <th>BASE_BBL</th>\n",
              "      <th>MPLUTO_BBL</th>\n",
              "    </tr>\n",
              "  </thead>\n",
              "  <tbody>\n",
              "    <tr>\n",
              "      <th>mode</th>\n",
              "      <td>3000000</td>\n",
              "      <td>1920.0</td>\n",
              "      <td>30.0</td>\n",
              "      <td>2100.0</td>\n",
              "      <td>10.0</td>\n",
              "      <td>0</td>\n",
              "      <td>0</td>\n",
              "      <td>4163500400</td>\n",
              "      <td>4163500400</td>\n",
              "    </tr>\n",
              "  </tbody>\n",
              "</table>\n",
              "</div>"
            ],
            "text/plain": [
              "          BIN  CNSTRCT_YR  HEIGHTROOF  FEAT_CODE  GROUNDELEV  SHAPE_AREA  \\\n",
              "mode  3000000      1920.0        30.0     2100.0        10.0           0   \n",
              "\n",
              "      SHAPE_LEN    BASE_BBL  MPLUTO_BBL  \n",
              "mode          0  4163500400  4163500400  "
            ]
          },
          "execution_count": 19,
          "metadata": {},
          "output_type": "execute_result"
        }
      ],
      "source": [
        "# returning the mode of our numeric columns (excluding our unique key = 'DOITT_ID')\n",
        "mode_df = building_df.drop(columns=['DOITT_ID'])\n",
        "\n",
        "# getting the mode of each numeric column\n",
        "mode = mode_df.mode(numeric_only=True)\n",
        "\n",
        "# renaming index to 'mode'\n",
        "mode = mode.rename(index={0: \"mode\"})\n",
        "\n",
        "mode"
      ]
    },
    {
      "cell_type": "code",
      "execution_count": null,
      "metadata": {
        "id": "2HUSKRkumXtJ",
        "outputId": "f12c802d-8e79-4b60-def0-a79175eab8b7"
      },
      "outputs": [
        {
          "data": {
            "text/html": [
              "<div>\n",
              "<style scoped>\n",
              "    .dataframe tbody tr th:only-of-type {\n",
              "        vertical-align: middle;\n",
              "    }\n",
              "\n",
              "    .dataframe tbody tr th {\n",
              "        vertical-align: top;\n",
              "    }\n",
              "\n",
              "    .dataframe thead th {\n",
              "        text-align: right;\n",
              "    }\n",
              "</style>\n",
              "<table border=\"1\" class=\"dataframe\">\n",
              "  <thead>\n",
              "    <tr style=\"text-align: right;\">\n",
              "      <th></th>\n",
              "      <th>BIN</th>\n",
              "      <th>CNSTRCT_YR</th>\n",
              "      <th>DOITT_ID</th>\n",
              "      <th>HEIGHTROOF</th>\n",
              "      <th>FEAT_CODE</th>\n",
              "      <th>GROUNDELEV</th>\n",
              "      <th>SHAPE_AREA</th>\n",
              "      <th>SHAPE_LEN</th>\n",
              "      <th>BASE_BBL</th>\n",
              "      <th>MPLUTO_BBL</th>\n",
              "    </tr>\n",
              "  </thead>\n",
              "  <tbody>\n",
              "    <tr>\n",
              "      <th>BIN</th>\n",
              "      <td>1.000000</td>\n",
              "      <td>0.292731</td>\n",
              "      <td>0.156147</td>\n",
              "      <td>-0.358460</td>\n",
              "      <td>0.190425</td>\n",
              "      <td>0.086768</td>\n",
              "      <td>NaN</td>\n",
              "      <td>NaN</td>\n",
              "      <td>0.988536</td>\n",
              "      <td>0.988529</td>\n",
              "    </tr>\n",
              "    <tr>\n",
              "      <th>CNSTRCT_YR</th>\n",
              "      <td>0.292731</td>\n",
              "      <td>1.000000</td>\n",
              "      <td>0.191009</td>\n",
              "      <td>0.017020</td>\n",
              "      <td>-0.131299</td>\n",
              "      <td>-0.002915</td>\n",
              "      <td>NaN</td>\n",
              "      <td>NaN</td>\n",
              "      <td>0.287250</td>\n",
              "      <td>0.287234</td>\n",
              "    </tr>\n",
              "    <tr>\n",
              "      <th>DOITT_ID</th>\n",
              "      <td>0.156147</td>\n",
              "      <td>0.191009</td>\n",
              "      <td>1.000000</td>\n",
              "      <td>-0.168110</td>\n",
              "      <td>0.545793</td>\n",
              "      <td>-0.017185</td>\n",
              "      <td>NaN</td>\n",
              "      <td>NaN</td>\n",
              "      <td>0.075646</td>\n",
              "      <td>0.075635</td>\n",
              "    </tr>\n",
              "    <tr>\n",
              "      <th>HEIGHTROOF</th>\n",
              "      <td>-0.358460</td>\n",
              "      <td>0.017020</td>\n",
              "      <td>-0.168110</td>\n",
              "      <td>1.000000</td>\n",
              "      <td>-0.362198</td>\n",
              "      <td>-0.001800</td>\n",
              "      <td>NaN</td>\n",
              "      <td>NaN</td>\n",
              "      <td>-0.328392</td>\n",
              "      <td>-0.328389</td>\n",
              "    </tr>\n",
              "    <tr>\n",
              "      <th>FEAT_CODE</th>\n",
              "      <td>0.190425</td>\n",
              "      <td>-0.131299</td>\n",
              "      <td>0.545793</td>\n",
              "      <td>-0.362198</td>\n",
              "      <td>1.000000</td>\n",
              "      <td>0.001334</td>\n",
              "      <td>NaN</td>\n",
              "      <td>NaN</td>\n",
              "      <td>0.089594</td>\n",
              "      <td>0.089598</td>\n",
              "    </tr>\n",
              "    <tr>\n",
              "      <th>GROUNDELEV</th>\n",
              "      <td>0.086768</td>\n",
              "      <td>-0.002915</td>\n",
              "      <td>-0.017185</td>\n",
              "      <td>-0.001800</td>\n",
              "      <td>0.001334</td>\n",
              "      <td>1.000000</td>\n",
              "      <td>NaN</td>\n",
              "      <td>NaN</td>\n",
              "      <td>0.105868</td>\n",
              "      <td>0.105870</td>\n",
              "    </tr>\n",
              "    <tr>\n",
              "      <th>SHAPE_AREA</th>\n",
              "      <td>NaN</td>\n",
              "      <td>NaN</td>\n",
              "      <td>NaN</td>\n",
              "      <td>NaN</td>\n",
              "      <td>NaN</td>\n",
              "      <td>NaN</td>\n",
              "      <td>NaN</td>\n",
              "      <td>NaN</td>\n",
              "      <td>NaN</td>\n",
              "      <td>NaN</td>\n",
              "    </tr>\n",
              "    <tr>\n",
              "      <th>SHAPE_LEN</th>\n",
              "      <td>NaN</td>\n",
              "      <td>NaN</td>\n",
              "      <td>NaN</td>\n",
              "      <td>NaN</td>\n",
              "      <td>NaN</td>\n",
              "      <td>NaN</td>\n",
              "      <td>NaN</td>\n",
              "      <td>NaN</td>\n",
              "      <td>NaN</td>\n",
              "      <td>NaN</td>\n",
              "    </tr>\n",
              "    <tr>\n",
              "      <th>BASE_BBL</th>\n",
              "      <td>0.988536</td>\n",
              "      <td>0.287250</td>\n",
              "      <td>0.075646</td>\n",
              "      <td>-0.328392</td>\n",
              "      <td>0.089594</td>\n",
              "      <td>0.105868</td>\n",
              "      <td>NaN</td>\n",
              "      <td>NaN</td>\n",
              "      <td>1.000000</td>\n",
              "      <td>0.999993</td>\n",
              "    </tr>\n",
              "    <tr>\n",
              "      <th>MPLUTO_BBL</th>\n",
              "      <td>0.988529</td>\n",
              "      <td>0.287234</td>\n",
              "      <td>0.075635</td>\n",
              "      <td>-0.328389</td>\n",
              "      <td>0.089598</td>\n",
              "      <td>0.105870</td>\n",
              "      <td>NaN</td>\n",
              "      <td>NaN</td>\n",
              "      <td>0.999993</td>\n",
              "      <td>1.000000</td>\n",
              "    </tr>\n",
              "  </tbody>\n",
              "</table>\n",
              "</div>"
            ],
            "text/plain": [
              "                 BIN  CNSTRCT_YR  DOITT_ID  HEIGHTROOF  FEAT_CODE  GROUNDELEV  \\\n",
              "BIN         1.000000    0.292731  0.156147   -0.358460   0.190425    0.086768   \n",
              "CNSTRCT_YR  0.292731    1.000000  0.191009    0.017020  -0.131299   -0.002915   \n",
              "DOITT_ID    0.156147    0.191009  1.000000   -0.168110   0.545793   -0.017185   \n",
              "HEIGHTROOF -0.358460    0.017020 -0.168110    1.000000  -0.362198   -0.001800   \n",
              "FEAT_CODE   0.190425   -0.131299  0.545793   -0.362198   1.000000    0.001334   \n",
              "GROUNDELEV  0.086768   -0.002915 -0.017185   -0.001800   0.001334    1.000000   \n",
              "SHAPE_AREA       NaN         NaN       NaN         NaN        NaN         NaN   \n",
              "SHAPE_LEN        NaN         NaN       NaN         NaN        NaN         NaN   \n",
              "BASE_BBL    0.988536    0.287250  0.075646   -0.328392   0.089594    0.105868   \n",
              "MPLUTO_BBL  0.988529    0.287234  0.075635   -0.328389   0.089598    0.105870   \n",
              "\n",
              "            SHAPE_AREA  SHAPE_LEN  BASE_BBL  MPLUTO_BBL  \n",
              "BIN                NaN        NaN  0.988536    0.988529  \n",
              "CNSTRCT_YR         NaN        NaN  0.287250    0.287234  \n",
              "DOITT_ID           NaN        NaN  0.075646    0.075635  \n",
              "HEIGHTROOF         NaN        NaN -0.328392   -0.328389  \n",
              "FEAT_CODE          NaN        NaN  0.089594    0.089598  \n",
              "GROUNDELEV         NaN        NaN  0.105868    0.105870  \n",
              "SHAPE_AREA         NaN        NaN       NaN         NaN  \n",
              "SHAPE_LEN          NaN        NaN       NaN         NaN  \n",
              "BASE_BBL           NaN        NaN  1.000000    0.999993  \n",
              "MPLUTO_BBL         NaN        NaN  0.999993    1.000000  "
            ]
          },
          "execution_count": 20,
          "metadata": {},
          "output_type": "execute_result"
        }
      ],
      "source": [
        "# compute pairwise correlation of columns, excluding NA/null values\n",
        "building_df.corr()"
      ]
    },
    {
      "cell_type": "code",
      "execution_count": null,
      "metadata": {
        "id": "agA4I_77mXtK",
        "outputId": "507be78c-e57d-4525-8aaa-0f5a1a240cca"
      },
      "outputs": [
        {
          "data": {
            "image/png": "[encoded data removed]",
            "text/plain": [
              "<Figure size 720x432 with 2 Axes>"
            ]
          },
          "metadata": {
            "needs_background": "light"
          },
          "output_type": "display_data"
        }
      ],
      "source": [
        "# correlation in the form of heat map\n",
        "fig, ax = plt.subplots(figsize=(10,6))\n",
        "\n",
        "sns.heatmap(building_df.corr(),\n",
        "            annot=True,\n",
        "            ax=ax)\n",
        "\n",
        "plt.tight_layout()"
      ]
    },
    {
      "cell_type": "code",
      "execution_count": null,
      "metadata": {
        "id": "xQgSSBwDmXtL",
        "outputId": "41e7967d-7df5-4ccc-ac7c-6ddbde6d7a85"
      },
      "outputs": [
        {
          "data": {
            "image/png": "[encoded data removed]",
            "text/plain": [
              "<Figure size 720x432 with 2 Axes>"
            ]
          },
          "metadata": {
            "needs_background": "light"
          },
          "output_type": "display_data"
        }
      ],
      "source": [
        "# correlation in the form of heat map\n",
        "fig, ax = plt.subplots(figsize=(10,6))\n",
        "\n",
        "# dropping columns of all nulls\n",
        "corr_df = building_df.drop(columns=['SHAPE_AREA', 'SHAPE_LEN'])\n",
        "\n",
        "sns.heatmap(corr_df.corr(),\n",
        "            annot=True,\n",
        "            ax=ax)\n",
        "\n",
        "plt.tight_layout()"
      ]
    },
    {
      "cell_type": "markdown",
      "metadata": {
        "id": "oUFAZJCumXtL"
      },
      "source": [
        "## 3.3 Identifying Null/NA Values"
      ]
    },
    {
      "cell_type": "code",
      "execution_count": null,
      "metadata": {
        "id": "f5hiLLTamXtM",
        "outputId": "639f1ba0-4c5d-43e8-8ce6-8a552a036262"
      },
      "outputs": [
        {
          "data": {
            "text/plain": [
              "the_geom            0\n",
              "NAME          1082620\n",
              "BIN                 0\n",
              "CNSTRCT_YR      10802\n",
              "LSTMODDATE          0\n",
              "LSTSTATYPE        259\n",
              "DOITT_ID            0\n",
              "HEIGHTROOF       2684\n",
              "FEAT_CODE           7\n",
              "GROUNDELEV        543\n",
              "SHAPE_AREA          0\n",
              "SHAPE_LEN           0\n",
              "BASE_BBL            0\n",
              "MPLUTO_BBL          0\n",
              "GEOMSOURCE        233\n",
              "dtype: int64"
            ]
          },
          "execution_count": 23,
          "metadata": {},
          "output_type": "execute_result"
        }
      ],
      "source": [
        "# nulls per column\n",
        "building_df.isnull().sum()"
      ]
    },
    {
      "cell_type": "code",
      "execution_count": null,
      "metadata": {
        "id": "qjf8QKWGmXtX",
        "outputId": "b8f15723-d9fd-41d1-e66d-711edd2c72d5"
      },
      "outputs": [
        {
          "name": "stdout",
          "output_type": "stream",
          "text": [
            "total nulls in dataframe: 1,097,148\n"
          ]
        }
      ],
      "source": [
        "# total nulls in dataframe\n",
        "null_count = building_df.isnull().sum().sum()\n",
        "\n",
        "print('total nulls in dataframe: {:,}'.format(null_count))"
      ]
    },
    {
      "cell_type": "code",
      "execution_count": null,
      "metadata": {
        "id": "wv9Eyg7vmXtY",
        "outputId": "307b71a7-72f7-4182-8667-12d30200ca0f"
      },
      "outputs": [
        {
          "data": {
            "text/html": [
              "<div>\n",
              "<style scoped>\n",
              "    .dataframe tbody tr th:only-of-type {\n",
              "        vertical-align: middle;\n",
              "    }\n",
              "\n",
              "    .dataframe tbody tr th {\n",
              "        vertical-align: top;\n",
              "    }\n",
              "\n",
              "    .dataframe thead th {\n",
              "        text-align: right;\n",
              "    }\n",
              "</style>\n",
              "<table border=\"1\" class=\"dataframe\">\n",
              "  <thead>\n",
              "    <tr style=\"text-align: right;\">\n",
              "      <th></th>\n",
              "      <th>the_geom</th>\n",
              "      <th>NAME</th>\n",
              "      <th>BIN</th>\n",
              "      <th>CNSTRCT_YR</th>\n",
              "      <th>LSTMODDATE</th>\n",
              "      <th>LSTSTATYPE</th>\n",
              "      <th>DOITT_ID</th>\n",
              "      <th>HEIGHTROOF</th>\n",
              "      <th>FEAT_CODE</th>\n",
              "      <th>GROUNDELEV</th>\n",
              "      <th>SHAPE_AREA</th>\n",
              "      <th>SHAPE_LEN</th>\n",
              "      <th>BASE_BBL</th>\n",
              "      <th>MPLUTO_BBL</th>\n",
              "      <th>GEOMSOURCE</th>\n",
              "    </tr>\n",
              "  </thead>\n",
              "  <tbody>\n",
              "    <tr>\n",
              "      <th>0</th>\n",
              "      <td>False</td>\n",
              "      <td>True</td>\n",
              "      <td>False</td>\n",
              "      <td>False</td>\n",
              "      <td>False</td>\n",
              "      <td>False</td>\n",
              "      <td>False</td>\n",
              "      <td>False</td>\n",
              "      <td>False</td>\n",
              "      <td>False</td>\n",
              "      <td>False</td>\n",
              "      <td>False</td>\n",
              "      <td>False</td>\n",
              "      <td>False</td>\n",
              "      <td>False</td>\n",
              "    </tr>\n",
              "    <tr>\n",
              "      <th>1</th>\n",
              "      <td>False</td>\n",
              "      <td>True</td>\n",
              "      <td>False</td>\n",
              "      <td>False</td>\n",
              "      <td>False</td>\n",
              "      <td>False</td>\n",
              "      <td>False</td>\n",
              "      <td>False</td>\n",
              "      <td>False</td>\n",
              "      <td>False</td>\n",
              "      <td>False</td>\n",
              "      <td>False</td>\n",
              "      <td>False</td>\n",
              "      <td>False</td>\n",
              "      <td>False</td>\n",
              "    </tr>\n",
              "    <tr>\n",
              "      <th>2</th>\n",
              "      <td>False</td>\n",
              "      <td>True</td>\n",
              "      <td>False</td>\n",
              "      <td>False</td>\n",
              "      <td>False</td>\n",
              "      <td>False</td>\n",
              "      <td>False</td>\n",
              "      <td>False</td>\n",
              "      <td>False</td>\n",
              "      <td>False</td>\n",
              "      <td>False</td>\n",
              "      <td>False</td>\n",
              "      <td>False</td>\n",
              "      <td>False</td>\n",
              "      <td>False</td>\n",
              "    </tr>\n",
              "    <tr>\n",
              "      <th>3</th>\n",
              "      <td>False</td>\n",
              "      <td>True</td>\n",
              "      <td>False</td>\n",
              "      <td>False</td>\n",
              "      <td>False</td>\n",
              "      <td>False</td>\n",
              "      <td>False</td>\n",
              "      <td>False</td>\n",
              "      <td>False</td>\n",
              "      <td>False</td>\n",
              "      <td>False</td>\n",
              "      <td>False</td>\n",
              "      <td>False</td>\n",
              "      <td>False</td>\n",
              "      <td>False</td>\n",
              "    </tr>\n",
              "    <tr>\n",
              "      <th>4</th>\n",
              "      <td>False</td>\n",
              "      <td>True</td>\n",
              "      <td>False</td>\n",
              "      <td>False</td>\n",
              "      <td>False</td>\n",
              "      <td>False</td>\n",
              "      <td>False</td>\n",
              "      <td>False</td>\n",
              "      <td>False</td>\n",
              "      <td>False</td>\n",
              "      <td>False</td>\n",
              "      <td>False</td>\n",
              "      <td>False</td>\n",
              "      <td>False</td>\n",
              "      <td>False</td>\n",
              "    </tr>\n",
              "    <tr>\n",
              "      <th>...</th>\n",
              "      <td>...</td>\n",
              "      <td>...</td>\n",
              "      <td>...</td>\n",
              "      <td>...</td>\n",
              "      <td>...</td>\n",
              "      <td>...</td>\n",
              "      <td>...</td>\n",
              "      <td>...</td>\n",
              "      <td>...</td>\n",
              "      <td>...</td>\n",
              "      <td>...</td>\n",
              "      <td>...</td>\n",
              "      <td>...</td>\n",
              "      <td>...</td>\n",
              "      <td>...</td>\n",
              "    </tr>\n",
              "    <tr>\n",
              "      <th>1084552</th>\n",
              "      <td>False</td>\n",
              "      <td>True</td>\n",
              "      <td>False</td>\n",
              "      <td>False</td>\n",
              "      <td>False</td>\n",
              "      <td>False</td>\n",
              "      <td>False</td>\n",
              "      <td>False</td>\n",
              "      <td>False</td>\n",
              "      <td>False</td>\n",
              "      <td>False</td>\n",
              "      <td>False</td>\n",
              "      <td>False</td>\n",
              "      <td>False</td>\n",
              "      <td>False</td>\n",
              "    </tr>\n",
              "    <tr>\n",
              "      <th>1084553</th>\n",
              "      <td>False</td>\n",
              "      <td>True</td>\n",
              "      <td>False</td>\n",
              "      <td>False</td>\n",
              "      <td>False</td>\n",
              "      <td>False</td>\n",
              "      <td>False</td>\n",
              "      <td>False</td>\n",
              "      <td>False</td>\n",
              "      <td>False</td>\n",
              "      <td>False</td>\n",
              "      <td>False</td>\n",
              "      <td>False</td>\n",
              "      <td>False</td>\n",
              "      <td>False</td>\n",
              "    </tr>\n",
              "    <tr>\n",
              "      <th>1084554</th>\n",
              "      <td>False</td>\n",
              "      <td>True</td>\n",
              "      <td>False</td>\n",
              "      <td>False</td>\n",
              "      <td>False</td>\n",
              "      <td>False</td>\n",
              "      <td>False</td>\n",
              "      <td>False</td>\n",
              "      <td>False</td>\n",
              "      <td>False</td>\n",
              "      <td>False</td>\n",
              "      <td>False</td>\n",
              "      <td>False</td>\n",
              "      <td>False</td>\n",
              "      <td>False</td>\n",
              "    </tr>\n",
              "    <tr>\n",
              "      <th>1084555</th>\n",
              "      <td>False</td>\n",
              "      <td>True</td>\n",
              "      <td>False</td>\n",
              "      <td>False</td>\n",
              "      <td>False</td>\n",
              "      <td>False</td>\n",
              "      <td>False</td>\n",
              "      <td>False</td>\n",
              "      <td>False</td>\n",
              "      <td>False</td>\n",
              "      <td>False</td>\n",
              "      <td>False</td>\n",
              "      <td>False</td>\n",
              "      <td>False</td>\n",
              "      <td>False</td>\n",
              "    </tr>\n",
              "    <tr>\n",
              "      <th>1084556</th>\n",
              "      <td>False</td>\n",
              "      <td>True</td>\n",
              "      <td>False</td>\n",
              "      <td>False</td>\n",
              "      <td>False</td>\n",
              "      <td>False</td>\n",
              "      <td>False</td>\n",
              "      <td>False</td>\n",
              "      <td>False</td>\n",
              "      <td>False</td>\n",
              "      <td>False</td>\n",
              "      <td>False</td>\n",
              "      <td>False</td>\n",
              "      <td>False</td>\n",
              "      <td>False</td>\n",
              "    </tr>\n",
              "  </tbody>\n",
              "</table>\n",
              "<p>1084557 rows × 15 columns</p>\n",
              "</div>"
            ],
            "text/plain": [
              "         the_geom  NAME    BIN  CNSTRCT_YR  LSTMODDATE  LSTSTATYPE  DOITT_ID  \\\n",
              "0           False  True  False       False       False       False     False   \n",
              "1           False  True  False       False       False       False     False   \n",
              "2           False  True  False       False       False       False     False   \n",
              "3           False  True  False       False       False       False     False   \n",
              "4           False  True  False       False       False       False     False   \n",
              "...           ...   ...    ...         ...         ...         ...       ...   \n",
              "1084552     False  True  False       False       False       False     False   \n",
              "1084553     False  True  False       False       False       False     False   \n",
              "1084554     False  True  False       False       False       False     False   \n",
              "1084555     False  True  False       False       False       False     False   \n",
              "1084556     False  True  False       False       False       False     False   \n",
              "\n",
              "         HEIGHTROOF  FEAT_CODE  GROUNDELEV  SHAPE_AREA  SHAPE_LEN  BASE_BBL  \\\n",
              "0             False      False       False       False      False     False   \n",
              "1             False      False       False       False      False     False   \n",
              "2             False      False       False       False      False     False   \n",
              "3             False      False       False       False      False     False   \n",
              "4             False      False       False       False      False     False   \n",
              "...             ...        ...         ...         ...        ...       ...   \n",
              "1084552       False      False       False       False      False     False   \n",
              "1084553       False      False       False       False      False     False   \n",
              "1084554       False      False       False       False      False     False   \n",
              "1084555       False      False       False       False      False     False   \n",
              "1084556       False      False       False       False      False     False   \n",
              "\n",
              "         MPLUTO_BBL  GEOMSOURCE  \n",
              "0             False       False  \n",
              "1             False       False  \n",
              "2             False       False  \n",
              "3             False       False  \n",
              "4             False       False  \n",
              "...             ...         ...  \n",
              "1084552       False       False  \n",
              "1084553       False       False  \n",
              "1084554       False       False  \n",
              "1084555       False       False  \n",
              "1084556       False       False  \n",
              "\n",
              "[1084557 rows x 15 columns]"
            ]
          },
          "execution_count": 25,
          "metadata": {},
          "output_type": "execute_result"
        }
      ],
      "source": [
        "# return a boolean same-sized object of nulls\n",
        "building_df.isnull()"
      ]
    },
    {
      "cell_type": "code",
      "execution_count": null,
      "metadata": {
        "id": "cqj1k7wimXta",
        "outputId": "939be0a4-d731-4521-9577-f72eb4091314"
      },
      "outputs": [
        {
          "data": {
            "text/plain": [
              "the_geom      False\n",
              "NAME           True\n",
              "BIN           False\n",
              "CNSTRCT_YR     True\n",
              "LSTMODDATE    False\n",
              "LSTSTATYPE     True\n",
              "DOITT_ID      False\n",
              "HEIGHTROOF     True\n",
              "FEAT_CODE      True\n",
              "GROUNDELEV     True\n",
              "SHAPE_AREA    False\n",
              "SHAPE_LEN     False\n",
              "BASE_BBL      False\n",
              "MPLUTO_BBL    False\n",
              "GEOMSOURCE     True\n",
              "dtype: bool"
            ]
          },
          "execution_count": 26,
          "metadata": {},
          "output_type": "execute_result"
        }
      ],
      "source": [
        "# return a boolean if any of the values are null in column\n",
        "building_df.isnull().any()"
      ]
    },
    {
      "cell_type": "code",
      "execution_count": null,
      "metadata": {
        "id": "eDzAxB7AmXtb",
        "outputId": "a63d8823-71b9-437f-be39-8c5eb63f4d4c"
      },
      "outputs": [
        {
          "name": "stdout",
          "output_type": "stream",
          "text": [
            "these columns have at least one null value:\n",
            "\n",
            "NAME\n",
            "CNSTRCT_YR\n",
            "LSTSTATYPE\n",
            "HEIGHTROOF\n",
            "FEAT_CODE\n",
            "GROUNDELEV\n",
            "GEOMSOURCE\n"
          ]
        }
      ],
      "source": [
        "null_cols_ser = building_df.isnull().any()\n",
        "\n",
        "# locating columns by boolean 'True'\n",
        "null_cols = null_cols_ser.loc[null_cols_ser].index\n",
        "\n",
        "print('these columns have at least one null value:\\n')\n",
        "for col in null_cols:\n",
        "    print(col)"
      ]
    },
    {
      "cell_type": "code",
      "execution_count": null,
      "metadata": {
        "id": "HRu91BghmXtb",
        "outputId": "2084670e-b1c3-4a2d-ad85-b64975bf60d6"
      },
      "outputs": [
        {
          "data": {
            "text/html": [
              "<div>\n",
              "<style scoped>\n",
              "    .dataframe tbody tr th:only-of-type {\n",
              "        vertical-align: middle;\n",
              "    }\n",
              "\n",
              "    .dataframe tbody tr th {\n",
              "        vertical-align: top;\n",
              "    }\n",
              "\n",
              "    .dataframe thead th {\n",
              "        text-align: right;\n",
              "    }\n",
              "</style>\n",
              "<table border=\"1\" class=\"dataframe\">\n",
              "  <thead>\n",
              "    <tr style=\"text-align: right;\">\n",
              "      <th></th>\n",
              "      <th>perc_missing</th>\n",
              "    </tr>\n",
              "  </thead>\n",
              "  <tbody>\n",
              "    <tr>\n",
              "      <th>NAME</th>\n",
              "      <td>99.821402</td>\n",
              "    </tr>\n",
              "    <tr>\n",
              "      <th>CNSTRCT_YR</th>\n",
              "      <td>0.995983</td>\n",
              "    </tr>\n",
              "    <tr>\n",
              "      <th>HEIGHTROOF</th>\n",
              "      <td>0.247474</td>\n",
              "    </tr>\n",
              "    <tr>\n",
              "      <th>GROUNDELEV</th>\n",
              "      <td>0.050067</td>\n",
              "    </tr>\n",
              "    <tr>\n",
              "      <th>LSTSTATYPE</th>\n",
              "      <td>0.023881</td>\n",
              "    </tr>\n",
              "    <tr>\n",
              "      <th>GEOMSOURCE</th>\n",
              "      <td>0.021483</td>\n",
              "    </tr>\n",
              "    <tr>\n",
              "      <th>FEAT_CODE</th>\n",
              "      <td>0.000645</td>\n",
              "    </tr>\n",
              "    <tr>\n",
              "      <th>the_geom</th>\n",
              "      <td>0.000000</td>\n",
              "    </tr>\n",
              "    <tr>\n",
              "      <th>BIN</th>\n",
              "      <td>0.000000</td>\n",
              "    </tr>\n",
              "    <tr>\n",
              "      <th>LSTMODDATE</th>\n",
              "      <td>0.000000</td>\n",
              "    </tr>\n",
              "    <tr>\n",
              "      <th>DOITT_ID</th>\n",
              "      <td>0.000000</td>\n",
              "    </tr>\n",
              "    <tr>\n",
              "      <th>SHAPE_AREA</th>\n",
              "      <td>0.000000</td>\n",
              "    </tr>\n",
              "    <tr>\n",
              "      <th>SHAPE_LEN</th>\n",
              "      <td>0.000000</td>\n",
              "    </tr>\n",
              "    <tr>\n",
              "      <th>BASE_BBL</th>\n",
              "      <td>0.000000</td>\n",
              "    </tr>\n",
              "    <tr>\n",
              "      <th>MPLUTO_BBL</th>\n",
              "      <td>0.000000</td>\n",
              "    </tr>\n",
              "  </tbody>\n",
              "</table>\n",
              "</div>"
            ],
            "text/plain": [
              "            perc_missing\n",
              "NAME           99.821402\n",
              "CNSTRCT_YR      0.995983\n",
              "HEIGHTROOF      0.247474\n",
              "GROUNDELEV      0.050067\n",
              "LSTSTATYPE      0.023881\n",
              "GEOMSOURCE      0.021483\n",
              "FEAT_CODE       0.000645\n",
              "the_geom        0.000000\n",
              "BIN             0.000000\n",
              "LSTMODDATE      0.000000\n",
              "DOITT_ID        0.000000\n",
              "SHAPE_AREA      0.000000\n",
              "SHAPE_LEN       0.000000\n",
              "BASE_BBL        0.000000\n",
              "MPLUTO_BBL      0.000000"
            ]
          },
          "execution_count": 28,
          "metadata": {},
          "output_type": "execute_result"
        }
      ],
      "source": [
        "# calculating a percentage of the number of nulls to total number of records of each column\n",
        "missing_data = (building_df.isnull().sum() / len(building_df)) * 100\n",
        "\n",
        "# creating a dataframe\n",
        "missing_data = pd.DataFrame(missing_data, columns=['perc_missing'])\n",
        "missing_data = missing_data.sort_values(by='perc_missing', ascending=False)\n",
        "\n",
        "missing_data"
      ]
    },
    {
      "cell_type": "markdown",
      "metadata": {
        "id": "PBHke6ePmXtc"
      },
      "source": [
        "# 4. Data Cleaning & Wrangling"
      ]
    },
    {
      "cell_type": "markdown",
      "metadata": {
        "id": "2z0SEYUSmXtc"
      },
      "source": [
        "We will be cleaning the **Construction Year** (i.e. CNSTRCT_YR) column, as this is the column we will be using in our analysis."
      ]
    },
    {
      "cell_type": "markdown",
      "metadata": {
        "id": "96w-msNbmXte"
      },
      "source": [
        "## Attribute Information for CNSTRCT_YR:\n",
        "---------------------------------------------\n",
        "| Attribute | Description | Field Type | Sensitive Field (Y/N) | Notes|\n",
        "|------------ | ------------- | -------- | ----------- | ----------|\n",
        "| CNSTRCT_YR | The year construction of the building was completed. <br>Originally this column was populated using the Department of Finance Real Property Assessment Database (RPAD). Beginning in 2017 this will be the first year the completed structure is visible in available orthoimagery. Records where this is zero or NULL mean that this information was not available. | double | No"
      ]
    },
    {
      "cell_type": "markdown",
      "metadata": {
        "id": "MOMXUMTnmXtf"
      },
      "source": [
        "## 4.1 Previewing Column Values"
      ]
    },
    {
      "cell_type": "code",
      "execution_count": null,
      "metadata": {
        "id": "70nFkq30mXti",
        "outputId": "af74c128-e0af-4f4a-eb98-cc9004bfab6b"
      },
      "outputs": [
        {
          "data": {
            "text/plain": [
              "pandas.core.series.Series"
            ]
          },
          "execution_count": 29,
          "metadata": {},
          "output_type": "execute_result"
        }
      ],
      "source": [
        "# printing the object's type of a column\n",
        "type(building_df['CNSTRCT_YR'])"
      ]
    },
    {
      "cell_type": "code",
      "execution_count": null,
      "metadata": {
        "id": "8PU3JPKymXtn",
        "outputId": "a1a8f2cf-7275-4aff-abc9-531a824f1a70"
      },
      "outputs": [
        {
          "name": "stdout",
          "output_type": "stream",
          "text": [
            "<class 'pandas.core.series.Series'>\n",
            "<class 'pandas.core.frame.DataFrame'>\n"
          ]
        }
      ],
      "source": [
        "# notice the difference of type from dataframe to series\n",
        "print(type(building_df[\"CNSTRCT_YR\"]))\n",
        "print(type(building_df[[\"CNSTRCT_YR\"]]))"
      ]
    },
    {
      "cell_type": "code",
      "execution_count": null,
      "metadata": {
        "id": "ElilE1ytmXto",
        "outputId": "23b1c2cf-be2f-45b1-eed5-acad1c47d3ba"
      },
      "outputs": [
        {
          "data": {
            "text/plain": [
              "0          1925.0\n",
              "1          1965.0\n",
              "2          1970.0\n",
              "3          1928.0\n",
              "4          1950.0\n",
              "            ...  \n",
              "1084552    2022.0\n",
              "1084553    1931.0\n",
              "1084554    2017.0\n",
              "1084555    2003.0\n",
              "1084556    2003.0\n",
              "Name: CNSTRCT_YR, Length: 1084557, dtype: float64"
            ]
          },
          "execution_count": 31,
          "metadata": {},
          "output_type": "execute_result"
        }
      ],
      "source": [
        "# returning a series of the 'CNSTRCT_YR' column\n",
        "building_df[\"CNSTRCT_YR\"]"
      ]
    },
    {
      "cell_type": "code",
      "execution_count": null,
      "metadata": {
        "id": "pPRO_HxwmXtp",
        "outputId": "43cddb42-39c0-43e6-d758-5437a0621088"
      },
      "outputs": [
        {
          "data": {
            "text/html": [
              "<div>\n",
              "<style scoped>\n",
              "    .dataframe tbody tr th:only-of-type {\n",
              "        vertical-align: middle;\n",
              "    }\n",
              "\n",
              "    .dataframe tbody tr th {\n",
              "        vertical-align: top;\n",
              "    }\n",
              "\n",
              "    .dataframe thead th {\n",
              "        text-align: right;\n",
              "    }\n",
              "</style>\n",
              "<table border=\"1\" class=\"dataframe\">\n",
              "  <thead>\n",
              "    <tr style=\"text-align: right;\">\n",
              "      <th></th>\n",
              "      <th>CNSTRCT_YR</th>\n",
              "    </tr>\n",
              "  </thead>\n",
              "  <tbody>\n",
              "    <tr>\n",
              "      <th>0</th>\n",
              "      <td>1925.0</td>\n",
              "    </tr>\n",
              "    <tr>\n",
              "      <th>1</th>\n",
              "      <td>1965.0</td>\n",
              "    </tr>\n",
              "    <tr>\n",
              "      <th>2</th>\n",
              "      <td>1970.0</td>\n",
              "    </tr>\n",
              "    <tr>\n",
              "      <th>3</th>\n",
              "      <td>1928.0</td>\n",
              "    </tr>\n",
              "    <tr>\n",
              "      <th>4</th>\n",
              "      <td>1950.0</td>\n",
              "    </tr>\n",
              "    <tr>\n",
              "      <th>...</th>\n",
              "      <td>...</td>\n",
              "    </tr>\n",
              "    <tr>\n",
              "      <th>1084552</th>\n",
              "      <td>2022.0</td>\n",
              "    </tr>\n",
              "    <tr>\n",
              "      <th>1084553</th>\n",
              "      <td>1931.0</td>\n",
              "    </tr>\n",
              "    <tr>\n",
              "      <th>1084554</th>\n",
              "      <td>2017.0</td>\n",
              "    </tr>\n",
              "    <tr>\n",
              "      <th>1084555</th>\n",
              "      <td>2003.0</td>\n",
              "    </tr>\n",
              "    <tr>\n",
              "      <th>1084556</th>\n",
              "      <td>2003.0</td>\n",
              "    </tr>\n",
              "  </tbody>\n",
              "</table>\n",
              "<p>1084557 rows × 1 columns</p>\n",
              "</div>"
            ],
            "text/plain": [
              "         CNSTRCT_YR\n",
              "0            1925.0\n",
              "1            1965.0\n",
              "2            1970.0\n",
              "3            1928.0\n",
              "4            1950.0\n",
              "...             ...\n",
              "1084552      2022.0\n",
              "1084553      1931.0\n",
              "1084554      2017.0\n",
              "1084555      2003.0\n",
              "1084556      2003.0\n",
              "\n",
              "[1084557 rows x 1 columns]"
            ]
          },
          "execution_count": 32,
          "metadata": {},
          "output_type": "execute_result"
        }
      ],
      "source": [
        "# returning a dataframe of the 'CNSTRCT_YR' column double brackets\n",
        "building_df[[\"CNSTRCT_YR\"]]"
      ]
    },
    {
      "cell_type": "code",
      "execution_count": null,
      "metadata": {
        "scrolled": true,
        "id": "xBoX9T4ZmXuO",
        "outputId": "38a02f55-c0f1-4f60-a262-e546647d7918"
      },
      "outputs": [
        {
          "data": {
            "text/html": [
              "<div>\n",
              "<style scoped>\n",
              "    .dataframe tbody tr th:only-of-type {\n",
              "        vertical-align: middle;\n",
              "    }\n",
              "\n",
              "    .dataframe tbody tr th {\n",
              "        vertical-align: top;\n",
              "    }\n",
              "\n",
              "    .dataframe thead th {\n",
              "        text-align: right;\n",
              "    }\n",
              "</style>\n",
              "<table border=\"1\" class=\"dataframe\">\n",
              "  <thead>\n",
              "    <tr style=\"text-align: right;\">\n",
              "      <th></th>\n",
              "      <th>the_geom</th>\n",
              "      <th>NAME</th>\n",
              "      <th>BIN</th>\n",
              "      <th>CNSTRCT_YR</th>\n",
              "      <th>LSTMODDATE</th>\n",
              "      <th>LSTSTATYPE</th>\n",
              "      <th>DOITT_ID</th>\n",
              "      <th>HEIGHTROOF</th>\n",
              "      <th>FEAT_CODE</th>\n",
              "      <th>GROUNDELEV</th>\n",
              "      <th>SHAPE_AREA</th>\n",
              "      <th>SHAPE_LEN</th>\n",
              "      <th>BASE_BBL</th>\n",
              "      <th>MPLUTO_BBL</th>\n",
              "      <th>GEOMSOURCE</th>\n",
              "    </tr>\n",
              "  </thead>\n",
              "  <tbody>\n",
              "    <tr>\n",
              "      <th>1043056</th>\n",
              "      <td>MULTIPOLYGON (((-73.92083460429942 40.64439765...</td>\n",
              "      <td>Pieter Claesen Wyckoff House</td>\n",
              "      <td>3221967</td>\n",
              "      <td>1652.0</td>\n",
              "      <td>01/28/2020 12:00:00 AM</td>\n",
              "      <td>Constructed</td>\n",
              "      <td>550741</td>\n",
              "      <td>24.540000</td>\n",
              "      <td>2100.0</td>\n",
              "      <td>14.0</td>\n",
              "      <td>0</td>\n",
              "      <td>0</td>\n",
              "      <td>3079170009</td>\n",
              "      <td>3079170009</td>\n",
              "      <td>Photogramm</td>\n",
              "    </tr>\n",
              "    <tr>\n",
              "      <th>775597</th>\n",
              "      <td>MULTIPOLYGON (((-73.8247828135812 40.762948467...</td>\n",
              "      <td>Bowne House</td>\n",
              "      <td>4113403</td>\n",
              "      <td>1661.0</td>\n",
              "      <td>08/22/2017 12:00:00 AM</td>\n",
              "      <td>Constructed</td>\n",
              "      <td>776399</td>\n",
              "      <td>26.120000</td>\n",
              "      <td>2100.0</td>\n",
              "      <td>64.0</td>\n",
              "      <td>0</td>\n",
              "      <td>0</td>\n",
              "      <td>4050130006</td>\n",
              "      <td>4050130006</td>\n",
              "      <td>Photogramm</td>\n",
              "    </tr>\n",
              "    <tr>\n",
              "      <th>470511</th>\n",
              "      <td>MULTIPOLYGON (((-73.82449114078894 40.76279389...</td>\n",
              "      <td>NaN</td>\n",
              "      <td>4610542</td>\n",
              "      <td>1661.0</td>\n",
              "      <td>08/17/2017 12:00:00 AM</td>\n",
              "      <td>Constructed</td>\n",
              "      <td>1190137</td>\n",
              "      <td>14.846959</td>\n",
              "      <td>5110.0</td>\n",
              "      <td>63.0</td>\n",
              "      <td>0</td>\n",
              "      <td>0</td>\n",
              "      <td>4050130006</td>\n",
              "      <td>4050130006</td>\n",
              "      <td>Photogramm</td>\n",
              "    </tr>\n",
              "    <tr>\n",
              "      <th>57613</th>\n",
              "      <td>MULTIPOLYGON (((-74.25311647359251 40.50309522...</td>\n",
              "      <td>Conference House</td>\n",
              "      <td>5087656</td>\n",
              "      <td>1680.0</td>\n",
              "      <td>04/13/2020 12:00:00 AM</td>\n",
              "      <td>Constructed</td>\n",
              "      <td>702698</td>\n",
              "      <td>38.640000</td>\n",
              "      <td>2100.0</td>\n",
              "      <td>38.0</td>\n",
              "      <td>0</td>\n",
              "      <td>0</td>\n",
              "      <td>5078570090</td>\n",
              "      <td>5078570090</td>\n",
              "      <td>Photogramm</td>\n",
              "    </tr>\n",
              "    <tr>\n",
              "      <th>569579</th>\n",
              "      <td>MULTIPOLYGON (((-74.06293248238293 40.61512359...</td>\n",
              "      <td>Alice Austen House Museum</td>\n",
              "      <td>5042188</td>\n",
              "      <td>1690.0</td>\n",
              "      <td>04/13/2020 12:00:00 AM</td>\n",
              "      <td>Alteration</td>\n",
              "      <td>806241</td>\n",
              "      <td>22.260000</td>\n",
              "      <td>2100.0</td>\n",
              "      <td>21.0</td>\n",
              "      <td>0</td>\n",
              "      <td>0</td>\n",
              "      <td>5028300049</td>\n",
              "      <td>5028300049</td>\n",
              "      <td>Photogramm</td>\n",
              "    </tr>\n",
              "  </tbody>\n",
              "</table>\n",
              "</div>"
            ],
            "text/plain": [
              "                                                  the_geom  \\\n",
              "1043056  MULTIPOLYGON (((-73.92083460429942 40.64439765...   \n",
              "775597   MULTIPOLYGON (((-73.8247828135812 40.762948467...   \n",
              "470511   MULTIPOLYGON (((-73.82449114078894 40.76279389...   \n",
              "57613    MULTIPOLYGON (((-74.25311647359251 40.50309522...   \n",
              "569579   MULTIPOLYGON (((-74.06293248238293 40.61512359...   \n",
              "\n",
              "                                 NAME      BIN  CNSTRCT_YR  \\\n",
              "1043056  Pieter Claesen Wyckoff House  3221967      1652.0   \n",
              "775597                    Bowne House  4113403      1661.0   \n",
              "470511                            NaN  4610542      1661.0   \n",
              "57613                Conference House  5087656      1680.0   \n",
              "569579      Alice Austen House Museum  5042188      1690.0   \n",
              "\n",
              "                     LSTMODDATE   LSTSTATYPE  DOITT_ID  HEIGHTROOF  FEAT_CODE  \\\n",
              "1043056  01/28/2020 12:00:00 AM  Constructed    550741   24.540000     2100.0   \n",
              "775597   08/22/2017 12:00:00 AM  Constructed    776399   26.120000     2100.0   \n",
              "470511   08/17/2017 12:00:00 AM  Constructed   1190137   14.846959     5110.0   \n",
              "57613    04/13/2020 12:00:00 AM  Constructed    702698   38.640000     2100.0   \n",
              "569579   04/13/2020 12:00:00 AM   Alteration    806241   22.260000     2100.0   \n",
              "\n",
              "         GROUNDELEV  SHAPE_AREA  SHAPE_LEN    BASE_BBL  MPLUTO_BBL  GEOMSOURCE  \n",
              "1043056        14.0           0          0  3079170009  3079170009  Photogramm  \n",
              "775597         64.0           0          0  4050130006  4050130006  Photogramm  \n",
              "470511         63.0           0          0  4050130006  4050130006  Photogramm  \n",
              "57613          38.0           0          0  5078570090  5078570090  Photogramm  \n",
              "569579         21.0           0          0  5028300049  5028300049  Photogramm  "
            ]
          },
          "execution_count": 33,
          "metadata": {},
          "output_type": "execute_result"
        }
      ],
      "source": [
        "# first five rows sorted by the 'CNSTRCT_YR' column in ascending order\n",
        "building_df.sort_values('CNSTRCT_YR').head()"
      ]
    },
    {
      "cell_type": "code",
      "execution_count": null,
      "metadata": {
        "id": "5KN1_JTTmXuP",
        "outputId": "d96ede27-9250-4ae4-8927-09f477837876"
      },
      "outputs": [
        {
          "data": {
            "text/html": [
              "<div>\n",
              "<style scoped>\n",
              "    .dataframe tbody tr th:only-of-type {\n",
              "        vertical-align: middle;\n",
              "    }\n",
              "\n",
              "    .dataframe tbody tr th {\n",
              "        vertical-align: top;\n",
              "    }\n",
              "\n",
              "    .dataframe thead th {\n",
              "        text-align: right;\n",
              "    }\n",
              "</style>\n",
              "<table border=\"1\" class=\"dataframe\">\n",
              "  <thead>\n",
              "    <tr style=\"text-align: right;\">\n",
              "      <th></th>\n",
              "      <th>the_geom</th>\n",
              "      <th>NAME</th>\n",
              "      <th>BIN</th>\n",
              "      <th>CNSTRCT_YR</th>\n",
              "      <th>LSTMODDATE</th>\n",
              "      <th>LSTSTATYPE</th>\n",
              "      <th>DOITT_ID</th>\n",
              "      <th>HEIGHTROOF</th>\n",
              "      <th>FEAT_CODE</th>\n",
              "      <th>GROUNDELEV</th>\n",
              "      <th>SHAPE_AREA</th>\n",
              "      <th>SHAPE_LEN</th>\n",
              "      <th>BASE_BBL</th>\n",
              "      <th>MPLUTO_BBL</th>\n",
              "      <th>GEOMSOURCE</th>\n",
              "    </tr>\n",
              "  </thead>\n",
              "  <tbody>\n",
              "    <tr>\n",
              "      <th>1083863</th>\n",
              "      <td>MULTIPOLYGON (((-73.94582865192974 40.64166857...</td>\n",
              "      <td>NaN</td>\n",
              "      <td>3428830</td>\n",
              "      <td>2022.0</td>\n",
              "      <td>07/18/2022 12:00:00 AM</td>\n",
              "      <td>Constructed</td>\n",
              "      <td>1297470</td>\n",
              "      <td>70.0</td>\n",
              "      <td>2100.0</td>\n",
              "      <td>29.0</td>\n",
              "      <td>0</td>\n",
              "      <td>0</td>\n",
              "      <td>3049490035</td>\n",
              "      <td>3049490035</td>\n",
              "      <td>Other (Man</td>\n",
              "    </tr>\n",
              "    <tr>\n",
              "      <th>1082441</th>\n",
              "      <td>MULTIPOLYGON (((-73.94373229017177 40.63702491...</td>\n",
              "      <td>NaN</td>\n",
              "      <td>3113855</td>\n",
              "      <td>2022.0</td>\n",
              "      <td>04/06/2022 12:00:00 AM</td>\n",
              "      <td>Constructed</td>\n",
              "      <td>1296741</td>\n",
              "      <td>70.0</td>\n",
              "      <td>2100.0</td>\n",
              "      <td>30.0</td>\n",
              "      <td>0</td>\n",
              "      <td>0</td>\n",
              "      <td>3049980004</td>\n",
              "      <td>3049980004</td>\n",
              "      <td>Other (Man</td>\n",
              "    </tr>\n",
              "    <tr>\n",
              "      <th>1083988</th>\n",
              "      <td>MULTIPOLYGON (((-73.74181660838438 40.60507526...</td>\n",
              "      <td>NaN</td>\n",
              "      <td>4298344</td>\n",
              "      <td>2022.0</td>\n",
              "      <td>08/01/2022 12:00:00 AM</td>\n",
              "      <td>Constructed</td>\n",
              "      <td>1297662</td>\n",
              "      <td>35.0</td>\n",
              "      <td>2100.0</td>\n",
              "      <td>16.0</td>\n",
              "      <td>0</td>\n",
              "      <td>0</td>\n",
              "      <td>4155690009</td>\n",
              "      <td>4155690009</td>\n",
              "      <td>Other (Man</td>\n",
              "    </tr>\n",
              "    <tr>\n",
              "      <th>1083987</th>\n",
              "      <td>MULTIPOLYGON (((-73.95364307768567 40.74218411...</td>\n",
              "      <td>NaN</td>\n",
              "      <td>4000225</td>\n",
              "      <td>2022.0</td>\n",
              "      <td>08/01/2022 12:00:00 AM</td>\n",
              "      <td>Marked for Construction</td>\n",
              "      <td>1297660</td>\n",
              "      <td>133.0</td>\n",
              "      <td>5100.0</td>\n",
              "      <td>15.0</td>\n",
              "      <td>0</td>\n",
              "      <td>0</td>\n",
              "      <td>4000410010</td>\n",
              "      <td>4000410010</td>\n",
              "      <td>Other (Man</td>\n",
              "    </tr>\n",
              "    <tr>\n",
              "      <th>1083986</th>\n",
              "      <td>MULTIPOLYGON (((-73.94742702523288 40.78864831...</td>\n",
              "      <td>NaN</td>\n",
              "      <td>1091627</td>\n",
              "      <td>2022.0</td>\n",
              "      <td>08/02/2022 12:00:00 AM</td>\n",
              "      <td>Constructed</td>\n",
              "      <td>1297683</td>\n",
              "      <td>120.0</td>\n",
              "      <td>2100.0</td>\n",
              "      <td>28.0</td>\n",
              "      <td>0</td>\n",
              "      <td>0</td>\n",
              "      <td>1016290033</td>\n",
              "      <td>1016290033</td>\n",
              "      <td>Other (Man</td>\n",
              "    </tr>\n",
              "  </tbody>\n",
              "</table>\n",
              "</div>"
            ],
            "text/plain": [
              "                                                  the_geom NAME      BIN  \\\n",
              "1083863  MULTIPOLYGON (((-73.94582865192974 40.64166857...  NaN  3428830   \n",
              "1082441  MULTIPOLYGON (((-73.94373229017177 40.63702491...  NaN  3113855   \n",
              "1083988  MULTIPOLYGON (((-73.74181660838438 40.60507526...  NaN  4298344   \n",
              "1083987  MULTIPOLYGON (((-73.95364307768567 40.74218411...  NaN  4000225   \n",
              "1083986  MULTIPOLYGON (((-73.94742702523288 40.78864831...  NaN  1091627   \n",
              "\n",
              "         CNSTRCT_YR              LSTMODDATE               LSTSTATYPE  \\\n",
              "1083863      2022.0  07/18/2022 12:00:00 AM              Constructed   \n",
              "1082441      2022.0  04/06/2022 12:00:00 AM              Constructed   \n",
              "1083988      2022.0  08/01/2022 12:00:00 AM              Constructed   \n",
              "1083987      2022.0  08/01/2022 12:00:00 AM  Marked for Construction   \n",
              "1083986      2022.0  08/02/2022 12:00:00 AM              Constructed   \n",
              "\n",
              "         DOITT_ID  HEIGHTROOF  FEAT_CODE  GROUNDELEV  SHAPE_AREA  SHAPE_LEN  \\\n",
              "1083863   1297470        70.0     2100.0        29.0           0          0   \n",
              "1082441   1296741        70.0     2100.0        30.0           0          0   \n",
              "1083988   1297662        35.0     2100.0        16.0           0          0   \n",
              "1083987   1297660       133.0     5100.0        15.0           0          0   \n",
              "1083986   1297683       120.0     2100.0        28.0           0          0   \n",
              "\n",
              "           BASE_BBL  MPLUTO_BBL  GEOMSOURCE  \n",
              "1083863  3049490035  3049490035  Other (Man  \n",
              "1082441  3049980004  3049980004  Other (Man  \n",
              "1083988  4155690009  4155690009  Other (Man  \n",
              "1083987  4000410010  4000410010  Other (Man  \n",
              "1083986  1016290033  1016290033  Other (Man  "
            ]
          },
          "execution_count": 34,
          "metadata": {},
          "output_type": "execute_result"
        }
      ],
      "source": [
        "# first five rows sorted by the 'CNSTRCT_YR' column in descending order\n",
        "building_df.sort_values('CNSTRCT_YR', ascending=False).head()"
      ]
    },
    {
      "cell_type": "code",
      "execution_count": null,
      "metadata": {
        "id": "hDpj6Q-6mXuQ",
        "outputId": "a0f4d04c-4235-488d-e184-18916445fac7"
      },
      "outputs": [
        {
          "data": {
            "text/html": [
              "<div>\n",
              "<style scoped>\n",
              "    .dataframe tbody tr th:only-of-type {\n",
              "        vertical-align: middle;\n",
              "    }\n",
              "\n",
              "    .dataframe tbody tr th {\n",
              "        vertical-align: top;\n",
              "    }\n",
              "\n",
              "    .dataframe thead th {\n",
              "        text-align: right;\n",
              "    }\n",
              "</style>\n",
              "<table border=\"1\" class=\"dataframe\">\n",
              "  <thead>\n",
              "    <tr style=\"text-align: right;\">\n",
              "      <th></th>\n",
              "      <th>statistic</th>\n",
              "      <th>CNSTRCT_YR</th>\n",
              "    </tr>\n",
              "  </thead>\n",
              "  <tbody>\n",
              "    <tr>\n",
              "      <th>0</th>\n",
              "      <td>count</td>\n",
              "      <td>1.073755e+06</td>\n",
              "    </tr>\n",
              "    <tr>\n",
              "      <th>1</th>\n",
              "      <td>mean</td>\n",
              "      <td>1.939358e+03</td>\n",
              "    </tr>\n",
              "    <tr>\n",
              "      <th>2</th>\n",
              "      <td>std</td>\n",
              "      <td>2.917350e+01</td>\n",
              "    </tr>\n",
              "    <tr>\n",
              "      <th>3</th>\n",
              "      <td>min</td>\n",
              "      <td>1.652000e+03</td>\n",
              "    </tr>\n",
              "    <tr>\n",
              "      <th>4</th>\n",
              "      <td>25%</td>\n",
              "      <td>1.920000e+03</td>\n",
              "    </tr>\n",
              "    <tr>\n",
              "      <th>5</th>\n",
              "      <td>50%</td>\n",
              "      <td>1.930000e+03</td>\n",
              "    </tr>\n",
              "    <tr>\n",
              "      <th>6</th>\n",
              "      <td>75%</td>\n",
              "      <td>1.955000e+03</td>\n",
              "    </tr>\n",
              "    <tr>\n",
              "      <th>7</th>\n",
              "      <td>max</td>\n",
              "      <td>2.022000e+03</td>\n",
              "    </tr>\n",
              "  </tbody>\n",
              "</table>\n",
              "</div>"
            ],
            "text/plain": [
              "  statistic    CNSTRCT_YR\n",
              "0     count  1.073755e+06\n",
              "1      mean  1.939358e+03\n",
              "2       std  2.917350e+01\n",
              "3       min  1.652000e+03\n",
              "4       25%  1.920000e+03\n",
              "5       50%  1.930000e+03\n",
              "6       75%  1.955000e+03\n",
              "7       max  2.022000e+03"
            ]
          },
          "execution_count": 35,
          "metadata": {},
          "output_type": "execute_result"
        }
      ],
      "source": [
        "# Descriptive statistics include those that summarize the central tendency,\n",
        "# dispersion and shape of a dataset's distribution, excluding ``NaN`` values.\n",
        "# reset index for readability.\n",
        "\n",
        "df = building_df['CNSTRCT_YR'].describe().reset_index()\n",
        "df = df.rename(columns={'index': \"statistic\"})\n",
        "\n",
        "df"
      ]
    },
    {
      "cell_type": "code",
      "execution_count": null,
      "metadata": {
        "id": "HYmK0ZIImXuR",
        "outputId": "6837f44a-a993-40c4-fa8e-ec021d94206c"
      },
      "outputs": [
        {
          "data": {
            "text/html": [
              "<div>\n",
              "<style scoped>\n",
              "    .dataframe tbody tr th:only-of-type {\n",
              "        vertical-align: middle;\n",
              "    }\n",
              "\n",
              "    .dataframe tbody tr th {\n",
              "        vertical-align: top;\n",
              "    }\n",
              "\n",
              "    .dataframe thead th {\n",
              "        text-align: right;\n",
              "    }\n",
              "</style>\n",
              "<table border=\"1\" class=\"dataframe\">\n",
              "  <thead>\n",
              "    <tr style=\"text-align: right;\">\n",
              "      <th></th>\n",
              "      <th>CNSTRCT_YR</th>\n",
              "    </tr>\n",
              "  </thead>\n",
              "  <tbody>\n",
              "    <tr>\n",
              "      <th>mode</th>\n",
              "      <td>1920.0</td>\n",
              "    </tr>\n",
              "  </tbody>\n",
              "</table>\n",
              "</div>"
            ],
            "text/plain": [
              "      CNSTRCT_YR\n",
              "mode      1920.0"
            ]
          },
          "execution_count": 36,
          "metadata": {},
          "output_type": "execute_result"
        }
      ],
      "source": [
        "# printing the mode of our 'CNSTRCT_YR' column\n",
        "mode = building_df[['CNSTRCT_YR']].mode()\n",
        "mode = mode.rename({0: \"mode\"})\n",
        "\n",
        "mode"
      ]
    },
    {
      "cell_type": "code",
      "execution_count": null,
      "metadata": {
        "id": "9xXIRSv_mXuR",
        "outputId": "b91a516d-ebba-45cb-b4cf-05ce58caec86"
      },
      "outputs": [
        {
          "data": {
            "text/plain": [
              "True"
            ]
          },
          "execution_count": 37,
          "metadata": {},
          "output_type": "execute_result"
        }
      ],
      "source": [
        "# detecting any nulls in our 'CNSTRCT_YR' column\n",
        "building_df['CNSTRCT_YR'].isnull().values.any()"
      ]
    },
    {
      "cell_type": "code",
      "execution_count": null,
      "metadata": {
        "id": "0s8zyHc6mXuS",
        "outputId": "258497c3-46a4-4745-9977-1475013274c0"
      },
      "outputs": [
        {
          "data": {
            "text/plain": [
              "10802"
            ]
          },
          "execution_count": 38,
          "metadata": {},
          "output_type": "execute_result"
        }
      ],
      "source": [
        "# summing all the null values in our 'CNSTRCT_YR' column\n",
        "building_df['CNSTRCT_YR'].isnull().sum()"
      ]
    },
    {
      "cell_type": "code",
      "execution_count": null,
      "metadata": {
        "id": "y-vWZlGvmXuT",
        "outputId": "c4ef8033-a3da-4037-9f1b-a5ade7a63c45"
      },
      "outputs": [
        {
          "data": {
            "text/plain": [
              "1073755"
            ]
          },
          "execution_count": 39,
          "metadata": {},
          "output_type": "execute_result"
        }
      ],
      "source": [
        "# summing all the not null values in our 'CNSTRCT_YR' column\n",
        "building_df['CNSTRCT_YR'].notnull().sum()"
      ]
    },
    {
      "cell_type": "code",
      "execution_count": null,
      "metadata": {
        "id": "S_Qgd0VimXuT",
        "outputId": "36559f6f-3339-41fe-9e2b-4f6edf0fad0b"
      },
      "outputs": [
        {
          "name": "stdout",
          "output_type": "stream",
          "text": [
            "percent nulls: 1.0%\n"
          ]
        }
      ],
      "source": [
        "# printing the percent total of all the null values in our 'CNSTRCT_YR' column.\n",
        "nulls_sum = building_df['CNSTRCT_YR'].isna().sum()\n",
        "nulls_perc = round(nulls_sum / len(building_df) * 100, 2)\n",
        "\n",
        "print('percent nulls: {}%'.format(nulls_perc))"
      ]
    },
    {
      "cell_type": "code",
      "execution_count": null,
      "metadata": {
        "id": "8Jztl-sWmXub",
        "outputId": "8ea54720-c15f-4263-ea5d-88ce7c4e9ebf"
      },
      "outputs": [
        {
          "name": "stdout",
          "output_type": "stream",
          "text": [
            "percent not nulls: 99.0%\n"
          ]
        }
      ],
      "source": [
        "# printing the percent total of all the not null values in our 'CNSTRCT_YR' column.\n",
        "nonnulls_sum = building_df['CNSTRCT_YR'].notnull().sum()\n",
        "nonnulls_perc = round(nonnulls_sum / len(building_df) * 100, 2)\n",
        "\n",
        "print('percent not nulls: {}%'.format(nonnulls_perc))"
      ]
    },
    {
      "cell_type": "markdown",
      "metadata": {
        "id": "Y20Qzf8KmXuc"
      },
      "source": [
        "## 4.2 Exploring Distribution of Values"
      ]
    },
    {
      "cell_type": "code",
      "execution_count": null,
      "metadata": {
        "id": "lD3Bgcf3mXud",
        "outputId": "be1c01d8-b8e6-4739-abae-78857b22347c"
      },
      "outputs": [
        {
          "data": {
            "image/png": "[encoded data removed]",
            "text/plain": [
              "<Figure size 576x432 with 1 Axes>"
            ]
          },
          "metadata": {
            "needs_background": "light"
          },
          "output_type": "display_data"
        }
      ],
      "source": [
        "# making a histogram of our 'CNSTRCT_YR' column with 25 bins\n",
        "building_df['CNSTRCT_YR'].hist(figsize=(8, 6), bins=25)\n",
        "\n",
        "# adding labels\n",
        "plt.xlabel('Construction Year', fontsize=15)\n",
        "plt.ylabel('Counts', fontsize=15)\n",
        "plt.title('Histogram of Construction Year Values', fontsize=15)\n",
        "\n",
        "plt.tight_layout()"
      ]
    },
    {
      "cell_type": "code",
      "execution_count": null,
      "metadata": {
        "id": "V4MGsmLpmXuf",
        "outputId": "3eec2950-3abd-4dfc-d095-7827b189b0ae"
      },
      "outputs": [
        {
          "data": {
            "image/png": "[encoded data removed]",
            "text/plain": [
              "<Figure size 576x432 with 1 Axes>"
            ]
          },
          "metadata": {
            "needs_background": "light"
          },
          "output_type": "display_data"
        }
      ],
      "source": [
        "# making a histogram of our 'CNSTRCT_YR' column with 50 bins\n",
        "building_df['CNSTRCT_YR'].hist(figsize=(8, 6), bins=50)\n",
        "\n",
        "plt.xlabel('Construction Year', fontsize=15)\n",
        "plt.ylabel('Counts', fontsize=15)\n",
        "plt.title('Histogram of Construction Year Values', fontsize=15)\n",
        "\n",
        "plt.tight_layout()"
      ]
    },
    {
      "cell_type": "code",
      "execution_count": null,
      "metadata": {
        "id": "U12B-iSEmXuh",
        "outputId": "953bbb05-9139-4beb-9ab1-b47101d222b2"
      },
      "outputs": [
        {
          "name": "stdout",
          "output_type": "stream",
          "text": [
            "Skewness: 0.660\n",
            "Kurtosis: 0.668\n"
          ]
        }
      ],
      "source": [
        "# printing skewness and kurtosis\n",
        "print(\"Skewness: {:.3f}\".format(building_df['CNSTRCT_YR'].skew()))\n",
        "print(\"Kurtosis: {:.3f}\".format(building_df['CNSTRCT_YR'].kurt()))"
      ]
    },
    {
      "cell_type": "code",
      "execution_count": null,
      "metadata": {
        "id": "ibhHUBj4mXuh",
        "outputId": "eb840340-3932-4c33-ecc4-1334549cbb46"
      },
      "outputs": [
        {
          "data": {
            "text/plain": [
              "1920.0    130683\n",
              "1930.0    112937\n",
              "1925.0    109362\n",
              "1950.0     62804\n",
              "1910.0     52536\n",
              "           ...  \n",
              "1725.0         1\n",
              "1797.0         1\n",
              "1765.0         1\n",
              "1789.0         1\n",
              "1792.0         1\n",
              "Name: CNSTRCT_YR, Length: 249, dtype: int64"
            ]
          },
          "execution_count": 45,
          "metadata": {},
          "output_type": "execute_result"
        }
      ],
      "source": [
        "# prints the counts of values in our 'CNSTRCT_YR' column in descending order\n",
        "building_df['CNSTRCT_YR'].value_counts()"
      ]
    },
    {
      "cell_type": "code",
      "execution_count": null,
      "metadata": {
        "id": "KOZlzd2dmXui",
        "outputId": "b4746d50-15e6-4275-948b-bd3e3b89bb70"
      },
      "outputs": [
        {
          "data": {
            "text/plain": [
              "1652.0       1\n",
              "1661.0       2\n",
              "1680.0       1\n",
              "1690.0       1\n",
              "1694.0       1\n",
              "          ... \n",
              "2018.0    2140\n",
              "2019.0    1120\n",
              "2020.0    1423\n",
              "2021.0    1270\n",
              "2022.0     435\n",
              "Name: CNSTRCT_YR, Length: 249, dtype: int64"
            ]
          },
          "execution_count": 46,
          "metadata": {},
          "output_type": "execute_result"
        }
      ],
      "source": [
        "# counts of values sorted by the index (in this case, year) ascending order\n",
        "building_df['CNSTRCT_YR'].value_counts().sort_index()"
      ]
    },
    {
      "cell_type": "code",
      "execution_count": null,
      "metadata": {
        "id": "gCGdZQFGmXuj",
        "outputId": "53e8219e-7964-4cf1-f78f-233a924335cf"
      },
      "outputs": [
        {
          "data": {
            "text/plain": [
              "1652.0    1\n",
              "1661.0    2\n",
              "1680.0    1\n",
              "1690.0    1\n",
              "1694.0    1\n",
              "1706.0    2\n",
              "1719.0    1\n",
              "1720.0    1\n",
              "1722.0    1\n",
              "1725.0    1\n",
              "Name: CNSTRCT_YR, dtype: int64"
            ]
          },
          "execution_count": 47,
          "metadata": {},
          "output_type": "execute_result"
        }
      ],
      "source": [
        "# value counts of the first ten rows sorted by the index ascending order\n",
        "building_df['CNSTRCT_YR'].value_counts().sort_index(ascending=True).head(10)"
      ]
    },
    {
      "cell_type": "code",
      "execution_count": null,
      "metadata": {
        "id": "yj_cootamXuk",
        "outputId": "387b2637-3197-4364-9b7c-e91a5bd24772"
      },
      "outputs": [
        {
          "data": {
            "text/plain": [
              "2022.0     435\n",
              "2021.0    1270\n",
              "2020.0    1423\n",
              "2019.0    1120\n",
              "2018.0    2140\n",
              "2017.0    1924\n",
              "2016.0    1805\n",
              "2015.0    1084\n",
              "2014.0     852\n",
              "2013.0     904\n",
              "Name: CNSTRCT_YR, dtype: int64"
            ]
          },
          "execution_count": 48,
          "metadata": {},
          "output_type": "execute_result"
        }
      ],
      "source": [
        "# value counts of the first ten rows sorted by the index descending order\n",
        "building_df['CNSTRCT_YR'].value_counts().sort_index(ascending=False).head(10)"
      ]
    },
    {
      "cell_type": "markdown",
      "metadata": {
        "id": "cRtZ5W4cmXup"
      },
      "source": [
        "## 4.3 Making a Box Plot"
      ]
    },
    {
      "cell_type": "code",
      "execution_count": null,
      "metadata": {
        "id": "gK_oWvkQmXuq",
        "outputId": "94aa89d7-aab4-4426-c21c-5501268c76ea"
      },
      "outputs": [
        {
          "data": {
            "text/html": [
              "<div>\n",
              "<style scoped>\n",
              "    .dataframe tbody tr th:only-of-type {\n",
              "        vertical-align: middle;\n",
              "    }\n",
              "\n",
              "    .dataframe tbody tr th {\n",
              "        vertical-align: top;\n",
              "    }\n",
              "\n",
              "    .dataframe thead th {\n",
              "        text-align: right;\n",
              "    }\n",
              "</style>\n",
              "<table border=\"1\" class=\"dataframe\">\n",
              "  <thead>\n",
              "    <tr style=\"text-align: right;\">\n",
              "      <th></th>\n",
              "      <th>the_geom</th>\n",
              "      <th>NAME</th>\n",
              "      <th>BIN</th>\n",
              "      <th>CNSTRCT_YR</th>\n",
              "      <th>LSTMODDATE</th>\n",
              "      <th>LSTSTATYPE</th>\n",
              "      <th>DOITT_ID</th>\n",
              "      <th>HEIGHTROOF</th>\n",
              "      <th>FEAT_CODE</th>\n",
              "      <th>GROUNDELEV</th>\n",
              "      <th>SHAPE_AREA</th>\n",
              "      <th>SHAPE_LEN</th>\n",
              "      <th>BASE_BBL</th>\n",
              "      <th>MPLUTO_BBL</th>\n",
              "      <th>GEOMSOURCE</th>\n",
              "    </tr>\n",
              "  </thead>\n",
              "  <tbody>\n",
              "    <tr>\n",
              "      <th>0</th>\n",
              "      <td>MULTIPOLYGON (((-73.96664570466969 40.62599676...</td>\n",
              "      <td>NaN</td>\n",
              "      <td>3170958</td>\n",
              "      <td>1925.0</td>\n",
              "      <td>08/22/2017 12:00:00 AM</td>\n",
              "      <td>Constructed</td>\n",
              "      <td>96807</td>\n",
              "      <td>29.749853</td>\n",
              "      <td>2100.0</td>\n",
              "      <td>40.0</td>\n",
              "      <td>0</td>\n",
              "      <td>0</td>\n",
              "      <td>3065220021</td>\n",
              "      <td>3065220021</td>\n",
              "      <td>Photogramm</td>\n",
              "    </tr>\n",
              "    <tr>\n",
              "      <th>1</th>\n",
              "      <td>MULTIPOLYGON (((-74.16790202462265 40.63936048...</td>\n",
              "      <td>NaN</td>\n",
              "      <td>5028452</td>\n",
              "      <td>1965.0</td>\n",
              "      <td>08/22/2017 12:00:00 AM</td>\n",
              "      <td>Constructed</td>\n",
              "      <td>326368</td>\n",
              "      <td>22.630000</td>\n",
              "      <td>2100.0</td>\n",
              "      <td>39.0</td>\n",
              "      <td>0</td>\n",
              "      <td>0</td>\n",
              "      <td>5012640036</td>\n",
              "      <td>5012640036</td>\n",
              "      <td>Photogramm</td>\n",
              "    </tr>\n",
              "    <tr>\n",
              "      <th>2</th>\n",
              "      <td>MULTIPOLYGON (((-74.19510813278613 40.55610681...</td>\n",
              "      <td>NaN</td>\n",
              "      <td>5078368</td>\n",
              "      <td>1970.0</td>\n",
              "      <td>08/22/2017 12:00:00 AM</td>\n",
              "      <td>Constructed</td>\n",
              "      <td>746627</td>\n",
              "      <td>35.760000</td>\n",
              "      <td>2100.0</td>\n",
              "      <td>51.0</td>\n",
              "      <td>0</td>\n",
              "      <td>0</td>\n",
              "      <td>5060190091</td>\n",
              "      <td>5060190091</td>\n",
              "      <td>Photogramm</td>\n",
              "    </tr>\n",
              "    <tr>\n",
              "      <th>3</th>\n",
              "      <td>MULTIPOLYGON (((-73.96113466505085 40.57743931...</td>\n",
              "      <td>NaN</td>\n",
              "      <td>3245111</td>\n",
              "      <td>1928.0</td>\n",
              "      <td>08/22/2017 12:00:00 AM</td>\n",
              "      <td>Constructed</td>\n",
              "      <td>786626</td>\n",
              "      <td>37.500000</td>\n",
              "      <td>2100.0</td>\n",
              "      <td>6.0</td>\n",
              "      <td>0</td>\n",
              "      <td>0</td>\n",
              "      <td>3086910048</td>\n",
              "      <td>3086910048</td>\n",
              "      <td>Photogramm</td>\n",
              "    </tr>\n",
              "    <tr>\n",
              "      <th>4</th>\n",
              "      <td>MULTIPOLYGON (((-73.75421559146166 40.75591276...</td>\n",
              "      <td>NaN</td>\n",
              "      <td>4161096</td>\n",
              "      <td>1950.0</td>\n",
              "      <td>08/22/2017 12:00:00 AM</td>\n",
              "      <td>Constructed</td>\n",
              "      <td>746409</td>\n",
              "      <td>18.015113</td>\n",
              "      <td>2100.0</td>\n",
              "      <td>93.0</td>\n",
              "      <td>0</td>\n",
              "      <td>0</td>\n",
              "      <td>4075020005</td>\n",
              "      <td>4075020005</td>\n",
              "      <td>Photogramm</td>\n",
              "    </tr>\n",
              "  </tbody>\n",
              "</table>\n",
              "</div>"
            ],
            "text/plain": [
              "                                            the_geom NAME      BIN  \\\n",
              "0  MULTIPOLYGON (((-73.96664570466969 40.62599676...  NaN  3170958   \n",
              "1  MULTIPOLYGON (((-74.16790202462265 40.63936048...  NaN  5028452   \n",
              "2  MULTIPOLYGON (((-74.19510813278613 40.55610681...  NaN  5078368   \n",
              "3  MULTIPOLYGON (((-73.96113466505085 40.57743931...  NaN  3245111   \n",
              "4  MULTIPOLYGON (((-73.75421559146166 40.75591276...  NaN  4161096   \n",
              "\n",
              "   CNSTRCT_YR              LSTMODDATE   LSTSTATYPE  DOITT_ID  HEIGHTROOF  \\\n",
              "0      1925.0  08/22/2017 12:00:00 AM  Constructed     96807   29.749853   \n",
              "1      1965.0  08/22/2017 12:00:00 AM  Constructed    326368   22.630000   \n",
              "2      1970.0  08/22/2017 12:00:00 AM  Constructed    746627   35.760000   \n",
              "3      1928.0  08/22/2017 12:00:00 AM  Constructed    786626   37.500000   \n",
              "4      1950.0  08/22/2017 12:00:00 AM  Constructed    746409   18.015113   \n",
              "\n",
              "   FEAT_CODE  GROUNDELEV  SHAPE_AREA  SHAPE_LEN    BASE_BBL  MPLUTO_BBL  \\\n",
              "0     2100.0        40.0           0          0  3065220021  3065220021   \n",
              "1     2100.0        39.0           0          0  5012640036  5012640036   \n",
              "2     2100.0        51.0           0          0  5060190091  5060190091   \n",
              "3     2100.0         6.0           0          0  3086910048  3086910048   \n",
              "4     2100.0        93.0           0          0  4075020005  4075020005   \n",
              "\n",
              "   GEOMSOURCE  \n",
              "0  Photogramm  \n",
              "1  Photogramm  \n",
              "2  Photogramm  \n",
              "3  Photogramm  \n",
              "4  Photogramm  "
            ]
          },
          "execution_count": 49,
          "metadata": {},
          "output_type": "execute_result"
        }
      ],
      "source": [
        "# previewing the first five rows\n",
        "building_df.head()"
      ]
    },
    {
      "cell_type": "code",
      "execution_count": null,
      "metadata": {
        "scrolled": false,
        "id": "hKbSpmcgmXur",
        "outputId": "c903fd3c-beef-430a-e1a3-16e86ce72f41"
      },
      "outputs": [
        {
          "data": {
            "image/png": "[encoded data removed]",
            "text/plain": [
              "<Figure size 576x432 with 1 Axes>"
            ]
          },
          "metadata": {
            "needs_background": "light"
          },
          "output_type": "display_data"
        }
      ],
      "source": [
        "# making a box plot from our 'CNSTRCT_YR' column\n",
        "building_df.boxplot(column=['CNSTRCT_YR'], figsize=(8,6))\n",
        "plt.title('Box Plot of Construction Year Value', fontsize=13)\n",
        "\n",
        "plt.tight_layout()"
      ]
    },
    {
      "cell_type": "markdown",
      "metadata": {
        "id": "TZvS3D2ymXus"
      },
      "source": [
        "## 4.4 Calculating Interquartile Range (IQR)"
      ]
    },
    {
      "cell_type": "code",
      "execution_count": null,
      "metadata": {
        "id": "fyObUYxImXus",
        "outputId": "1981a8c8-5ec0-4594-b329-5a35b8e3d971"
      },
      "outputs": [
        {
          "name": "stdout",
          "output_type": "stream",
          "text": [
            "1920.0\n",
            "1955.0\n"
          ]
        }
      ],
      "source": [
        "# printing the 25% and 75% quantiles of our 'CNSTRCT_YR' column\n",
        "print(building_df['CNSTRCT_YR'].quantile(0.25))\n",
        "print(building_df['CNSTRCT_YR'].quantile(0.75))"
      ]
    },
    {
      "cell_type": "code",
      "execution_count": null,
      "metadata": {
        "id": "O_CP_pL2mXut",
        "outputId": "c274a677-9776-476b-bb7d-932cf3a9df2d"
      },
      "outputs": [
        {
          "data": {
            "text/plain": [
              "35.0"
            ]
          },
          "execution_count": 52,
          "metadata": {},
          "output_type": "execute_result"
        }
      ],
      "source": [
        "# saving the 25% (i.e. Q1) and 75% (i.e. Q3) quantiles of our 'CNSTRCT_YR' column\n",
        "Q1 = building_df['CNSTRCT_YR'].quantile(0.25)\n",
        "Q3 = building_df['CNSTRCT_YR'].quantile(0.75)\n",
        "\n",
        "# Computing the interquartile range (IQR)\n",
        "IQR = Q3 - Q1\n",
        "\n",
        "# printing the IQR of our 'CNSTRCT_YR' column\n",
        "IQR"
      ]
    },
    {
      "cell_type": "code",
      "execution_count": null,
      "metadata": {
        "id": "0S8s-idPmXux",
        "outputId": "abe2e20a-3dd7-4e93-d77f-108c00097240"
      },
      "outputs": [
        {
          "name": "stdout",
          "output_type": "stream",
          "text": [
            "1867.5\n",
            "2007.5\n"
          ]
        }
      ],
      "source": [
        "# printing the lower 1.5*IQR whisker = Q1 - 1.5 * IQR\n",
        "print((Q1 - 1.5 * IQR))\n",
        "\n",
        "# printing the upper 1.5*IQR whisker = Q1 - 1.5 * IQR\n",
        "print((Q3 + 1.5 * IQR))"
      ]
    },
    {
      "cell_type": "markdown",
      "metadata": {
        "id": "LdgWF5iYmXuy"
      },
      "source": [
        "## 4.5 Dropping Null Values for CNSTRCT_YR"
      ]
    },
    {
      "cell_type": "code",
      "execution_count": null,
      "metadata": {
        "id": "gj3YmFoCmXuz",
        "outputId": "bd9eea51-7db7-4617-8814-344aef47ad11"
      },
      "outputs": [
        {
          "data": {
            "text/plain": [
              "1084557"
            ]
          },
          "execution_count": 54,
          "metadata": {},
          "output_type": "execute_result"
        }
      ],
      "source": [
        "# print number of rows\n",
        "len(building_df)"
      ]
    },
    {
      "cell_type": "code",
      "execution_count": null,
      "metadata": {
        "id": "w3KPzX-vmXu0",
        "outputId": "f64f06dd-aa1e-4809-b954-ddcdbf4afd9d"
      },
      "outputs": [
        {
          "data": {
            "text/plain": [
              "1073755"
            ]
          },
          "execution_count": 55,
          "metadata": {},
          "output_type": "execute_result"
        }
      ],
      "source": [
        "# drop nan in 'CNSTRCT_YR' and then print number of rows\n",
        "len(building_df.dropna(subset=['CNSTRCT_YR']))"
      ]
    },
    {
      "cell_type": "code",
      "execution_count": null,
      "metadata": {
        "id": "GtdJEc86mXu7",
        "outputId": "d2be02e2-a2ed-4bc8-c6c8-ba34ae2894e3"
      },
      "outputs": [
        {
          "data": {
            "text/plain": [
              "10802"
            ]
          },
          "execution_count": 56,
          "metadata": {},
          "output_type": "execute_result"
        }
      ],
      "source": [
        "# print number of dropped records where 'CNSTRCT_YR' is nan\n",
        "building_df['CNSTRCT_YR'].isnull().sum()"
      ]
    },
    {
      "cell_type": "code",
      "execution_count": null,
      "metadata": {
        "scrolled": true,
        "id": "moooyrOkmXu8",
        "outputId": "7f855bb9-f482-4266-c976-ffbdbc2f0d3d"
      },
      "outputs": [
        {
          "name": "stdout",
          "output_type": "stream",
          "text": [
            "1073755\n"
          ]
        }
      ],
      "source": [
        "# dropping all records where 'CNSTRCT_YR' as nan\n",
        "building_df_dropna = building_df.dropna(subset=['CNSTRCT_YR'])\n",
        "\n",
        "# printing number of records\n",
        "print(len(building_df_dropna))"
      ]
    },
    {
      "cell_type": "code",
      "execution_count": null,
      "metadata": {
        "id": "-5z7E2YYmXu-",
        "outputId": "4e3f37b4-780d-4ab3-b4ed-a3bcd3775510"
      },
      "outputs": [
        {
          "name": "stdout",
          "output_type": "stream",
          "text": [
            "number of nulls for CNSTRCT_YR after dropping nulls: 0\n"
          ]
        }
      ],
      "source": [
        "counts = building_df_dropna['CNSTRCT_YR'].isnull().sum()\n",
        "\n",
        "print('number of nulls for CNSTRCT_YR after dropping nulls: {}'.format(counts))"
      ]
    },
    {
      "cell_type": "code",
      "execution_count": null,
      "metadata": {
        "id": "jq-SVi0TmXu_",
        "outputId": "50349bfc-7dfb-434e-86f1-4059e0a0f4b4"
      },
      "outputs": [
        {
          "data": {
            "text/html": [
              "<div>\n",
              "<style scoped>\n",
              "    .dataframe tbody tr th:only-of-type {\n",
              "        vertical-align: middle;\n",
              "    }\n",
              "\n",
              "    .dataframe tbody tr th {\n",
              "        vertical-align: top;\n",
              "    }\n",
              "\n",
              "    .dataframe thead th {\n",
              "        text-align: right;\n",
              "    }\n",
              "</style>\n",
              "<table border=\"1\" class=\"dataframe\">\n",
              "  <thead>\n",
              "    <tr style=\"text-align: right;\">\n",
              "      <th></th>\n",
              "      <th>the_geom</th>\n",
              "      <th>NAME</th>\n",
              "      <th>BIN</th>\n",
              "      <th>CNSTRCT_YR</th>\n",
              "      <th>LSTMODDATE</th>\n",
              "      <th>LSTSTATYPE</th>\n",
              "      <th>DOITT_ID</th>\n",
              "      <th>HEIGHTROOF</th>\n",
              "      <th>FEAT_CODE</th>\n",
              "      <th>GROUNDELEV</th>\n",
              "      <th>SHAPE_AREA</th>\n",
              "      <th>SHAPE_LEN</th>\n",
              "      <th>BASE_BBL</th>\n",
              "      <th>MPLUTO_BBL</th>\n",
              "      <th>GEOMSOURCE</th>\n",
              "    </tr>\n",
              "  </thead>\n",
              "  <tbody>\n",
              "    <tr>\n",
              "      <th>0</th>\n",
              "      <td>MULTIPOLYGON (((-73.96664570466969 40.62599676...</td>\n",
              "      <td>NaN</td>\n",
              "      <td>3170958</td>\n",
              "      <td>1925.0</td>\n",
              "      <td>08/22/2017 12:00:00 AM</td>\n",
              "      <td>Constructed</td>\n",
              "      <td>96807</td>\n",
              "      <td>29.749853</td>\n",
              "      <td>2100.0</td>\n",
              "      <td>40.0</td>\n",
              "      <td>0</td>\n",
              "      <td>0</td>\n",
              "      <td>3065220021</td>\n",
              "      <td>3065220021</td>\n",
              "      <td>Photogramm</td>\n",
              "    </tr>\n",
              "    <tr>\n",
              "      <th>1</th>\n",
              "      <td>MULTIPOLYGON (((-74.16790202462265 40.63936048...</td>\n",
              "      <td>NaN</td>\n",
              "      <td>5028452</td>\n",
              "      <td>1965.0</td>\n",
              "      <td>08/22/2017 12:00:00 AM</td>\n",
              "      <td>Constructed</td>\n",
              "      <td>326368</td>\n",
              "      <td>22.630000</td>\n",
              "      <td>2100.0</td>\n",
              "      <td>39.0</td>\n",
              "      <td>0</td>\n",
              "      <td>0</td>\n",
              "      <td>5012640036</td>\n",
              "      <td>5012640036</td>\n",
              "      <td>Photogramm</td>\n",
              "    </tr>\n",
              "    <tr>\n",
              "      <th>2</th>\n",
              "      <td>MULTIPOLYGON (((-74.19510813278613 40.55610681...</td>\n",
              "      <td>NaN</td>\n",
              "      <td>5078368</td>\n",
              "      <td>1970.0</td>\n",
              "      <td>08/22/2017 12:00:00 AM</td>\n",
              "      <td>Constructed</td>\n",
              "      <td>746627</td>\n",
              "      <td>35.760000</td>\n",
              "      <td>2100.0</td>\n",
              "      <td>51.0</td>\n",
              "      <td>0</td>\n",
              "      <td>0</td>\n",
              "      <td>5060190091</td>\n",
              "      <td>5060190091</td>\n",
              "      <td>Photogramm</td>\n",
              "    </tr>\n",
              "    <tr>\n",
              "      <th>3</th>\n",
              "      <td>MULTIPOLYGON (((-73.96113466505085 40.57743931...</td>\n",
              "      <td>NaN</td>\n",
              "      <td>3245111</td>\n",
              "      <td>1928.0</td>\n",
              "      <td>08/22/2017 12:00:00 AM</td>\n",
              "      <td>Constructed</td>\n",
              "      <td>786626</td>\n",
              "      <td>37.500000</td>\n",
              "      <td>2100.0</td>\n",
              "      <td>6.0</td>\n",
              "      <td>0</td>\n",
              "      <td>0</td>\n",
              "      <td>3086910048</td>\n",
              "      <td>3086910048</td>\n",
              "      <td>Photogramm</td>\n",
              "    </tr>\n",
              "    <tr>\n",
              "      <th>4</th>\n",
              "      <td>MULTIPOLYGON (((-73.75421559146166 40.75591276...</td>\n",
              "      <td>NaN</td>\n",
              "      <td>4161096</td>\n",
              "      <td>1950.0</td>\n",
              "      <td>08/22/2017 12:00:00 AM</td>\n",
              "      <td>Constructed</td>\n",
              "      <td>746409</td>\n",
              "      <td>18.015113</td>\n",
              "      <td>2100.0</td>\n",
              "      <td>93.0</td>\n",
              "      <td>0</td>\n",
              "      <td>0</td>\n",
              "      <td>4075020005</td>\n",
              "      <td>4075020005</td>\n",
              "      <td>Photogramm</td>\n",
              "    </tr>\n",
              "  </tbody>\n",
              "</table>\n",
              "</div>"
            ],
            "text/plain": [
              "                                            the_geom NAME      BIN  \\\n",
              "0  MULTIPOLYGON (((-73.96664570466969 40.62599676...  NaN  3170958   \n",
              "1  MULTIPOLYGON (((-74.16790202462265 40.63936048...  NaN  5028452   \n",
              "2  MULTIPOLYGON (((-74.19510813278613 40.55610681...  NaN  5078368   \n",
              "3  MULTIPOLYGON (((-73.96113466505085 40.57743931...  NaN  3245111   \n",
              "4  MULTIPOLYGON (((-73.75421559146166 40.75591276...  NaN  4161096   \n",
              "\n",
              "   CNSTRCT_YR              LSTMODDATE   LSTSTATYPE  DOITT_ID  HEIGHTROOF  \\\n",
              "0      1925.0  08/22/2017 12:00:00 AM  Constructed     96807   29.749853   \n",
              "1      1965.0  08/22/2017 12:00:00 AM  Constructed    326368   22.630000   \n",
              "2      1970.0  08/22/2017 12:00:00 AM  Constructed    746627   35.760000   \n",
              "3      1928.0  08/22/2017 12:00:00 AM  Constructed    786626   37.500000   \n",
              "4      1950.0  08/22/2017 12:00:00 AM  Constructed    746409   18.015113   \n",
              "\n",
              "   FEAT_CODE  GROUNDELEV  SHAPE_AREA  SHAPE_LEN    BASE_BBL  MPLUTO_BBL  \\\n",
              "0     2100.0        40.0           0          0  3065220021  3065220021   \n",
              "1     2100.0        39.0           0          0  5012640036  5012640036   \n",
              "2     2100.0        51.0           0          0  5060190091  5060190091   \n",
              "3     2100.0         6.0           0          0  3086910048  3086910048   \n",
              "4     2100.0        93.0           0          0  4075020005  4075020005   \n",
              "\n",
              "   GEOMSOURCE  \n",
              "0  Photogramm  \n",
              "1  Photogramm  \n",
              "2  Photogramm  \n",
              "3  Photogramm  \n",
              "4  Photogramm  "
            ]
          },
          "execution_count": 59,
          "metadata": {},
          "output_type": "execute_result"
        }
      ],
      "source": [
        "# preview first five rows\n",
        "building_df_dropna.head()"
      ]
    },
    {
      "cell_type": "code",
      "execution_count": null,
      "metadata": {
        "id": "SKesWo7gmXu_",
        "outputId": "6d7bedef-0d23-4d7f-a75e-4f1859a1bfd2"
      },
      "outputs": [
        {
          "data": {
            "image/png": "[encoded data removed]",
            "text/plain": [
              "<Figure size 576x432 with 1 Axes>"
            ]
          },
          "metadata": {
            "needs_background": "light"
          },
          "output_type": "display_data"
        }
      ],
      "source": [
        "# making a histogram of our 'CNSTRCT_YR' column with 10 bins\n",
        "building_df_dropna['CNSTRCT_YR'].hist(bins=10, figsize=(8, 6))\n",
        "\n",
        "plt.xlabel('Construction Year', fontsize=10)\n",
        "plt.ylabel('Counts', fontsize=10)\n",
        "plt.title('Histogram of Construction Year Values Excluding Nulls', fontsize=10)\n",
        "\n",
        "plt.tight_layout()"
      ]
    },
    {
      "cell_type": "markdown",
      "metadata": {
        "id": "3pTW_s91mXvA"
      },
      "source": [
        "## 4.6 Filling In Null/NA Values With Median for CNSTRCT_YR"
      ]
    },
    {
      "cell_type": "code",
      "execution_count": null,
      "metadata": {
        "id": "YPENhR6omXvA",
        "outputId": "83bee527-9356-479a-96cc-7aa5989409b2"
      },
      "outputs": [
        {
          "data": {
            "text/html": [
              "<div>\n",
              "<style scoped>\n",
              "    .dataframe tbody tr th:only-of-type {\n",
              "        vertical-align: middle;\n",
              "    }\n",
              "\n",
              "    .dataframe tbody tr th {\n",
              "        vertical-align: top;\n",
              "    }\n",
              "\n",
              "    .dataframe thead th {\n",
              "        text-align: right;\n",
              "    }\n",
              "</style>\n",
              "<table border=\"1\" class=\"dataframe\">\n",
              "  <thead>\n",
              "    <tr style=\"text-align: right;\">\n",
              "      <th></th>\n",
              "      <th>the_geom</th>\n",
              "      <th>NAME</th>\n",
              "      <th>BIN</th>\n",
              "      <th>CNSTRCT_YR</th>\n",
              "      <th>LSTMODDATE</th>\n",
              "      <th>LSTSTATYPE</th>\n",
              "      <th>DOITT_ID</th>\n",
              "      <th>HEIGHTROOF</th>\n",
              "      <th>FEAT_CODE</th>\n",
              "      <th>GROUNDELEV</th>\n",
              "      <th>SHAPE_AREA</th>\n",
              "      <th>SHAPE_LEN</th>\n",
              "      <th>BASE_BBL</th>\n",
              "      <th>MPLUTO_BBL</th>\n",
              "      <th>GEOMSOURCE</th>\n",
              "    </tr>\n",
              "  </thead>\n",
              "  <tbody>\n",
              "    <tr>\n",
              "      <th>0</th>\n",
              "      <td>MULTIPOLYGON (((-73.96664570466969 40.62599676...</td>\n",
              "      <td>NaN</td>\n",
              "      <td>3170958</td>\n",
              "      <td>1925.0</td>\n",
              "      <td>08/22/2017 12:00:00 AM</td>\n",
              "      <td>Constructed</td>\n",
              "      <td>96807</td>\n",
              "      <td>29.749853</td>\n",
              "      <td>2100.0</td>\n",
              "      <td>40.0</td>\n",
              "      <td>0</td>\n",
              "      <td>0</td>\n",
              "      <td>3065220021</td>\n",
              "      <td>3065220021</td>\n",
              "      <td>Photogramm</td>\n",
              "    </tr>\n",
              "    <tr>\n",
              "      <th>1</th>\n",
              "      <td>MULTIPOLYGON (((-74.16790202462265 40.63936048...</td>\n",
              "      <td>NaN</td>\n",
              "      <td>5028452</td>\n",
              "      <td>1965.0</td>\n",
              "      <td>08/22/2017 12:00:00 AM</td>\n",
              "      <td>Constructed</td>\n",
              "      <td>326368</td>\n",
              "      <td>22.630000</td>\n",
              "      <td>2100.0</td>\n",
              "      <td>39.0</td>\n",
              "      <td>0</td>\n",
              "      <td>0</td>\n",
              "      <td>5012640036</td>\n",
              "      <td>5012640036</td>\n",
              "      <td>Photogramm</td>\n",
              "    </tr>\n",
              "    <tr>\n",
              "      <th>2</th>\n",
              "      <td>MULTIPOLYGON (((-74.19510813278613 40.55610681...</td>\n",
              "      <td>NaN</td>\n",
              "      <td>5078368</td>\n",
              "      <td>1970.0</td>\n",
              "      <td>08/22/2017 12:00:00 AM</td>\n",
              "      <td>Constructed</td>\n",
              "      <td>746627</td>\n",
              "      <td>35.760000</td>\n",
              "      <td>2100.0</td>\n",
              "      <td>51.0</td>\n",
              "      <td>0</td>\n",
              "      <td>0</td>\n",
              "      <td>5060190091</td>\n",
              "      <td>5060190091</td>\n",
              "      <td>Photogramm</td>\n",
              "    </tr>\n",
              "    <tr>\n",
              "      <th>3</th>\n",
              "      <td>MULTIPOLYGON (((-73.96113466505085 40.57743931...</td>\n",
              "      <td>NaN</td>\n",
              "      <td>3245111</td>\n",
              "      <td>1928.0</td>\n",
              "      <td>08/22/2017 12:00:00 AM</td>\n",
              "      <td>Constructed</td>\n",
              "      <td>786626</td>\n",
              "      <td>37.500000</td>\n",
              "      <td>2100.0</td>\n",
              "      <td>6.0</td>\n",
              "      <td>0</td>\n",
              "      <td>0</td>\n",
              "      <td>3086910048</td>\n",
              "      <td>3086910048</td>\n",
              "      <td>Photogramm</td>\n",
              "    </tr>\n",
              "    <tr>\n",
              "      <th>4</th>\n",
              "      <td>MULTIPOLYGON (((-73.75421559146166 40.75591276...</td>\n",
              "      <td>NaN</td>\n",
              "      <td>4161096</td>\n",
              "      <td>1950.0</td>\n",
              "      <td>08/22/2017 12:00:00 AM</td>\n",
              "      <td>Constructed</td>\n",
              "      <td>746409</td>\n",
              "      <td>18.015113</td>\n",
              "      <td>2100.0</td>\n",
              "      <td>93.0</td>\n",
              "      <td>0</td>\n",
              "      <td>0</td>\n",
              "      <td>4075020005</td>\n",
              "      <td>4075020005</td>\n",
              "      <td>Photogramm</td>\n",
              "    </tr>\n",
              "  </tbody>\n",
              "</table>\n",
              "</div>"
            ],
            "text/plain": [
              "                                            the_geom NAME      BIN  \\\n",
              "0  MULTIPOLYGON (((-73.96664570466969 40.62599676...  NaN  3170958   \n",
              "1  MULTIPOLYGON (((-74.16790202462265 40.63936048...  NaN  5028452   \n",
              "2  MULTIPOLYGON (((-74.19510813278613 40.55610681...  NaN  5078368   \n",
              "3  MULTIPOLYGON (((-73.96113466505085 40.57743931...  NaN  3245111   \n",
              "4  MULTIPOLYGON (((-73.75421559146166 40.75591276...  NaN  4161096   \n",
              "\n",
              "   CNSTRCT_YR              LSTMODDATE   LSTSTATYPE  DOITT_ID  HEIGHTROOF  \\\n",
              "0      1925.0  08/22/2017 12:00:00 AM  Constructed     96807   29.749853   \n",
              "1      1965.0  08/22/2017 12:00:00 AM  Constructed    326368   22.630000   \n",
              "2      1970.0  08/22/2017 12:00:00 AM  Constructed    746627   35.760000   \n",
              "3      1928.0  08/22/2017 12:00:00 AM  Constructed    786626   37.500000   \n",
              "4      1950.0  08/22/2017 12:00:00 AM  Constructed    746409   18.015113   \n",
              "\n",
              "   FEAT_CODE  GROUNDELEV  SHAPE_AREA  SHAPE_LEN    BASE_BBL  MPLUTO_BBL  \\\n",
              "0     2100.0        40.0           0          0  3065220021  3065220021   \n",
              "1     2100.0        39.0           0          0  5012640036  5012640036   \n",
              "2     2100.0        51.0           0          0  5060190091  5060190091   \n",
              "3     2100.0         6.0           0          0  3086910048  3086910048   \n",
              "4     2100.0        93.0           0          0  4075020005  4075020005   \n",
              "\n",
              "   GEOMSOURCE  \n",
              "0  Photogramm  \n",
              "1  Photogramm  \n",
              "2  Photogramm  \n",
              "3  Photogramm  \n",
              "4  Photogramm  "
            ]
          },
          "execution_count": 61,
          "metadata": {},
          "output_type": "execute_result"
        }
      ],
      "source": [
        "# preview first five rows\n",
        "building_df.head()"
      ]
    },
    {
      "cell_type": "code",
      "execution_count": null,
      "metadata": {
        "id": "Cl4NMKLAmXvB",
        "outputId": "89a6f0ae-a48a-4d09-ad85-5e8b46ad09d9"
      },
      "outputs": [
        {
          "name": "stdout",
          "output_type": "stream",
          "text": [
            "number of nulls for CNSTRCT_YR: 10,802\n"
          ]
        }
      ],
      "source": [
        "# saving a new dataframe to fill nans with the median value of 'CNSTRCT_YR'\n",
        "building_df_fillna = building_df.copy()\n",
        "\n",
        "counts = building_df_fillna['CNSTRCT_YR'].isnull().sum()\n",
        "print('number of nulls for CNSTRCT_YR: {:,}'.format(counts))"
      ]
    },
    {
      "cell_type": "code",
      "execution_count": null,
      "metadata": {
        "id": "TQ7-OMxamXvC",
        "outputId": "cb928209-081f-4124-f1b2-6c8f7c7b4cc0"
      },
      "outputs": [
        {
          "name": "stdout",
          "output_type": "stream",
          "text": [
            "median value of CNSTRCT_YR: 1930.0\n"
          ]
        }
      ],
      "source": [
        "median = building_df_fillna['CNSTRCT_YR'].median()\n",
        "\n",
        "print('median value of CNSTRCT_YR: {}'.format(median))"
      ]
    },
    {
      "cell_type": "code",
      "execution_count": null,
      "metadata": {
        "id": "1II6tP_4mXvC",
        "outputId": "ac55490e-dc3b-46fc-8378-c591a08d167e"
      },
      "outputs": [
        {
          "data": {
            "text/html": [
              "<div>\n",
              "<style scoped>\n",
              "    .dataframe tbody tr th:only-of-type {\n",
              "        vertical-align: middle;\n",
              "    }\n",
              "\n",
              "    .dataframe tbody tr th {\n",
              "        vertical-align: top;\n",
              "    }\n",
              "\n",
              "    .dataframe thead th {\n",
              "        text-align: right;\n",
              "    }\n",
              "</style>\n",
              "<table border=\"1\" class=\"dataframe\">\n",
              "  <thead>\n",
              "    <tr style=\"text-align: right;\">\n",
              "      <th></th>\n",
              "      <th>the_geom</th>\n",
              "      <th>NAME</th>\n",
              "      <th>BIN</th>\n",
              "      <th>CNSTRCT_YR</th>\n",
              "      <th>LSTMODDATE</th>\n",
              "      <th>LSTSTATYPE</th>\n",
              "      <th>DOITT_ID</th>\n",
              "      <th>HEIGHTROOF</th>\n",
              "      <th>FEAT_CODE</th>\n",
              "      <th>GROUNDELEV</th>\n",
              "      <th>SHAPE_AREA</th>\n",
              "      <th>SHAPE_LEN</th>\n",
              "      <th>BASE_BBL</th>\n",
              "      <th>MPLUTO_BBL</th>\n",
              "      <th>GEOMSOURCE</th>\n",
              "    </tr>\n",
              "  </thead>\n",
              "  <tbody>\n",
              "    <tr>\n",
              "      <th>0</th>\n",
              "      <td>MULTIPOLYGON (((-73.96664570466969 40.62599676...</td>\n",
              "      <td>NaN</td>\n",
              "      <td>3170958</td>\n",
              "      <td>1925.0</td>\n",
              "      <td>08/22/2017 12:00:00 AM</td>\n",
              "      <td>Constructed</td>\n",
              "      <td>96807</td>\n",
              "      <td>29.749853</td>\n",
              "      <td>2100.0</td>\n",
              "      <td>40.0</td>\n",
              "      <td>0</td>\n",
              "      <td>0</td>\n",
              "      <td>3065220021</td>\n",
              "      <td>3065220021</td>\n",
              "      <td>Photogramm</td>\n",
              "    </tr>\n",
              "    <tr>\n",
              "      <th>1</th>\n",
              "      <td>MULTIPOLYGON (((-74.16790202462265 40.63936048...</td>\n",
              "      <td>NaN</td>\n",
              "      <td>5028452</td>\n",
              "      <td>1965.0</td>\n",
              "      <td>08/22/2017 12:00:00 AM</td>\n",
              "      <td>Constructed</td>\n",
              "      <td>326368</td>\n",
              "      <td>22.630000</td>\n",
              "      <td>2100.0</td>\n",
              "      <td>39.0</td>\n",
              "      <td>0</td>\n",
              "      <td>0</td>\n",
              "      <td>5012640036</td>\n",
              "      <td>5012640036</td>\n",
              "      <td>Photogramm</td>\n",
              "    </tr>\n",
              "    <tr>\n",
              "      <th>2</th>\n",
              "      <td>MULTIPOLYGON (((-74.19510813278613 40.55610681...</td>\n",
              "      <td>NaN</td>\n",
              "      <td>5078368</td>\n",
              "      <td>1970.0</td>\n",
              "      <td>08/22/2017 12:00:00 AM</td>\n",
              "      <td>Constructed</td>\n",
              "      <td>746627</td>\n",
              "      <td>35.760000</td>\n",
              "      <td>2100.0</td>\n",
              "      <td>51.0</td>\n",
              "      <td>0</td>\n",
              "      <td>0</td>\n",
              "      <td>5060190091</td>\n",
              "      <td>5060190091</td>\n",
              "      <td>Photogramm</td>\n",
              "    </tr>\n",
              "    <tr>\n",
              "      <th>3</th>\n",
              "      <td>MULTIPOLYGON (((-73.96113466505085 40.57743931...</td>\n",
              "      <td>NaN</td>\n",
              "      <td>3245111</td>\n",
              "      <td>1928.0</td>\n",
              "      <td>08/22/2017 12:00:00 AM</td>\n",
              "      <td>Constructed</td>\n",
              "      <td>786626</td>\n",
              "      <td>37.500000</td>\n",
              "      <td>2100.0</td>\n",
              "      <td>6.0</td>\n",
              "      <td>0</td>\n",
              "      <td>0</td>\n",
              "      <td>3086910048</td>\n",
              "      <td>3086910048</td>\n",
              "      <td>Photogramm</td>\n",
              "    </tr>\n",
              "    <tr>\n",
              "      <th>4</th>\n",
              "      <td>MULTIPOLYGON (((-73.75421559146166 40.75591276...</td>\n",
              "      <td>NaN</td>\n",
              "      <td>4161096</td>\n",
              "      <td>1950.0</td>\n",
              "      <td>08/22/2017 12:00:00 AM</td>\n",
              "      <td>Constructed</td>\n",
              "      <td>746409</td>\n",
              "      <td>18.015113</td>\n",
              "      <td>2100.0</td>\n",
              "      <td>93.0</td>\n",
              "      <td>0</td>\n",
              "      <td>0</td>\n",
              "      <td>4075020005</td>\n",
              "      <td>4075020005</td>\n",
              "      <td>Photogramm</td>\n",
              "    </tr>\n",
              "  </tbody>\n",
              "</table>\n",
              "</div>"
            ],
            "text/plain": [
              "                                            the_geom NAME      BIN  \\\n",
              "0  MULTIPOLYGON (((-73.96664570466969 40.62599676...  NaN  3170958   \n",
              "1  MULTIPOLYGON (((-74.16790202462265 40.63936048...  NaN  5028452   \n",
              "2  MULTIPOLYGON (((-74.19510813278613 40.55610681...  NaN  5078368   \n",
              "3  MULTIPOLYGON (((-73.96113466505085 40.57743931...  NaN  3245111   \n",
              "4  MULTIPOLYGON (((-73.75421559146166 40.75591276...  NaN  4161096   \n",
              "\n",
              "   CNSTRCT_YR              LSTMODDATE   LSTSTATYPE  DOITT_ID  HEIGHTROOF  \\\n",
              "0      1925.0  08/22/2017 12:00:00 AM  Constructed     96807   29.749853   \n",
              "1      1965.0  08/22/2017 12:00:00 AM  Constructed    326368   22.630000   \n",
              "2      1970.0  08/22/2017 12:00:00 AM  Constructed    746627   35.760000   \n",
              "3      1928.0  08/22/2017 12:00:00 AM  Constructed    786626   37.500000   \n",
              "4      1950.0  08/22/2017 12:00:00 AM  Constructed    746409   18.015113   \n",
              "\n",
              "   FEAT_CODE  GROUNDELEV  SHAPE_AREA  SHAPE_LEN    BASE_BBL  MPLUTO_BBL  \\\n",
              "0     2100.0        40.0           0          0  3065220021  3065220021   \n",
              "1     2100.0        39.0           0          0  5012640036  5012640036   \n",
              "2     2100.0        51.0           0          0  5060190091  5060190091   \n",
              "3     2100.0         6.0           0          0  3086910048  3086910048   \n",
              "4     2100.0        93.0           0          0  4075020005  4075020005   \n",
              "\n",
              "   GEOMSOURCE  \n",
              "0  Photogramm  \n",
              "1  Photogramm  \n",
              "2  Photogramm  \n",
              "3  Photogramm  \n",
              "4  Photogramm  "
            ]
          },
          "execution_count": 64,
          "metadata": {},
          "output_type": "execute_result"
        }
      ],
      "source": [
        "# saving the median of our 'CNSTRCT_YR' as the name 'median'\n",
        "median = building_df_fillna['CNSTRCT_YR'].median()\n",
        "\n",
        "# filling na values in our'CNSTRCT_YR' column with the column's median value\n",
        "building_df_fillna[\"CNSTRCT_YR\"] = building_df_fillna[\"CNSTRCT_YR\"].fillna(value=median)\n",
        "building_df_fillna.head()"
      ]
    },
    {
      "cell_type": "code",
      "execution_count": null,
      "metadata": {
        "id": "-q49yR5ImXvD",
        "outputId": "08354a78-afd3-4dae-cbf6-8e639a771ab7"
      },
      "outputs": [
        {
          "name": "stdout",
          "output_type": "stream",
          "text": [
            "number of nulls for CNSTRCT_YR: 0\n"
          ]
        }
      ],
      "source": [
        "counts = building_df_fillna['CNSTRCT_YR'].isnull().sum()\n",
        "print('number of nulls for CNSTRCT_YR: {:,}'.format(counts))"
      ]
    },
    {
      "cell_type": "markdown",
      "metadata": {
        "id": "zjorJSQsmXvE"
      },
      "source": [
        "# 5. Analysis"
      ]
    },
    {
      "cell_type": "markdown",
      "metadata": {
        "id": "0GqCLLgbmXvF"
      },
      "source": [
        "## 5.1 Timeseries of Year Built"
      ]
    },
    {
      "cell_type": "code",
      "execution_count": null,
      "metadata": {
        "id": "7skbKD4ImXvI",
        "outputId": "bf65e1b7-7de7-4c53-bd2f-49e2aa07fe4a"
      },
      "outputs": [
        {
          "data": {
            "text/html": [
              "<div>\n",
              "<style scoped>\n",
              "    .dataframe tbody tr th:only-of-type {\n",
              "        vertical-align: middle;\n",
              "    }\n",
              "\n",
              "    .dataframe tbody tr th {\n",
              "        vertical-align: top;\n",
              "    }\n",
              "\n",
              "    .dataframe thead th {\n",
              "        text-align: right;\n",
              "    }\n",
              "</style>\n",
              "<table border=\"1\" class=\"dataframe\">\n",
              "  <thead>\n",
              "    <tr style=\"text-align: right;\">\n",
              "      <th></th>\n",
              "      <th>count</th>\n",
              "    </tr>\n",
              "    <tr>\n",
              "      <th>CNSTRCT_YR</th>\n",
              "      <th></th>\n",
              "    </tr>\n",
              "  </thead>\n",
              "  <tbody>\n",
              "    <tr>\n",
              "      <th>1652</th>\n",
              "      <td>1</td>\n",
              "    </tr>\n",
              "    <tr>\n",
              "      <th>1661</th>\n",
              "      <td>2</td>\n",
              "    </tr>\n",
              "    <tr>\n",
              "      <th>1680</th>\n",
              "      <td>1</td>\n",
              "    </tr>\n",
              "    <tr>\n",
              "      <th>1690</th>\n",
              "      <td>1</td>\n",
              "    </tr>\n",
              "    <tr>\n",
              "      <th>1694</th>\n",
              "      <td>1</td>\n",
              "    </tr>\n",
              "  </tbody>\n",
              "</table>\n",
              "</div>"
            ],
            "text/plain": [
              "            count\n",
              "CNSTRCT_YR       \n",
              "1652            1\n",
              "1661            2\n",
              "1680            1\n",
              "1690            1\n",
              "1694            1"
            ]
          },
          "execution_count": 66,
          "metadata": {},
          "output_type": "execute_result"
        }
      ],
      "source": [
        "# returning number of buildings by year as 'g'\n",
        "g = building_df_dropna.groupby('CNSTRCT_YR')['DOITT_ID'].count().reset_index()\n",
        "g = g.rename({'DOITT_ID': 'count'}, axis=1)\n",
        "\n",
        "g = g.set_index('CNSTRCT_YR', drop=True)\n",
        "g.index = g.index.astype('int64')\n",
        "\n",
        "g.head()"
      ]
    },
    {
      "cell_type": "code",
      "execution_count": null,
      "metadata": {
        "id": "qGXzGPbamXvJ",
        "outputId": "34d07f71-f24d-40e4-d5d0-e4df118697f5"
      },
      "outputs": [
        {
          "data": {
            "image/png": "[encoded data removed]",
            "text/plain": [
              "<Figure size 576x432 with 1 Axes>"
            ]
          },
          "metadata": {
            "needs_background": "light"
          },
          "output_type": "display_data"
        }
      ],
      "source": [
        "fig, ax = plt.subplots(figsize=(8,6))\n",
        "\n",
        "# plotting line chart of number of buildings by 'CNSTRCT_YR'\n",
        "ax.plot(g['count'], linewidth=2)\n",
        "\n",
        "# formatting Y axis with comma\n",
        "ax.get_yaxis().set_major_formatter(\n",
        "    matplotlib.ticker.FuncFormatter(lambda x, p: format(int(x), ',')))\n",
        "\n",
        "plt.xlabel('Construction Year', fontsize=12)\n",
        "plt.ylabel('Number of Buildings', fontsize=12)\n",
        "plt.title('Number of Buildings by Construction Year in NYC', fontsize=12)\n",
        "\n",
        "plt.tight_layout()"
      ]
    },
    {
      "cell_type": "code",
      "execution_count": null,
      "metadata": {
        "id": "l2zHGQmWmXvK",
        "outputId": "48fb9070-f847-4108-e596-37b4246e082b"
      },
      "outputs": [
        {
          "data": {
            "text/html": [
              "<div>\n",
              "<style scoped>\n",
              "    .dataframe tbody tr th:only-of-type {\n",
              "        vertical-align: middle;\n",
              "    }\n",
              "\n",
              "    .dataframe tbody tr th {\n",
              "        vertical-align: top;\n",
              "    }\n",
              "\n",
              "    .dataframe thead th {\n",
              "        text-align: right;\n",
              "    }\n",
              "</style>\n",
              "<table border=\"1\" class=\"dataframe\">\n",
              "  <thead>\n",
              "    <tr style=\"text-align: right;\">\n",
              "      <th></th>\n",
              "      <th>count</th>\n",
              "    </tr>\n",
              "    <tr>\n",
              "      <th>CNSTRCT_YR</th>\n",
              "      <th></th>\n",
              "    </tr>\n",
              "  </thead>\n",
              "  <tbody>\n",
              "    <tr>\n",
              "      <th>1900</th>\n",
              "      <td>7625</td>\n",
              "    </tr>\n",
              "    <tr>\n",
              "      <th>1901</th>\n",
              "      <td>26574</td>\n",
              "    </tr>\n",
              "    <tr>\n",
              "      <th>1902</th>\n",
              "      <td>502</td>\n",
              "    </tr>\n",
              "    <tr>\n",
              "      <th>1903</th>\n",
              "      <td>529</td>\n",
              "    </tr>\n",
              "    <tr>\n",
              "      <th>1904</th>\n",
              "      <td>579</td>\n",
              "    </tr>\n",
              "  </tbody>\n",
              "</table>\n",
              "</div>"
            ],
            "text/plain": [
              "            count\n",
              "CNSTRCT_YR       \n",
              "1900         7625\n",
              "1901        26574\n",
              "1902          502\n",
              "1903          529\n",
              "1904          579"
            ]
          },
          "execution_count": 68,
          "metadata": {},
          "output_type": "execute_result"
        }
      ],
      "source": [
        "# previewing number of buildings constructed after 1900\n",
        "g.loc[g.index >= 1900].head()"
      ]
    },
    {
      "cell_type": "code",
      "execution_count": null,
      "metadata": {
        "id": "sRwcBN4CmXvL",
        "outputId": "f9cfdd94-0b18-46f4-acda-9ecc64a70fd4"
      },
      "outputs": [
        {
          "data": {
            "image/png": "[encoded data removed]",
            "text/plain": [
              "<Figure size 576x432 with 1 Axes>"
            ]
          },
          "metadata": {
            "needs_background": "light"
          },
          "output_type": "display_data"
        }
      ],
      "source": [
        "fig, ax = plt.subplots(figsize=(8,6))\n",
        "\n",
        "# plotting line chart of number of buildings by 'CNSTRCT_YR' built after 1900\n",
        "ax.plot(g.loc[g.index >= 1900], linewidth=2)\n",
        "\n",
        "# formatting Y axis with comma\n",
        "ax.get_yaxis().set_major_formatter(\n",
        "    matplotlib.ticker.FuncFormatter(lambda x, p: format(int(x), ',')))\n",
        "\n",
        "plt.xlabel('Construction Year', fontsize=12)\n",
        "plt.ylabel('Number of Buildings', fontsize=12)\n",
        "plt.title('Number of Buildings by Construction Year Built After 1900 in NYC', fontsize=12)\n",
        "\n",
        "plt.tight_layout()"
      ]
    },
    {
      "cell_type": "code",
      "execution_count": null,
      "metadata": {
        "id": "p8NMB3TbmXvM",
        "outputId": "24858dea-4828-4383-9f92-c0e5c652dc9a"
      },
      "outputs": [
        {
          "data": {
            "text/html": [
              "<div>\n",
              "<style scoped>\n",
              "    .dataframe tbody tr th:only-of-type {\n",
              "        vertical-align: middle;\n",
              "    }\n",
              "\n",
              "    .dataframe tbody tr th {\n",
              "        vertical-align: top;\n",
              "    }\n",
              "\n",
              "    .dataframe thead th {\n",
              "        text-align: right;\n",
              "    }\n",
              "</style>\n",
              "<table border=\"1\" class=\"dataframe\">\n",
              "  <thead>\n",
              "    <tr style=\"text-align: right;\">\n",
              "      <th></th>\n",
              "      <th>count</th>\n",
              "    </tr>\n",
              "    <tr>\n",
              "      <th>CNSTRCT_YR</th>\n",
              "      <th></th>\n",
              "    </tr>\n",
              "  </thead>\n",
              "  <tbody>\n",
              "    <tr>\n",
              "      <th>1652</th>\n",
              "      <td>1</td>\n",
              "    </tr>\n",
              "    <tr>\n",
              "      <th>1661</th>\n",
              "      <td>2</td>\n",
              "    </tr>\n",
              "    <tr>\n",
              "      <th>1680</th>\n",
              "      <td>1</td>\n",
              "    </tr>\n",
              "    <tr>\n",
              "      <th>1690</th>\n",
              "      <td>1</td>\n",
              "    </tr>\n",
              "    <tr>\n",
              "      <th>1694</th>\n",
              "      <td>1</td>\n",
              "    </tr>\n",
              "  </tbody>\n",
              "</table>\n",
              "</div>"
            ],
            "text/plain": [
              "            count\n",
              "CNSTRCT_YR       \n",
              "1652            1\n",
              "1661            2\n",
              "1680            1\n",
              "1690            1\n",
              "1694            1"
            ]
          },
          "execution_count": 70,
          "metadata": {},
          "output_type": "execute_result"
        }
      ],
      "source": [
        "# previewing first five rows\n",
        "g.head()"
      ]
    },
    {
      "cell_type": "code",
      "execution_count": null,
      "metadata": {
        "id": "vGqkBUxrmXvM",
        "outputId": "a7ef480f-2085-42aa-a957-b773e9624f5e"
      },
      "outputs": [
        {
          "data": {
            "text/html": [
              "<div>\n",
              "<style scoped>\n",
              "    .dataframe tbody tr th:only-of-type {\n",
              "        vertical-align: middle;\n",
              "    }\n",
              "\n",
              "    .dataframe tbody tr th {\n",
              "        vertical-align: top;\n",
              "    }\n",
              "\n",
              "    .dataframe thead th {\n",
              "        text-align: right;\n",
              "    }\n",
              "</style>\n",
              "<table border=\"1\" class=\"dataframe\">\n",
              "  <thead>\n",
              "    <tr style=\"text-align: right;\">\n",
              "      <th></th>\n",
              "      <th>count</th>\n",
              "      <th>cumsum</th>\n",
              "    </tr>\n",
              "    <tr>\n",
              "      <th>CNSTRCT_YR</th>\n",
              "      <th></th>\n",
              "      <th></th>\n",
              "    </tr>\n",
              "  </thead>\n",
              "  <tbody>\n",
              "    <tr>\n",
              "      <th>1652</th>\n",
              "      <td>1</td>\n",
              "      <td>1</td>\n",
              "    </tr>\n",
              "    <tr>\n",
              "      <th>1661</th>\n",
              "      <td>2</td>\n",
              "      <td>3</td>\n",
              "    </tr>\n",
              "    <tr>\n",
              "      <th>1680</th>\n",
              "      <td>1</td>\n",
              "      <td>4</td>\n",
              "    </tr>\n",
              "    <tr>\n",
              "      <th>1690</th>\n",
              "      <td>1</td>\n",
              "      <td>5</td>\n",
              "    </tr>\n",
              "    <tr>\n",
              "      <th>1694</th>\n",
              "      <td>1</td>\n",
              "      <td>6</td>\n",
              "    </tr>\n",
              "  </tbody>\n",
              "</table>\n",
              "</div>"
            ],
            "text/plain": [
              "            count  cumsum\n",
              "CNSTRCT_YR               \n",
              "1652            1       1\n",
              "1661            2       3\n",
              "1680            1       4\n",
              "1690            1       5\n",
              "1694            1       6"
            ]
          },
          "execution_count": 71,
          "metadata": {},
          "output_type": "execute_result"
        }
      ],
      "source": [
        "# calculating the cumulative sum of buildings by 'CNSTRCT_YR'\n",
        "g['cumsum'] = g['count'].cumsum()\n",
        "\n",
        "# previewing first five rows\n",
        "g.head()"
      ]
    },
    {
      "cell_type": "code",
      "execution_count": null,
      "metadata": {
        "id": "jGuEsEePmXvT",
        "outputId": "6b5e1f33-242c-4648-f7f0-b81103459cce"
      },
      "outputs": [
        {
          "data": {
            "image/png": "[encoded data removed]",
            "text/plain": [
              "<Figure size 576x432 with 1 Axes>"
            ]
          },
          "metadata": {
            "needs_background": "light"
          },
          "output_type": "display_data"
        }
      ],
      "source": [
        "fig, ax = plt.subplots(figsize=(8,6))\n",
        "\n",
        "# plotting line chart of cumulative number of buildings by 'CNSTRCT_YR'\n",
        "ax.plot(g['cumsum'], linewidth=2)\n",
        "\n",
        "# formatting Y axis with comma\n",
        "ax.get_yaxis().set_major_formatter(\n",
        "    matplotlib.ticker.FuncFormatter(lambda x, p: format(int(x), ',')))\n",
        "\n",
        "plt.xlabel('Construction Year', fontsize=12)\n",
        "plt.ylabel('Cumulative Number of Buildings', fontsize=12)\n",
        "plt.title('Cumulative Number of Buildings by Construction Year in NYC', fontsize=12)\n",
        "\n",
        "plt.tight_layout()"
      ]
    },
    {
      "cell_type": "code",
      "execution_count": null,
      "metadata": {
        "id": "MZM5bj23mXvT",
        "outputId": "228dd32b-7250-4ef4-fc9b-c90097bc4b2a"
      },
      "outputs": [
        {
          "data": {
            "image/png": "[encoded data removed]",
            "text/plain": [
              "<Figure size 576x432 with 1 Axes>"
            ]
          },
          "metadata": {
            "needs_background": "light"
          },
          "output_type": "display_data"
        }
      ],
      "source": [
        "fig, ax = plt.subplots(figsize=(8,6))\n",
        "\n",
        "# plotting line chart of cumulative number of buildings by 'CNSTRCT_YR' built after 1900\n",
        "ax.plot(g[g.index >= 1900]['cumsum'], linewidth=2)\n",
        "\n",
        "# formatting Y axis with comma\n",
        "ax.get_yaxis().set_major_formatter(\n",
        "    matplotlib.ticker.FuncFormatter(lambda x, p: format(int(x), ',')))\n",
        "\n",
        "plt.xlabel('Construction Year', fontsize=12)\n",
        "plt.ylabel('Cumulative Number of Buildings', fontsize=12)\n",
        "plt.title('Cumulative Number of Buildings by Construction Year Built After 1900 in NYC', fontsize=12)\n",
        "\n",
        "plt.tight_layout()"
      ]
    },
    {
      "cell_type": "markdown",
      "metadata": {
        "id": "xp3okwQBmXvU"
      },
      "source": [
        "## 5.2 Attempting to Identify the Oldest Building in the Dataset"
      ]
    },
    {
      "cell_type": "code",
      "execution_count": null,
      "metadata": {
        "scrolled": true,
        "id": "_U75jR1PmXvU",
        "outputId": "5e0d7364-7cd0-41f5-f41e-5a495b5f3cfa"
      },
      "outputs": [
        {
          "data": {
            "text/html": [
              "<div>\n",
              "<style scoped>\n",
              "    .dataframe tbody tr th:only-of-type {\n",
              "        vertical-align: middle;\n",
              "    }\n",
              "\n",
              "    .dataframe tbody tr th {\n",
              "        vertical-align: top;\n",
              "    }\n",
              "\n",
              "    .dataframe thead th {\n",
              "        text-align: right;\n",
              "    }\n",
              "</style>\n",
              "<table border=\"1\" class=\"dataframe\">\n",
              "  <thead>\n",
              "    <tr style=\"text-align: right;\">\n",
              "      <th></th>\n",
              "      <th>the_geom</th>\n",
              "      <th>NAME</th>\n",
              "      <th>BIN</th>\n",
              "      <th>CNSTRCT_YR</th>\n",
              "      <th>LSTMODDATE</th>\n",
              "      <th>LSTSTATYPE</th>\n",
              "      <th>DOITT_ID</th>\n",
              "      <th>HEIGHTROOF</th>\n",
              "      <th>FEAT_CODE</th>\n",
              "      <th>GROUNDELEV</th>\n",
              "      <th>SHAPE_AREA</th>\n",
              "      <th>SHAPE_LEN</th>\n",
              "      <th>BASE_BBL</th>\n",
              "      <th>MPLUTO_BBL</th>\n",
              "      <th>GEOMSOURCE</th>\n",
              "    </tr>\n",
              "  </thead>\n",
              "  <tbody>\n",
              "    <tr>\n",
              "      <th>1043056</th>\n",
              "      <td>MULTIPOLYGON (((-73.92083460429942 40.64439765...</td>\n",
              "      <td>Pieter Claesen Wyckoff House</td>\n",
              "      <td>3221967</td>\n",
              "      <td>1652.0</td>\n",
              "      <td>01/28/2020 12:00:00 AM</td>\n",
              "      <td>Constructed</td>\n",
              "      <td>550741</td>\n",
              "      <td>24.54</td>\n",
              "      <td>2100.0</td>\n",
              "      <td>14.0</td>\n",
              "      <td>0</td>\n",
              "      <td>0</td>\n",
              "      <td>3079170009</td>\n",
              "      <td>3079170009</td>\n",
              "      <td>Photogramm</td>\n",
              "    </tr>\n",
              "    <tr>\n",
              "      <th>775597</th>\n",
              "      <td>MULTIPOLYGON (((-73.8247828135812 40.762948467...</td>\n",
              "      <td>Bowne House</td>\n",
              "      <td>4113403</td>\n",
              "      <td>1661.0</td>\n",
              "      <td>08/22/2017 12:00:00 AM</td>\n",
              "      <td>Constructed</td>\n",
              "      <td>776399</td>\n",
              "      <td>26.12</td>\n",
              "      <td>2100.0</td>\n",
              "      <td>64.0</td>\n",
              "      <td>0</td>\n",
              "      <td>0</td>\n",
              "      <td>4050130006</td>\n",
              "      <td>4050130006</td>\n",
              "      <td>Photogramm</td>\n",
              "    </tr>\n",
              "    <tr>\n",
              "      <th>57613</th>\n",
              "      <td>MULTIPOLYGON (((-74.25311647359251 40.50309522...</td>\n",
              "      <td>Conference House</td>\n",
              "      <td>5087656</td>\n",
              "      <td>1680.0</td>\n",
              "      <td>04/13/2020 12:00:00 AM</td>\n",
              "      <td>Constructed</td>\n",
              "      <td>702698</td>\n",
              "      <td>38.64</td>\n",
              "      <td>2100.0</td>\n",
              "      <td>38.0</td>\n",
              "      <td>0</td>\n",
              "      <td>0</td>\n",
              "      <td>5078570090</td>\n",
              "      <td>5078570090</td>\n",
              "      <td>Photogramm</td>\n",
              "    </tr>\n",
              "    <tr>\n",
              "      <th>569579</th>\n",
              "      <td>MULTIPOLYGON (((-74.06293248238293 40.61512359...</td>\n",
              "      <td>Alice Austen House Museum</td>\n",
              "      <td>5042188</td>\n",
              "      <td>1690.0</td>\n",
              "      <td>04/13/2020 12:00:00 AM</td>\n",
              "      <td>Alteration</td>\n",
              "      <td>806241</td>\n",
              "      <td>22.26</td>\n",
              "      <td>2100.0</td>\n",
              "      <td>21.0</td>\n",
              "      <td>0</td>\n",
              "      <td>0</td>\n",
              "      <td>5028300049</td>\n",
              "      <td>5028300049</td>\n",
              "      <td>Photogramm</td>\n",
              "    </tr>\n",
              "    <tr>\n",
              "      <th>550166</th>\n",
              "      <td>MULTIPOLYGON (((-74.01121069434295 40.70334382...</td>\n",
              "      <td>Fraunces Tavern</td>\n",
              "      <td>1078965</td>\n",
              "      <td>1719.0</td>\n",
              "      <td>01/28/2020 12:00:00 AM</td>\n",
              "      <td>Constructed</td>\n",
              "      <td>299639</td>\n",
              "      <td>47.83</td>\n",
              "      <td>2100.0</td>\n",
              "      <td>7.0</td>\n",
              "      <td>0</td>\n",
              "      <td>0</td>\n",
              "      <td>1000070035</td>\n",
              "      <td>1000070035</td>\n",
              "      <td>Photogramm</td>\n",
              "    </tr>\n",
              "  </tbody>\n",
              "</table>\n",
              "</div>"
            ],
            "text/plain": [
              "                                                  the_geom  \\\n",
              "1043056  MULTIPOLYGON (((-73.92083460429942 40.64439765...   \n",
              "775597   MULTIPOLYGON (((-73.8247828135812 40.762948467...   \n",
              "57613    MULTIPOLYGON (((-74.25311647359251 40.50309522...   \n",
              "569579   MULTIPOLYGON (((-74.06293248238293 40.61512359...   \n",
              "550166   MULTIPOLYGON (((-74.01121069434295 40.70334382...   \n",
              "\n",
              "                                 NAME      BIN  CNSTRCT_YR  \\\n",
              "1043056  Pieter Claesen Wyckoff House  3221967      1652.0   \n",
              "775597                    Bowne House  4113403      1661.0   \n",
              "57613                Conference House  5087656      1680.0   \n",
              "569579      Alice Austen House Museum  5042188      1690.0   \n",
              "550166                Fraunces Tavern  1078965      1719.0   \n",
              "\n",
              "                     LSTMODDATE   LSTSTATYPE  DOITT_ID  HEIGHTROOF  FEAT_CODE  \\\n",
              "1043056  01/28/2020 12:00:00 AM  Constructed    550741       24.54     2100.0   \n",
              "775597   08/22/2017 12:00:00 AM  Constructed    776399       26.12     2100.0   \n",
              "57613    04/13/2020 12:00:00 AM  Constructed    702698       38.64     2100.0   \n",
              "569579   04/13/2020 12:00:00 AM   Alteration    806241       22.26     2100.0   \n",
              "550166   01/28/2020 12:00:00 AM  Constructed    299639       47.83     2100.0   \n",
              "\n",
              "         GROUNDELEV  SHAPE_AREA  SHAPE_LEN    BASE_BBL  MPLUTO_BBL  GEOMSOURCE  \n",
              "1043056        14.0           0          0  3079170009  3079170009  Photogramm  \n",
              "775597         64.0           0          0  4050130006  4050130006  Photogramm  \n",
              "57613          38.0           0          0  5078570090  5078570090  Photogramm  \n",
              "569579         21.0           0          0  5028300049  5028300049  Photogramm  \n",
              "550166          7.0           0          0  1000070035  1000070035  Photogramm  "
            ]
          },
          "execution_count": 74,
          "metadata": {},
          "output_type": "execute_result"
        }
      ],
      "source": [
        "# sorting by the 'CNSTRCT_YR' in ascending order and\n",
        "# dropping records that don't have a building name (i.e. NAME)\n",
        "\n",
        "building_df.sort_values(by='CNSTRCT_YR').dropna(subset=['NAME']).head()"
      ]
    },
    {
      "cell_type": "code",
      "execution_count": null,
      "metadata": {
        "id": "sZVOjnGAmXvV",
        "outputId": "822071ef-0173-4157-f9ab-750f0fda23c2"
      },
      "outputs": [
        {
          "data": {
            "text/html": [
              "<div>\n",
              "<style scoped>\n",
              "    .dataframe tbody tr th:only-of-type {\n",
              "        vertical-align: middle;\n",
              "    }\n",
              "\n",
              "    .dataframe tbody tr th {\n",
              "        vertical-align: top;\n",
              "    }\n",
              "\n",
              "    .dataframe thead th {\n",
              "        text-align: right;\n",
              "    }\n",
              "</style>\n",
              "<table border=\"1\" class=\"dataframe\">\n",
              "  <thead>\n",
              "    <tr style=\"text-align: right;\">\n",
              "      <th></th>\n",
              "      <th>the_geom</th>\n",
              "      <th>NAME</th>\n",
              "      <th>BIN</th>\n",
              "      <th>CNSTRCT_YR</th>\n",
              "      <th>LSTMODDATE</th>\n",
              "      <th>LSTSTATYPE</th>\n",
              "      <th>DOITT_ID</th>\n",
              "      <th>HEIGHTROOF</th>\n",
              "      <th>FEAT_CODE</th>\n",
              "      <th>GROUNDELEV</th>\n",
              "      <th>SHAPE_AREA</th>\n",
              "      <th>SHAPE_LEN</th>\n",
              "      <th>BASE_BBL</th>\n",
              "      <th>MPLUTO_BBL</th>\n",
              "      <th>GEOMSOURCE</th>\n",
              "    </tr>\n",
              "  </thead>\n",
              "  <tbody>\n",
              "    <tr>\n",
              "      <th>1043056</th>\n",
              "      <td>MULTIPOLYGON (((-73.92083460429942 40.64439765...</td>\n",
              "      <td>Pieter Claesen Wyckoff House</td>\n",
              "      <td>3221967</td>\n",
              "      <td>1652.0</td>\n",
              "      <td>01/28/2020 12:00:00 AM</td>\n",
              "      <td>Constructed</td>\n",
              "      <td>550741</td>\n",
              "      <td>24.54</td>\n",
              "      <td>2100.0</td>\n",
              "      <td>14.0</td>\n",
              "      <td>0</td>\n",
              "      <td>0</td>\n",
              "      <td>3079170009</td>\n",
              "      <td>3079170009</td>\n",
              "      <td>Photogramm</td>\n",
              "    </tr>\n",
              "  </tbody>\n",
              "</table>\n",
              "</div>"
            ],
            "text/plain": [
              "                                                  the_geom  \\\n",
              "1043056  MULTIPOLYGON (((-73.92083460429942 40.64439765...   \n",
              "\n",
              "                                 NAME      BIN  CNSTRCT_YR  \\\n",
              "1043056  Pieter Claesen Wyckoff House  3221967      1652.0   \n",
              "\n",
              "                     LSTMODDATE   LSTSTATYPE  DOITT_ID  HEIGHTROOF  FEAT_CODE  \\\n",
              "1043056  01/28/2020 12:00:00 AM  Constructed    550741       24.54     2100.0   \n",
              "\n",
              "         GROUNDELEV  SHAPE_AREA  SHAPE_LEN    BASE_BBL  MPLUTO_BBL  GEOMSOURCE  \n",
              "1043056        14.0           0          0  3079170009  3079170009  Photogramm  "
            ]
          },
          "execution_count": 75,
          "metadata": {},
          "output_type": "execute_result"
        }
      ],
      "source": [
        "# identifying the oldest building with a building name in this dataset and\n",
        "oldest = building_df.sort_values(by='CNSTRCT_YR').dropna(subset=['NAME']).head(1)\n",
        "\n",
        "oldest"
      ]
    },
    {
      "cell_type": "markdown",
      "metadata": {
        "id": "d0A289jfmXvW"
      },
      "source": [
        "### We will use the Pieter Claesen Wyckoff House as the oldest building in this dataset"
      ]
    },
    {
      "cell_type": "markdown",
      "metadata": {
        "id": "INl8kYcbmXva"
      },
      "source": [
        "**Screenshot of Pieter Claesen Wyckoff House from Wikipedia:**\n",
        "\n",
        "https://en.wikipedia.org/wiki/Wyckoff_House"
      ]
    },
    {
      "cell_type": "markdown",
      "metadata": {
        "id": "AqYuV-7AmXvc"
      },
      "source": [
        "![Pieter-Claesen-Wyckoff-House](images/Pieter-Claesen-Wyckoff-House.png)"
      ]
    },
    {
      "cell_type": "markdown",
      "metadata": {
        "id": "MqZpC4czmXvd"
      },
      "source": [
        "# 6. Conclusion"
      ]
    },
    {
      "cell_type": "markdown",
      "metadata": {
        "id": "2qVMSq0BmXve"
      },
      "source": [
        "In this notebook, we reviewed various ways to inspect, clean, wrangle, and detect outliers in your data.  Specifically, we focused on ways to inspect the shape (number of rows, columns) of your data, fill in or replace incorrect values with the median, and detect outliers with box plots. This step is crucial if you are interested in modeling or predicting future values. In Part III, we will focus on data visualization."
      ]
    }
  ],
  "metadata": {
    "kernelspec": {
      "display_name": "Python 3 (ipykernel)",
      "language": "python",
      "name": "python3"
    },
    "language_info": {
      "codemirror_mode": {
        "name": "ipython",
        "version": 3
      },
      "file_extension": ".py",
      "mimetype": "text/x-python",
      "name": "python",
      "nbconvert_exporter": "python",
      "pygments_lexer": "ipython3",
      "version": "3.8.13"
    },
    "colab": {
      "provenance": [],
      "include_colab_link": true
    }
  },
  "nbformat": 4,
  "nbformat_minor": 0
}