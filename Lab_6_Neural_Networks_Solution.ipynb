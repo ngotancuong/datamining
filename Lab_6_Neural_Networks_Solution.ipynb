{
  "cells": [
    {
      "cell_type": "markdown",
      "metadata": {
        "id": "view-in-github",
        "colab_type": "text"
      },
      "source": [
        "<a href=\"https://colab.research.google.com/github/ngotancuong/datamining/blob/main/Lab_6_Neural_Networks_Solution.ipynb\" target=\"_parent\"><img src=\"https://colab.research.google.com/assets/colab-badge.svg\" alt=\"Open In Colab\"/></a>"
      ]
    },
    {
      "cell_type": "markdown",
      "metadata": {
        "id": "TL5y5fY9Jy_x"
      },
      "source": [
        "# Lab 7: Neural networks\n",
        "\n",
        "In this lab we will build dense neural networks on the MNIST dataset.\n",
        "\n",
        "Make sure you read the tutorial for this lab first."
      ]
    },
    {
      "cell_type": "markdown",
      "metadata": {
        "id": "sEKqFvpe4Xcu"
      },
      "source": [
        "## Load the data and create train-test splits"
      ]
    },
    {
      "cell_type": "code",
      "execution_count": null,
      "metadata": {
        "id": "weu7nkXq4Xcv"
      },
      "outputs": [],
      "source": [
        "# Global imports and settings\n",
        "%matplotlib inline\n",
        "import numpy as np\n",
        "import pandas as pd\n",
        "import openml as oml\n",
        "import os\n",
        "import matplotlib.pyplot as plt\n",
        "import tensorflow.keras as keras\n",
        "print(\"Using Keras\",keras.__version__)\n",
        "os.environ['TF_CPP_MIN_LOG_LEVEL'] = \"2\""
      ]
    },
    {
      "cell_type": "code",
      "execution_count": null,
      "metadata": {
        "id": "3i-Ivpug4Xcx"
      },
      "outputs": [],
      "source": [
        "# Download MNIST data. Takes a while the first time.\n",
        "mnist = oml.datasets.get_dataset(554)\n",
        "X, y, _, _ = mnist.get_data(target=mnist.default_target_attribute, dataset_format='array');\n",
        "X = X.reshape(70000, 28, 28)\n",
        "\n",
        "# Take some random examples\n",
        "from random import randint\n",
        "fig, axes = plt.subplots(1, 5,  figsize=(10, 5))\n",
        "for i in range(5):\n",
        "    n = randint(0,70000)\n",
        "    axes[i].imshow(X[n], cmap=plt.cm.gray_r)\n",
        "    axes[i].set_xticks([])\n",
        "    axes[i].set_yticks([])\n",
        "    axes[i].set_xlabel(\"{}\".format(y[n]))\n",
        "plt.show();"
      ]
    },
    {
      "cell_type": "code",
      "execution_count": null,
      "metadata": {
        "id": "JZlvdpyYKx7V"
      },
      "outputs": [],
      "source": [
        "# For MNIST, there exists a predefined stratified train-test split of 60000-10000. We therefore don't shuffle or stratify here.\n",
        "from sklearn.model_selection import train_test_split\n",
        "X_train, X_test, y_train, y_test = train_test_split(X, y, train_size=60000, random_state=0)"
      ]
    },
    {
      "cell_type": "markdown",
      "metadata": {
        "id": "8ldP-5z1B2vL"
      },
      "source": [
        "## Exercise 1: Preprocessing\n",
        "* Normalize the data: map each feature value from its current representation (an integer between 0 and 255) to a floating-point value between 0 and 1.0.\n",
        "* Store the floating-point values in `x_train_normalized` and `x_test_normalized`.\n",
        "* Map the class label to a on-hot-encoded value. Store in `y_train_encoded` and `y_test_encoded`."
      ]
    },
    {
      "cell_type": "code",
      "execution_count": null,
      "metadata": {
        "cellView": "form",
        "id": "g8HC-TDgB1D1"
      },
      "outputs": [],
      "source": [
        "# Solution\n",
        "x_train_normalized = X_train / 255.0\n",
        "x_test_normalized = X_test / 255.0\n",
        "\n",
        "from tensorflow.keras.utils import to_categorical\n",
        "y_train_encoded = to_categorical(y_train)\n",
        "y_test_encoded = to_categorical(y_test)"
      ]
    },
    {
      "cell_type": "markdown",
      "metadata": {
        "id": "3014ezH3C7jT"
      },
      "source": [
        "## Exercise 2: Create a deep neural net model\n",
        "\n",
        "Implement a `create_model` function which defines the topography of the deep neural net, specifying the following:\n",
        "\n",
        "* The number of layers in the deep neural net: Use 2 dense layers for now.\n",
        "* The number of nodes in each layer: these are parameters of your function.\n",
        "* Any regularization layers. Add at least one dropout layer.\n",
        "* The optimizer and learning rate. Make the learning rate a parameter of your function as well.\n",
        "\n",
        "Consider:\n",
        "* What should be the shape of the input layer?\n",
        "* Which activation function you will need for the last layer, since this is a 10-class classification problem?"
      ]
    },
    {
      "cell_type": "code",
      "execution_count": null,
      "metadata": {
        "id": "IkMOAnuC4Xc2"
      },
      "outputs": [],
      "source": [
        "### Create and compile a 'deep' neural net\n",
        "def create_model(layer_1_units=32, layer_2_units=10, learning_rate=0.001, dropout_rate=0.3):\n",
        "    pass"
      ]
    },
    {
      "cell_type": "code",
      "execution_count": null,
      "metadata": {
        "cellView": "both",
        "id": "pedD5GhlDC-y"
      },
      "outputs": [],
      "source": [
        "# Solution\n",
        "def create_model(layer_1_units=32, layer_2_units=10, learning_rate=0.001, dropout_rate=0.3):\n",
        "\n",
        "    model = keras.models.Sequential()\n",
        "\n",
        "    # The features are stored in a two-dimensional 28X28 array.\n",
        "    # Flatten that two-dimensional array into a a one-dimensional\n",
        "    # 784-element array.\n",
        "    model.add(keras.layers.Flatten(input_shape=(28, 28)))\n",
        "\n",
        "    # Define the first hidden layer.\n",
        "    model.add(keras.layers.Dense(units=32, activation='relu'))\n",
        "\n",
        "    # Define a dropout regularization layer.\n",
        "    model.add(keras.layers.Dropout(rate=dropout_rate))\n",
        "\n",
        "    # Define the output layer. The units parameter is set to 10 because\n",
        "    # the model must choose among 10 possible output values (representing\n",
        "    # the digits from 0 to 9, inclusive).\n",
        "    model.add(keras.layers.Dense(units=10, activation='softmax'))\n",
        "\n",
        "    # Construct the layers into a model that TensorFlow can execute.\n",
        "    # Notice that the loss function for multi-class classification\n",
        "    # is different than the loss function for binary classification.\n",
        "    # Using Adam here. RMSProp would also be fine\n",
        "    model.compile(optimizer=keras.optimizers.Adam(lr=learning_rate),\n",
        "                  loss=\"categorical_crossentropy\", metrics=['accuracy'])\n",
        "\n",
        "    return model"
      ]
    },
    {
      "cell_type": "markdown",
      "metadata": {
        "id": "3MxwnYJK4Xc3"
      },
      "source": [
        "## Exercise 3: Create a training function\n",
        "Implement a `train_model` function which trains and evaluates a given model.\n",
        "It should do a train-validation split and report the train and validation loss and accuracy, and return the training history."
      ]
    },
    {
      "cell_type": "code",
      "execution_count": null,
      "metadata": {
        "id": "5Ct-OSI94Xc3"
      },
      "outputs": [],
      "source": [
        "def train_model(model, X, y, validation_split=0.1, epochs=10, batch_size=None):\n",
        "    \"\"\"\n",
        "    model: the model to train\n",
        "    X, y: the training data and labels\n",
        "    validation_split: the percentage of data set aside for the validation set\n",
        "    epochs: the number of epochs to train for\n",
        "    batch_size: the batch size for minibatch SGD\n",
        "    \"\"\"\n",
        "    pass"
      ]
    },
    {
      "cell_type": "code",
      "execution_count": null,
      "metadata": {
        "id": "H22ngcCO4Xc4"
      },
      "outputs": [],
      "source": [
        "# Solution\n",
        "def train_model(model, X, y, validation_split=0.1, epochs=10, batch_size=None):\n",
        "    \"\"\"\n",
        "    model: the model to train\n",
        "    X, y: the training data and labels\n",
        "    validation_split: the percentage of data set aside for the validation set\n",
        "    epochs: the number of epochs to train for\n",
        "    batch_size: the batch size for minibatch SGD\n",
        "    \"\"\"\n",
        "    X_train, x_val, y_train, y_val = train_test_split(X, y, test_size=validation_split, shuffle=True, stratify=y, random_state=0)\n",
        "\n",
        "    history = model.fit(x=X_train, y=y_train, batch_size=batch_size, verbose=0,\n",
        "                        epochs=epochs, shuffle=True, validation_data=(x_val, y_val))\n",
        "    return history"
      ]
    },
    {
      "cell_type": "markdown",
      "metadata": {
        "id": "D-IXYVfvM4gD"
      },
      "source": [
        "## Exercise 4: Evaluate the model\n",
        "\n",
        "Train the model with a learning rate of 0.003, 50 epochs, batch size 4000, and a validation set that is 20% of the total training data.\n",
        "Use default settings otherwise. Plot the learning curve of the loss, validation loss, accuracy, and validation accuracy. Finally, report the performance on the test set.\n",
        "\n",
        "Feel free to use the plotting function below, or implement the callback from the tutorial to see results in real time."
      ]
    },
    {
      "cell_type": "code",
      "execution_count": null,
      "metadata": {
        "cellView": "form",
        "id": "QF0BFRXTOeR3"
      },
      "outputs": [],
      "source": [
        "# Helper plotting function\n",
        "#\n",
        "# history: the history object returned by the fit function\n",
        "# list_of_metrics: the metrics to plot\n",
        "def plot_curve(history, list_of_metrics):\n",
        "\n",
        "    plt.figure()\n",
        "    plt.xlabel(\"Epoch\")\n",
        "    plt.ylabel(\"Value\")\n",
        "\n",
        "    epochs = history.epoch\n",
        "    hist = pd.DataFrame(history.history)\n",
        "\n",
        "    for m in list_of_metrics:\n",
        "        x = hist[m]\n",
        "        plt.plot(epochs[1:], x[1:], label=m, lw=2)\n",
        "\n",
        "    plt.legend()"
      ]
    },
    {
      "cell_type": "code",
      "execution_count": null,
      "metadata": {
        "cellView": "both",
        "id": "nj3v5EKQFY8s"
      },
      "outputs": [],
      "source": [
        "# Solution\n",
        "# Settings\n",
        "learning_rate = 0.003\n",
        "epochs = 50\n",
        "batch_size = 4000\n",
        "validation_split = 0.2\n",
        "\n",
        "# Create the model the model's topography.\n",
        "model = create_model(learning_rate)\n",
        "\n",
        "# Train the model on the normalized training set.\n",
        "history = train_model(model, x_train_normalized, y_train_encoded,\n",
        "                      validation_split, epochs, batch_size)\n",
        "\n",
        "# Plot a graph of the metric vs. epochs.\n",
        "list_of_metrics = ['accuracy','val_accuracy','loss','val_loss']\n",
        "plot_curve(history, list_of_metrics)\n",
        "\n",
        "# Evaluate against the test set.\n",
        "print(\"\\n Evaluation on the test set [loss, accuracy]:\")\n",
        "model.evaluate(x=x_test_normalized, y=y_test_encoded,\n",
        "               batch_size=batch_size, verbose=0)"
      ]
    },
    {
      "cell_type": "markdown",
      "metadata": {
        "id": "Y5IKmk7D49_n"
      },
      "source": [
        "## Exercise 5: Optimize the model\n",
        "\n",
        "Try to optimize the model, either manually or with a tuning method. At least optimize the following:\n",
        "* the number of hidden layers\n",
        "* the number of nodes in each layer\n",
        "* the amount of dropout layers and the dropout rate\n",
        "\n",
        "Try to reach at least 96% accuracy against the test set."
      ]
    },
    {
      "cell_type": "code",
      "execution_count": null,
      "metadata": {
        "cellView": "form",
        "id": "wYG5qXpP5a9n"
      },
      "outputs": [],
      "source": [
        "# Solution\n",
        "# For an example with random search, see the tutorial\n",
        "# Here, we search manually, following the following hunches:\n",
        "#   * Adding more nodes to the first hidden layer will improve accuracy. The input size is 784, so we should not make it too small\n",
        "#   * Adding a second hidden layer generally improves accuracy.\n",
        "#   * For larger models (more nodes), we need to regularize more (more dropout)\n",
        "\n",
        "batch_size = 4000 # Pretty high, but making this smaller doesn't seem to help much.\n",
        "epochs = 70\n",
        "\n",
        "# Create the model the model's topography.\n",
        "model = create_model(layer_1_units=800, layer_2_units=800, learning_rate=0.003, dropout_rate= 0.15)\n",
        "\n",
        "# Train the model on the normalized training set.\n",
        "history = train_model(model, x_train_normalized, y_train_encoded,\n",
        "                      validation_split, epochs, batch_size)\n",
        "\n",
        "# Plot a graph of the metric vs. epochs.\n",
        "list_of_metrics = ['accuracy','val_accuracy','loss','val_loss']\n",
        "plot_curve(history, list_of_metrics)\n",
        "\n",
        "# Evaluate against the test set.\n",
        "print(\"\\n Evaluation on the test set (accuracy):\")\n",
        "model.evaluate(x=x_test_normalized, y=y_test_encoded,\n",
        "               batch_size=batch_size, verbose=0)[1]"
      ]
    },
    {
      "cell_type": "code",
      "execution_count": null,
      "metadata": {
        "id": "9jrcA2dM4Xc7"
      },
      "outputs": [],
      "source": [
        "# Solution with tuning. Takes a long time, and the best found solution isn't better.\n",
        "# The maximum number of nodes was set to 265. Setting it higher may yield better result.\n",
        "\n",
        "from tensorflow.keras import optimizers\n",
        "import keras_tuner as kt\n",
        "\n",
        "\n",
        "def build_model(hp):\n",
        "    model = keras.models.Sequential()\n",
        "\n",
        "    # Tune the number of units in the dense layers\n",
        "    hp_units = hp.Int('units', min_value = 32, max_value = 265, step = 32)\n",
        "    hp_units2 = hp.Int('units2', min_value = 32, max_value = 265, step = 32)\n",
        "    hp_dropout = hp.Float('dropout', min_value = 0.1, max_value = 0.5, step = 0.1)\n",
        "\n",
        "    model.add(keras.layers.Flatten(input_shape=(28, 28)))\n",
        "    model.add(keras.layers.Dense(units = hp_units, activation = 'relu'))\n",
        "    model.add(keras.layers.Dropout(rate= hp_dropout))\n",
        "    model.add(keras.layers.Dense(units = hp_units2, activation = 'relu'))\n",
        "    model.add(keras.layers.Dense(10))\n",
        "\n",
        "    model.compile(optimizer = 'rmsprop',\n",
        "                  loss = 'categorical_crossentropy',\n",
        "                  metrics = ['accuracy'])\n",
        "    return model\n",
        "\n",
        "tuner = kt.RandomSearch(build_model, max_trials=5, objective = 'val_accuracy', project_name='mnist_tuning')\n",
        "\n",
        "X_train, x_val, y_train, y_val = train_test_split(x_train_normalized, y_train_encoded, test_size=0.1, shuffle=True, stratify=y_train_encoded, random_state=0)\n",
        "tuner.search(x=X_train, y=y_train, epochs = 50, validation_data = (x_val, y_val), verbose=0)\n",
        "\n",
        "# Get the optimal hyperparameters\n",
        "best_hps = tuner.get_best_hyperparameters(num_trials = 1)[0]"
      ]
    },
    {
      "cell_type": "code",
      "execution_count": null,
      "metadata": {
        "id": "bjyPR42X4Xc7"
      },
      "outputs": [],
      "source": []
    }
  ],
  "metadata": {
    "colab": {
      "private_outputs": true,
      "provenance": [],
      "include_colab_link": true
    },
    "kernelspec": {
      "display_name": "Python 3 (ipykernel)",
      "language": "python",
      "name": "python3"
    },
    "language_info": {
      "codemirror_mode": {
        "name": "ipython",
        "version": 3
      },
      "file_extension": ".py",
      "mimetype": "text/x-python",
      "name": "python",
      "nbconvert_exporter": "python",
      "pygments_lexer": "ipython3",
      "version": "3.9.7"
    }
  },
  "nbformat": 4,
  "nbformat_minor": 0
}